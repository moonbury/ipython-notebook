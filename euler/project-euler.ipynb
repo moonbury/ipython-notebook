{
 "cells": [
  {
   "cell_type": "code",
   "execution_count": 1,
   "metadata": {
    "collapsed": false
   },
   "outputs": [
    {
     "name": "stdout",
     "output_type": "stream",
     "text": [
      "result 6857 returned after 37.310863018 seconds (100,000 iterations).\n"
     ]
    }
   ],
   "source": [
    "# problem 3\n",
    "import time\n",
    " \n",
    "def largest_prime_factor(n):\n",
    " \n",
    "    largest_factor = 1\n",
    " \n",
    "    # remove any factors of 2 first\n",
    "    while n % 2 == 0:\n",
    "        largest_factor = 2\n",
    "        n = n/2\n",
    " \n",
    "    # now look at odd factors\n",
    "    p = 3\n",
    "    while n != 1:\n",
    "        while n % p == 0:\n",
    "            largest_factor = p\n",
    "            n = n/p\n",
    "        p += 2\n",
    " \n",
    "    return largest_factor\n",
    " \n",
    "start = time.time()\n",
    "for i in range(100000): a = largest_prime_factor(600851475143)\n",
    "elapsed = (time.time() - start)\n",
    " \n",
    "print \"result %s returned after %s seconds (100,000 iterations).\" % (a, elapsed)"
   ]
  },
  {
   "cell_type": "code",
   "execution_count": null,
   "metadata": {
    "collapsed": false
   },
   "outputs": [],
   "source": [
    "# problem 1\n",
    "sum(range(3,1000,3)) + sum(range(5,1000,5)) - sum(range(15,1000,15))"
   ]
  },
  {
   "cell_type": "code",
   "execution_count": null,
   "metadata": {
    "collapsed": false
   },
   "outputs": [],
   "source": [
    "# problem 2\n",
    "fibonacci_numbers = [0, 1]\n",
    "even_fib = []\n",
    "total = 0\n",
    "for i in range(2,100):\n",
    "    new_number = fibonacci_numbers[i-1]+fibonacci_numbers[i-2]\n",
    "    if new_number > 4000000:\n",
    "        break\n",
    "        \n",
    "    fibonacci_numbers.append(new_number)\n",
    "    \n",
    "    if new_number %2 == 0:\n",
    "        even_fib.append(new_number)\n",
    "        \n",
    "print even_fib\n",
    "print sum(even_fib)"
   ]
  },
  {
   "cell_type": "code",
   "execution_count": null,
   "metadata": {
    "collapsed": false
   },
   "outputs": [],
   "source": [
    "# problem 4\n",
    "\n",
    "def isPalindrome(a):\n",
    "    b = a\n",
    "    reversed = 0\n",
    "    if a < 0:\n",
    "        return(\"We are not processing negative numbers: \"+ str(a))\n",
    "    elif b < 10:\n",
    "        print(\"There is no point in reversing the digit: \", a)\n",
    "    else:\n",
    "        while b > 0:\n",
    "            tail = b % 10\n",
    "            reversed = reversed*10 + tail\n",
    "            b //= 10\n",
    "    if reversed == a:\n",
    "        return True #return(\"Reversed number equals the initial number: \"+ str(a))\n",
    "    else:\n",
    "        return False #return(\"Reversed number is NOT the same as initial number: \"+ str(a))\n",
    "    \n",
    "n = 999\n",
    "m = 999\n",
    "largest = 0\n",
    "while n >= 900:\n",
    "    while m >= 900:\n",
    "        prod = n*m\n",
    "        #print \"%s * %s = %s\", n,m,prod\n",
    "        if isPalindrome(prod) :\n",
    "            print \"%d * %d = %d\" % (n,m,prod)            \n",
    "            if prod > largest :\n",
    "                largest = prod\n",
    "            \n",
    "        m=m-1\n",
    "    m = 999\n",
    "    n=n-1\n",
    "\n",
    "\n",
    "print largest"
   ]
  },
  {
   "cell_type": "code",
   "execution_count": 4,
   "metadata": {
    "collapsed": false
   },
   "outputs": [
    {
     "data": {
      "text/plain": [
       "1"
      ]
     },
     "execution_count": 4,
     "metadata": {},
     "output_type": "execute_result"
    }
   ],
   "source": [
    "# problem 5\n",
    "\n",
    "def getPrime(n): \n",
    "    if n==2: return [2]\n",
    "    elif n<2: return []\n",
    "    s=range(3,n+1,2)\n",
    "    mroot = n ** 0.5\n",
    "    half=(n+1)/2-1\n",
    "    i=0\n",
    "    m=3\n",
    "    while m <= mroot:\n",
    "        if s[i]:\n",
    "            j=(m*m-3)/2\n",
    "            s[j]=0\n",
    "            while j<half:\n",
    "                s[j]=0\n",
    "                j+=m\n",
    "        i=i+1\n",
    "        m=2*i+3\n",
    "    return [2]+[x for x in s if x]\n",
    "\n",
    "5%2\n"
   ]
  },
  {
   "cell_type": "code",
   "execution_count": null,
   "metadata": {
    "collapsed": false
   },
   "outputs": [],
   "source": [
    "\n",
    "    \n"
   ]
  },
  {
   "cell_type": "code",
   "execution_count": 14,
   "metadata": {
    "collapsed": false
   },
   "outputs": [
    {
     "name": "stdout",
     "output_type": "stream",
     "text": [
      "25502500 338350 25164150\n"
     ]
    }
   ],
   "source": [
    "#problem 6\n",
    "t = sum(range(1,101)) ** 2\n",
    "\n",
    "s=0\n",
    "for i in range(1,101):\n",
    "    s = s + i**2\n",
    "\n",
    "print t, s, t-s"
   ]
  },
  {
   "cell_type": "code",
   "execution_count": 3,
   "metadata": {
    "collapsed": false
   },
   "outputs": [
    {
     "name": "stdout",
     "output_type": "stream",
     "text": [
      "142913828922\n"
     ]
    }
   ],
   "source": [
    "# Problem 10\n",
    "def getPrime(n): \n",
    "    if n==2: return [2]\n",
    "    elif n<2: return []\n",
    "    s=range(3,n+1,2)\n",
    "    mroot = n ** 0.5\n",
    "    half=(n+1)/2-1\n",
    "    i=0\n",
    "    m=3\n",
    "    while m <= mroot:\n",
    "        if s[i]:\n",
    "            j=(m*m-3)/2\n",
    "            s[j]=0\n",
    "            while j<half:\n",
    "                s[j]=0\n",
    "                j+=m\n",
    "        i=i+1\n",
    "        m=2*i+3\n",
    "    return [2]+[x for x in s if x]\n",
    "\n",
    "\n",
    "\n",
    "sPr= sum(getPrime(2000000))\n",
    "\n",
    "print(sPr)\n"
   ]
  },
  {
   "cell_type": "code",
   "execution_count": 7,
   "metadata": {
    "collapsed": false
   },
   "outputs": [
    {
     "name": "stdout",
     "output_type": "stream",
     "text": [
      "104743\n"
     ]
    }
   ],
   "source": [
    "#problem 7\n",
    "def getPrime(n): \n",
    "    if n==2: return [2]\n",
    "    elif n<2: return []\n",
    "    s=range(3,n+1,2)\n",
    "    mroot = n ** 0.5\n",
    "    half=(n+1)/2-1\n",
    "    i=0\n",
    "    m=3\n",
    "    while m <= mroot:\n",
    "        if s[i]:\n",
    "            j=(m*m-3)/2\n",
    "            s[j]=0\n",
    "            while j<half:\n",
    "                s[j]=0\n",
    "                j+=m\n",
    "        i=i+1\n",
    "        m=2*i+3\n",
    "    return [2]+[x for x in s if x]\n",
    "\n",
    "sPr = getPrime(200000)\n",
    "print(sPr[10000])"
   ]
  },
  {
   "cell_type": "code",
   "execution_count": 20,
   "metadata": {
    "collapsed": false
   },
   "outputs": [
    {
     "data": {
      "text/plain": [
       "array([ 1,  2,  3,  4,  5,  6,  7,  8,  9, 10, 11, 12, 13, 14, 15, 16, 17,\n",
       "       18, 19, 20, 21, 22, 23, 24, 25, 26, 27, 28, 29, 30, 31, 32, 33, 34,\n",
       "       35, 36, 37, 38, 39, 40, 41, 42, 43, 44, 45, 46, 47, 48, 49, 50, 51,\n",
       "       52, 53, 54, 55, 56, 57, 58, 59, 60, 61, 62, 63, 64, 65, 66, 67, 68,\n",
       "       69, 70, 71, 72, 73, 74, 75, 76, 77, 78, 79, 80, 81, 82, 83, 84, 85,\n",
       "       86, 87, 88, 89, 90, 91, 92, 93, 94, 95, 96, 97, 98, 99])"
      ]
     },
     "execution_count": 20,
     "metadata": {},
     "output_type": "execute_result"
    }
   ],
   "source": [
    "#problem 9\n",
    "import numpy as np\n",
    "def check(a,b,c):\n",
    "    if (a + b + c) <> 1000: return False    \n",
    "    if (a*a + b*b) <> (c*c): return False\n",
    "    return true;\n",
    "\n",
    "a = np.arange(1,100)\n",
    "b = np.arange(1,100)\n",
    "c = np.arange(1,100)\n",
    "type(a)\n",
    "a\n",
    "#check(a,b,c)\n",
    "\n"
   ]
  },
  {
   "cell_type": "code",
   "execution_count": null,
   "metadata": {
    "collapsed": true
   },
   "outputs": [],
   "source": []
  }
 ],
 "metadata": {
  "kernelspec": {
   "display_name": "Python 2.7",
   "language": "python",
   "name": "python2.7"
  },
  "language_info": {
   "codemirror_mode": {
    "name": "ipython",
    "version": 2
   },
   "file_extension": ".py",
   "mimetype": "text/x-python",
   "name": "python",
   "nbconvert_exporter": "python",
   "pygments_lexer": "ipython2",
   "version": "2.7.6"
  }
 },
 "nbformat": 4,
 "nbformat_minor": 0
}
