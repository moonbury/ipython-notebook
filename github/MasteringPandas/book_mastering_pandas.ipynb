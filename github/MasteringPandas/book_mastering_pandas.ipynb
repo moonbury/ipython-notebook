{
 "cells": [
  {
   "cell_type": "code",
   "execution_count": 19,
   "metadata": {
    "collapsed": true
   },
   "outputs": [],
   "source": [
    "#The kernel is using python 3.5 for pandas 0.17\n",
    "%matplotlib inline"
   ]
  },
  {
   "cell_type": "code",
   "execution_count": 20,
   "metadata": {
    "collapsed": false
   },
   "outputs": [
    {
     "data": {
      "text/plain": [
       "(3,)"
      ]
     },
     "execution_count": 20,
     "metadata": {},
     "output_type": "execute_result"
    }
   ],
   "source": [
    "import numpy as np\n",
    "\n",
    "np.random.seed(100)\n",
    "ar = np.random.rand(3)\n",
    "ar.shape"
   ]
  },
  {
   "cell_type": "code",
   "execution_count": 3,
   "metadata": {
    "collapsed": false
   },
   "outputs": [
    {
     "data": {
      "text/plain": [
       "(3,)"
      ]
     },
     "execution_count": 3,
     "metadata": {},
     "output_type": "execute_result"
    }
   ],
   "source": [
    "ar2 = np.array([1,2,4])\n",
    "ar2.shape"
   ]
  },
  {
   "cell_type": "code",
   "execution_count": 21,
   "metadata": {
    "collapsed": false
   },
   "outputs": [],
   "source": [
    "import pandas as pd\n",
    "memberData = np.zeros((4,),\n",
    "                     dtype=[('Name','a15'),\n",
    "                           ('Age','i4'),\n",
    "                           ('Weight','f4')])\n"
   ]
  },
  {
   "cell_type": "code",
   "execution_count": 5,
   "metadata": {
    "collapsed": false
   },
   "outputs": [
    {
     "data": {
      "text/html": [
       "<div style=\"max-height:1000px;max-width:1500px;overflow:auto;\">\n",
       "<table border=\"1\" class=\"dataframe\">\n",
       "  <thead>\n",
       "    <tr style=\"text-align: right;\">\n",
       "      <th></th>\n",
       "      <th>Name</th>\n",
       "      <th>Age</th>\n",
       "      <th>Weight</th>\n",
       "    </tr>\n",
       "  </thead>\n",
       "  <tbody>\n",
       "    <tr>\n",
       "      <th>0</th>\n",
       "      <td>  b'Sanjeev'</td>\n",
       "      <td> 37</td>\n",
       "      <td> 162.399994</td>\n",
       "    </tr>\n",
       "    <tr>\n",
       "      <th>1</th>\n",
       "      <td> b'YingLuck'</td>\n",
       "      <td> 45</td>\n",
       "      <td> 137.800003</td>\n",
       "    </tr>\n",
       "    <tr>\n",
       "      <th>2</th>\n",
       "      <td>    b'Emeka'</td>\n",
       "      <td> 28</td>\n",
       "      <td> 153.300003</td>\n",
       "    </tr>\n",
       "    <tr>\n",
       "      <th>3</th>\n",
       "      <td>      b'Amy'</td>\n",
       "      <td> 61</td>\n",
       "      <td> 107.300003</td>\n",
       "    </tr>\n",
       "  </tbody>\n",
       "</table>\n",
       "</div>"
      ],
      "text/plain": [
       "          Name  Age      Weight\n",
       "0   b'Sanjeev'   37  162.399994\n",
       "1  b'YingLuck'   45  137.800003\n",
       "2     b'Emeka'   28  153.300003\n",
       "3       b'Amy'   61  107.300003"
      ]
     },
     "execution_count": 5,
     "metadata": {},
     "output_type": "execute_result"
    }
   ],
   "source": [
    "memberData[:] = [('Sanjeev',37,162.4),\n",
    "                ('YingLuck',45,137.8),\n",
    "                ('Emeka',28,153.3),\n",
    "                ('Amy',61,107.3)]\n",
    "memberDF=pd.DataFrame(memberData);memberDF"
   ]
  },
  {
   "cell_type": "code",
   "execution_count": 6,
   "metadata": {
    "collapsed": false
   },
   "outputs": [
    {
     "data": {
      "text/html": [
       "<div style=\"max-height:1000px;max-width:1500px;overflow:auto;\">\n",
       "<table border=\"1\" class=\"dataframe\">\n",
       "  <thead>\n",
       "    <tr style=\"text-align: right;\">\n",
       "      <th></th>\n",
       "      <th>Name</th>\n",
       "      <th>Age</th>\n",
       "      <th>Weight</th>\n",
       "    </tr>\n",
       "  </thead>\n",
       "  <tbody>\n",
       "    <tr>\n",
       "      <th>a</th>\n",
       "      <td>  b'Sanjeev'</td>\n",
       "      <td> 37</td>\n",
       "      <td> 162.399994</td>\n",
       "    </tr>\n",
       "    <tr>\n",
       "      <th>b</th>\n",
       "      <td> b'YingLuck'</td>\n",
       "      <td> 45</td>\n",
       "      <td> 137.800003</td>\n",
       "    </tr>\n",
       "    <tr>\n",
       "      <th>c</th>\n",
       "      <td>    b'Emeka'</td>\n",
       "      <td> 28</td>\n",
       "      <td> 153.300003</td>\n",
       "    </tr>\n",
       "    <tr>\n",
       "      <th>d</th>\n",
       "      <td>      b'Amy'</td>\n",
       "      <td> 61</td>\n",
       "      <td> 107.300003</td>\n",
       "    </tr>\n",
       "  </tbody>\n",
       "</table>\n",
       "</div>"
      ],
      "text/plain": [
       "          Name  Age      Weight\n",
       "a   b'Sanjeev'   37  162.399994\n",
       "b  b'YingLuck'   45  137.800003\n",
       "c     b'Emeka'   28  153.300003\n",
       "d       b'Amy'   61  107.300003"
      ]
     },
     "execution_count": 6,
     "metadata": {},
     "output_type": "execute_result"
    }
   ],
   "source": [
    "pd.DataFrame(memberData,index=['a','b','c','d'])"
   ]
  },
  {
   "cell_type": "code",
   "execution_count": 7,
   "metadata": {
    "collapsed": false
   },
   "outputs": [
    {
     "data": {
      "text/plain": [
       "0    162.399994\n",
       "1    137.800003\n",
       "2    153.300003\n",
       "3    107.300003\n",
       "Name: Weight, dtype: float32"
      ]
     },
     "execution_count": 7,
     "metadata": {},
     "output_type": "execute_result"
    }
   ],
   "source": [
    "memberDF['Weight']"
   ]
  },
  {
   "cell_type": "code",
   "execution_count": 8,
   "metadata": {
    "collapsed": false
   },
   "outputs": [
    {
     "data": {
      "text/plain": [
       "pandas.core.frame.DataFrame"
      ]
     },
     "execution_count": 8,
     "metadata": {},
     "output_type": "execute_result"
    }
   ],
   "source": [
    "type(memberDF)"
   ]
  },
  {
   "cell_type": "code",
   "execution_count": 23,
   "metadata": {
    "collapsed": false
   },
   "outputs": [],
   "source": [
    "football_df=pd.read_csv('./data/E1.csv')"
   ]
  },
  {
   "cell_type": "code",
   "execution_count": 33,
   "metadata": {
    "collapsed": false
   },
   "outputs": [
    {
     "name": "stdout",
     "output_type": "stream",
     "text": [
      "  Div      Date      HomeTeam   AwayTeam  FTHG  FTAG FTR  HTHG  HTAG HTR ...  \\\n",
      "0  E1  05/08/16        Fulham  Newcastle     1     0   H     1     0   H ...   \n",
      "1  E1  06/08/16    Birmingham    Cardiff     0     0   D     0     0   D ...   \n",
      "2  E1  06/08/16     Blackburn    Norwich     1     4   A     0     3   A ...   \n",
      "3  E1  06/08/16  Bristol City      Wigan     2     1   H     0     1   A ...   \n",
      "4  E1  06/08/16         Derby   Brighton     0     0   D     0     0   D ...   \n",
      "\n",
      "  BbAv<2.5  BbAH  BbAHh  BbMxAHH  BbAvAHH  BbMxAHA  BbAvAHA  PSCH  PSCD  PSCA  \n",
      "0     1.91    32   0.25     2.21     2.14     1.76     1.72  4.39  3.42  2.00  \n",
      "1     1.65    32  -0.25     2.06     1.98     1.94     1.84  2.53  3.26  3.14  \n",
      "2     1.62    32   0.25     1.95     1.88     2.00     1.94  3.64  3.33  2.25  \n",
      "3     1.68    33  -0.25     1.95     1.89     2.00     1.94  2.23  3.50  3.49  \n",
      "4     1.68    32  -0.25     1.83     1.76     2.13     2.07  2.28  3.31  3.57  \n",
      "\n",
      "[5 rows x 65 columns]\n"
     ]
    }
   ],
   "source": [
    "print(football_df.head())\n",
    "#print(football_df.describe())\n"
   ]
  },
  {
   "cell_type": "code",
   "execution_count": 32,
   "metadata": {
    "collapsed": false
   },
   "outputs": [
    {
     "name": "stdout",
     "output_type": "stream",
     "text": [
      "1.39583333333\n",
      "1.0\n",
      "(array([ 1.]), array([ 65.]))\n"
     ]
    },
    {
     "data": {
      "text/plain": [
       "(array([ 49.,   0.,  65.,   0.,  46.,   0.,  20.,   0.,   9.,   3.]),\n",
       " array([ 0. ,  0.5,  1. ,  1.5,  2. ,  2.5,  3. ,  3.5,  4. ,  4.5,  5. ]),\n",
       " <a list of 10 Patch objects>)"
      ]
     },
     "execution_count": 32,
     "metadata": {},
     "output_type": "execute_result"
    },
    {
     "data": {
      "image/png": "[encoded data removed]",
      "text/plain": [
       "<matplotlib.figure.Figure at 0x7f8ba75a3eb8>"
      ]
     },
     "metadata": {},
     "output_type": "display_data"
    }
   ],
   "source": [
    "from scipy import stats\n",
    "%precision 2\n",
    "print(np.mean(football_df['FTHG']))\n",
    "print(np.median(football_df['FTHG']))\n",
    "print(stats.mode(football_df['FTHG']))\n",
    "plt.hist(football_df['FTHG'])"
   ]
  },
  {
   "cell_type": "code",
   "execution_count": 11,
   "metadata": {
    "collapsed": false
   },
   "outputs": [],
   "source": [
    "#print(football_df.set_index([\"Date\",\"Div\"]))"
   ]
  },
  {
   "cell_type": "code",
   "execution_count": 12,
   "metadata": {
    "collapsed": false
   },
   "outputs": [],
   "source": [
    "#football_df.ix['Date']"
   ]
  },
  {
   "cell_type": "code",
   "execution_count": 3,
   "metadata": {
    "collapsed": true
   },
   "outputs": [],
   "source": [
    "#chapter 6\n",
    "import numpy as np\n",
    "import pandas as pd\n",
    "import matplotlib as plt\n",
    "%matplotlib inline\n",
    "\n",
    "date_stngs=['2014-05-01','2014-05-02','2014-05-05','2014-05-06','2014-05-07']\n",
    "tradeDates = pd.to_datetime(pd.Series(date_stngs))\n",
    "closingprices = [531.35, 527.93,527.81,515.14,509.36]"
   ]
  },
  {
   "cell_type": "code",
   "execution_count": 14,
   "metadata": {
    "collapsed": false
   },
   "outputs": [
    {
     "data": {
      "text/html": [
       "<div style=\"max-height:1000px;max-width:1500px;overflow:auto;\">\n",
       "<table border=\"1\" class=\"dataframe\">\n",
       "  <thead>\n",
       "    <tr style=\"text-align: right;\">\n",
       "      <th></th>\n",
       "      <th>closing price</th>\n",
       "    </tr>\n",
       "  </thead>\n",
       "  <tbody>\n",
       "    <tr>\n",
       "      <th>2014-05-01</th>\n",
       "      <td> 531.35</td>\n",
       "    </tr>\n",
       "    <tr>\n",
       "      <th>2014-05-02</th>\n",
       "      <td> 527.93</td>\n",
       "    </tr>\n",
       "    <tr>\n",
       "      <th>2014-05-05</th>\n",
       "      <td> 527.81</td>\n",
       "    </tr>\n",
       "    <tr>\n",
       "      <th>2014-05-06</th>\n",
       "      <td> 515.14</td>\n",
       "    </tr>\n",
       "    <tr>\n",
       "      <th>2014-05-07</th>\n",
       "      <td> 509.36</td>\n",
       "    </tr>\n",
       "  </tbody>\n",
       "</table>\n",
       "</div>"
      ],
      "text/plain": [
       "            closing price\n",
       "2014-05-01         531.35\n",
       "2014-05-02         527.93\n",
       "2014-05-05         527.81\n",
       "2014-05-06         515.14\n",
       "2014-05-07         509.36"
      ]
     },
     "execution_count": 14,
     "metadata": {},
     "output_type": "execute_result"
    }
   ],
   "source": [
    "googClosingPrices = pd.DataFrame(data=closingprices,columns=['closing price'],index=tradeDates)\n",
    "\n",
    "googClosingPrices"
   ]
  },
  {
   "cell_type": "code",
   "execution_count": 15,
   "metadata": {
    "collapsed": false
   },
   "outputs": [],
   "source": [
    "import pandas.io.data as web\n",
    "import datetime\n",
    "googPrices = web.get_data_yahoo(\"GOOG\",start=datetime.datetime(2014,5,1),end=datetime.date(2014,5,7))"
   ]
  },
  {
   "cell_type": "code",
   "execution_count": 16,
   "metadata": {
    "collapsed": false
   },
   "outputs": [
    {
     "data": {
      "text/html": [
       "<div style=\"max-height:1000px;max-width:1500px;overflow:auto;\">\n",
       "<table border=\"1\" class=\"dataframe\">\n",
       "  <thead>\n",
       "    <tr style=\"text-align: right;\">\n",
       "      <th></th>\n",
       "      <th>Close</th>\n",
       "    </tr>\n",
       "  </thead>\n",
       "  <tbody>\n",
       "    <tr>\n",
       "      <th>2014-05-01</th>\n",
       "      <td> 531.352435</td>\n",
       "    </tr>\n",
       "    <tr>\n",
       "      <th>2014-05-02</th>\n",
       "      <td> 527.932411</td>\n",
       "    </tr>\n",
       "    <tr>\n",
       "      <th>2014-05-05</th>\n",
       "      <td> 527.812392</td>\n",
       "    </tr>\n",
       "    <tr>\n",
       "      <th>2014-05-06</th>\n",
       "      <td> 515.142330</td>\n",
       "    </tr>\n",
       "    <tr>\n",
       "      <th>2014-05-07</th>\n",
       "      <td> 509.962321</td>\n",
       "    </tr>\n",
       "  </tbody>\n",
       "</table>\n",
       "</div>"
      ],
      "text/plain": [
       "                 Close\n",
       "2014-05-01  531.352435\n",
       "2014-05-02  527.932411\n",
       "2014-05-05  527.812392\n",
       "2014-05-06  515.142330\n",
       "2014-05-07  509.962321"
      ]
     },
     "execution_count": 16,
     "metadata": {},
     "output_type": "execute_result"
    }
   ],
   "source": [
    "googFinalPrices=pd.DataFrame(googPrices['Close'],index=tradeDates)\n",
    "googFinalPrices"
   ]
  },
  {
   "cell_type": "code",
   "execution_count": 17,
   "metadata": {
    "collapsed": false
   },
   "outputs": [
    {
     "data": {
      "text/html": [
       "<div style=\"max-height:1000px;max-width:1500px;overflow:auto;\">\n",
       "<table border=\"1\" class=\"dataframe\">\n",
       "  <thead>\n",
       "    <tr style=\"text-align: right;\">\n",
       "      <th></th>\n",
       "      <th>closing price</th>\n",
       "    </tr>\n",
       "  </thead>\n",
       "  <tbody>\n",
       "    <tr>\n",
       "      <th>2014-05-01</th>\n",
       "      <td> 531.35</td>\n",
       "    </tr>\n",
       "    <tr>\n",
       "      <th>2014-05-02</th>\n",
       "      <td> 527.93</td>\n",
       "    </tr>\n",
       "    <tr>\n",
       "      <th>2014-05-03</th>\n",
       "      <td>    NaN</td>\n",
       "    </tr>\n",
       "    <tr>\n",
       "      <th>2014-05-04</th>\n",
       "      <td>    NaN</td>\n",
       "    </tr>\n",
       "    <tr>\n",
       "      <th>2014-05-05</th>\n",
       "      <td> 527.81</td>\n",
       "    </tr>\n",
       "    <tr>\n",
       "      <th>2014-05-06</th>\n",
       "      <td> 515.14</td>\n",
       "    </tr>\n",
       "    <tr>\n",
       "      <th>2014-05-07</th>\n",
       "      <td> 509.36</td>\n",
       "    </tr>\n",
       "  </tbody>\n",
       "</table>\n",
       "</div>"
      ],
      "text/plain": [
       "            closing price\n",
       "2014-05-01         531.35\n",
       "2014-05-02         527.93\n",
       "2014-05-03            NaN\n",
       "2014-05-04            NaN\n",
       "2014-05-05         527.81\n",
       "2014-05-06         515.14\n",
       "2014-05-07         509.36"
      ]
     },
     "execution_count": 17,
     "metadata": {},
     "output_type": "execute_result"
    }
   ],
   "source": [
    "googClosingPricesCDays=googClosingPrices.asfreq('D')\n",
    "googClosingPricesCDays"
   ]
  },
  {
   "cell_type": "code",
   "execution_count": 18,
   "metadata": {
    "collapsed": false
   },
   "outputs": [
    {
     "data": {
      "text/html": [
       "<div style=\"max-height:1000px;max-width:1500px;overflow:auto;\">\n",
       "<table border=\"1\" class=\"dataframe\">\n",
       "  <thead>\n",
       "    <tr style=\"text-align: right;\">\n",
       "      <th></th>\n",
       "      <th>closing price</th>\n",
       "    </tr>\n",
       "  </thead>\n",
       "  <tbody>\n",
       "    <tr>\n",
       "      <th>2014-05-01</th>\n",
       "      <td> False</td>\n",
       "    </tr>\n",
       "    <tr>\n",
       "      <th>2014-05-02</th>\n",
       "      <td> False</td>\n",
       "    </tr>\n",
       "    <tr>\n",
       "      <th>2014-05-03</th>\n",
       "      <td>  True</td>\n",
       "    </tr>\n",
       "    <tr>\n",
       "      <th>2014-05-04</th>\n",
       "      <td>  True</td>\n",
       "    </tr>\n",
       "    <tr>\n",
       "      <th>2014-05-05</th>\n",
       "      <td> False</td>\n",
       "    </tr>\n",
       "    <tr>\n",
       "      <th>2014-05-06</th>\n",
       "      <td> False</td>\n",
       "    </tr>\n",
       "    <tr>\n",
       "      <th>2014-05-07</th>\n",
       "      <td> False</td>\n",
       "    </tr>\n",
       "  </tbody>\n",
       "</table>\n",
       "</div>"
      ],
      "text/plain": [
       "           closing price\n",
       "2014-05-01         False\n",
       "2014-05-02         False\n",
       "2014-05-03          True\n",
       "2014-05-04          True\n",
       "2014-05-05         False\n",
       "2014-05-06         False\n",
       "2014-05-07         False"
      ]
     },
     "execution_count": 18,
     "metadata": {},
     "output_type": "execute_result"
    }
   ],
   "source": [
    "googClosingPricesCDays.isnull()"
   ]
  },
  {
   "cell_type": "code",
   "execution_count": 19,
   "metadata": {
    "collapsed": false
   },
   "outputs": [
    {
     "data": {
      "text/html": [
       "<div style=\"max-height:1000px;max-width:1500px;overflow:auto;\">\n",
       "<table border=\"1\" class=\"dataframe\">\n",
       "  <thead>\n",
       "    <tr style=\"text-align: right;\">\n",
       "      <th></th>\n",
       "      <th>closing price</th>\n",
       "    </tr>\n",
       "  </thead>\n",
       "  <tbody>\n",
       "    <tr>\n",
       "      <th>2014-05-01</th>\n",
       "      <td>  True</td>\n",
       "    </tr>\n",
       "    <tr>\n",
       "      <th>2014-05-02</th>\n",
       "      <td>  True</td>\n",
       "    </tr>\n",
       "    <tr>\n",
       "      <th>2014-05-03</th>\n",
       "      <td> False</td>\n",
       "    </tr>\n",
       "    <tr>\n",
       "      <th>2014-05-04</th>\n",
       "      <td> False</td>\n",
       "    </tr>\n",
       "    <tr>\n",
       "      <th>2014-05-05</th>\n",
       "      <td>  True</td>\n",
       "    </tr>\n",
       "    <tr>\n",
       "      <th>2014-05-06</th>\n",
       "      <td>  True</td>\n",
       "    </tr>\n",
       "    <tr>\n",
       "      <th>2014-05-07</th>\n",
       "      <td>  True</td>\n",
       "    </tr>\n",
       "  </tbody>\n",
       "</table>\n",
       "</div>"
      ],
      "text/plain": [
       "           closing price\n",
       "2014-05-01          True\n",
       "2014-05-02          True\n",
       "2014-05-03         False\n",
       "2014-05-04         False\n",
       "2014-05-05          True\n",
       "2014-05-06          True\n",
       "2014-05-07          True"
      ]
     },
     "execution_count": 19,
     "metadata": {},
     "output_type": "execute_result"
    }
   ],
   "source": [
    "googClosingPricesCDays.notnull()"
   ]
  },
  {
   "cell_type": "code",
   "execution_count": 20,
   "metadata": {
    "collapsed": false
   },
   "outputs": [
    {
     "data": {
      "text/plain": [
       "0   2014-05-01\n",
       "1          NaT\n",
       "2   2014-05-05\n",
       "3   2014-05-06\n",
       "4          NaT\n",
       "dtype: datetime64[ns]"
      ]
     },
     "execution_count": 20,
     "metadata": {},
     "output_type": "execute_result"
    }
   ],
   "source": [
    "tDates=tradeDates.copy()\n",
    "tDates[1]=np.NaN\n",
    "tDates[4]=np.NaN\n",
    "tDates"
   ]
  },
  {
   "cell_type": "code",
   "execution_count": 21,
   "metadata": {
    "collapsed": false
   },
   "outputs": [
    {
     "data": {
      "text/html": [
       "<div style=\"max-height:1000px;max-width:1500px;overflow:auto;\">\n",
       "<table border=\"1\" class=\"dataframe\">\n",
       "  <thead>\n",
       "    <tr style=\"text-align: right;\">\n",
       "      <th></th>\n",
       "      <th>FB</th>\n",
       "      <th>TWTR</th>\n",
       "      <th>TradeDate</th>\n",
       "    </tr>\n",
       "  </thead>\n",
       "  <tbody>\n",
       "    <tr>\n",
       "      <th>0</th>\n",
       "      <td> 82.34</td>\n",
       "      <td>  15.74</td>\n",
       "      <td>2014-05-01</td>\n",
       "    </tr>\n",
       "    <tr>\n",
       "      <th>1</th>\n",
       "      <td> 54.11</td>\n",
       "      <td>  12.71</td>\n",
       "      <td>2014-05-02</td>\n",
       "    </tr>\n",
       "    <tr>\n",
       "      <th>2</th>\n",
       "      <td> 45.99</td>\n",
       "      <td>  10.39</td>\n",
       "      <td>2014-05-05</td>\n",
       "    </tr>\n",
       "    <tr>\n",
       "      <th>3</th>\n",
       "      <td> 55.86</td>\n",
       "      <td> 134.62</td>\n",
       "      <td>2014-05-06</td>\n",
       "    </tr>\n",
       "    <tr>\n",
       "      <th>4</th>\n",
       "      <td> 78.50</td>\n",
       "      <td>  68.84</td>\n",
       "      <td>2014-05-07</td>\n",
       "    </tr>\n",
       "  </tbody>\n",
       "</table>\n",
       "</div>"
      ],
      "text/plain": [
       "      FB    TWTR  TradeDate\n",
       "0  82.34   15.74 2014-05-01\n",
       "1  54.11   12.71 2014-05-02\n",
       "2  45.99   10.39 2014-05-05\n",
       "3  55.86  134.62 2014-05-06\n",
       "4  78.50   68.84 2014-05-07"
      ]
     },
     "execution_count": 21,
     "metadata": {},
     "output_type": "execute_result"
    }
   ],
   "source": [
    "pd.set_option('display.precision',4)\n",
    "FBVolume=[82.34,54.11,45.99,55.86,78.5]\n",
    "TWTRVolume=[15.74,12.71,10.39,134.62,68.84]\n",
    "socialTradingVolume=pd.concat([pd.Series(FBVolume),pd.Series(TWTRVolume),tradeDates],axis=1,keys=['FB','TWTR','TradeDate'])\n",
    "socialTradingVolume\n"
   ]
  },
  {
   "cell_type": "code",
   "execution_count": 22,
   "metadata": {
    "collapsed": false
   },
   "outputs": [
    {
     "data": {
      "text/plain": [
       "datetime.datetime(2014, 12, 25, 0, 0)"
      ]
     },
     "execution_count": 22,
     "metadata": {},
     "output_type": "execute_result"
    }
   ],
   "source": [
    "xmasDay=pd.datetime(2014,12,25)\n",
    "xmasDay\n"
   ]
  },
  {
   "cell_type": "code",
   "execution_count": 23,
   "metadata": {
    "collapsed": false
   },
   "outputs": [
    {
     "data": {
      "text/plain": [
       "Timestamp('2014-12-24 00:00:00')"
      ]
     },
     "execution_count": 23,
     "metadata": {},
     "output_type": "execute_result"
    }
   ],
   "source": [
    "boxingDay=xmasDay+pd.DateOffset(days=-1)\n",
    "boxingDay"
   ]
  },
  {
   "cell_type": "code",
   "execution_count": 24,
   "metadata": {
    "collapsed": false
   },
   "outputs": [
    {
     "data": {
      "text/plain": [
       "datetime.datetime(2016, 11, 12, 1, 59, 4, 726513)"
      ]
     },
     "execution_count": 24,
     "metadata": {},
     "output_type": "execute_result"
    }
   ],
   "source": [
    "today=pd.datetime.now()\n",
    "today"
   ]
  },
  {
   "cell_type": "code",
   "execution_count": 27,
   "metadata": {
    "collapsed": false
   },
   "outputs": [
    {
     "data": {
      "text/plain": [
       "Timestamp('2016-03-01 00:00:00')"
      ]
     },
     "execution_count": 27,
     "metadata": {},
     "output_type": "execute_result"
    }
   ],
   "source": [
    "lastDay=pd.datetime(2016,1,1)\n",
    "from pandas.tseries.offsets import QuarterBegin\n",
    "dtoffset=QuarterBegin()\n",
    "lastDay+dtoffset"
   ]
  },
  {
   "cell_type": "code",
   "execution_count": 7,
   "metadata": {
    "collapsed": false
   },
   "outputs": [
    {
     "data": {
      "text/html": [
       "<div style=\"max-height:1000px;max-width:1500px;overflow:auto;\">\n",
       "<table border=\"1\" class=\"dataframe\">\n",
       "  <thead>\n",
       "    <tr style=\"text-align: right;\">\n",
       "      <th></th>\n",
       "      <th>Timestamp</th>\n",
       "      <th>close</th>\n",
       "      <th>high</th>\n",
       "      <th>low</th>\n",
       "      <th>open</th>\n",
       "      <th>volume</th>\n",
       "    </tr>\n",
       "  </thead>\n",
       "  <tbody>\n",
       "    <tr>\n",
       "      <th>0</th>\n",
       "      <td> 1401197402</td>\n",
       "      <td> 555.008</td>\n",
       "      <td> 556.41</td>\n",
       "      <td> 554.35</td>\n",
       "      <td> 556.38</td>\n",
       "      <td> 81100</td>\n",
       "    </tr>\n",
       "    <tr>\n",
       "      <th>1</th>\n",
       "      <td> 1401197460</td>\n",
       "      <td> 556.250</td>\n",
       "      <td> 556.30</td>\n",
       "      <td> 555.25</td>\n",
       "      <td> 555.25</td>\n",
       "      <td> 18500</td>\n",
       "    </tr>\n",
       "    <tr>\n",
       "      <th>2</th>\n",
       "      <td> 1401197526</td>\n",
       "      <td> 556.730</td>\n",
       "      <td> 556.75</td>\n",
       "      <td> 556.05</td>\n",
       "      <td> 556.39</td>\n",
       "      <td>  9900</td>\n",
       "    </tr>\n",
       "    <tr>\n",
       "      <th>3</th>\n",
       "      <td> 1401197582</td>\n",
       "      <td> 557.480</td>\n",
       "      <td> 557.67</td>\n",
       "      <td> 556.73</td>\n",
       "      <td> 556.73</td>\n",
       "      <td> 14700</td>\n",
       "    </tr>\n",
       "    <tr>\n",
       "      <th>4</th>\n",
       "      <td> 1401197642</td>\n",
       "      <td> 558.155</td>\n",
       "      <td> 558.66</td>\n",
       "      <td> 557.48</td>\n",
       "      <td> 557.59</td>\n",
       "      <td> 15700</td>\n",
       "    </tr>\n",
       "  </tbody>\n",
       "</table>\n",
       "</div>"
      ],
      "text/plain": [
       "    Timestamp    close    high     low    open  volume\n",
       "0  1401197402  555.008  556.41  554.35  556.38   81100\n",
       "1  1401197460  556.250  556.30  555.25  555.25   18500\n",
       "2  1401197526  556.730  556.75  556.05  556.39    9900\n",
       "3  1401197582  557.480  557.67  556.73  556.73   14700\n",
       "4  1401197642  558.155  558.66  557.48  557.59   15700"
      ]
     },
     "execution_count": 7,
     "metadata": {},
     "output_type": "execute_result"
    }
   ],
   "source": [
    "googTickData=pd.read_csv('./data/GOOG_tickdata_20140527.csv')\n",
    "googTickData.head()"
   ]
  },
  {
   "cell_type": "code",
   "execution_count": 14,
   "metadata": {
    "collapsed": false
   },
   "outputs": [
    {
     "data": {
      "text/html": [
       "<div style=\"max-height:1000px;max-width:1500px;overflow:auto;\">\n",
       "<table border=\"1\" class=\"dataframe\">\n",
       "  <thead>\n",
       "    <tr style=\"text-align: right;\">\n",
       "      <th></th>\n",
       "      <th>Timestamp</th>\n",
       "      <th>close</th>\n",
       "      <th>high</th>\n",
       "      <th>low</th>\n",
       "      <th>open</th>\n",
       "      <th>volume</th>\n",
       "      <th>tstamp</th>\n",
       "    </tr>\n",
       "  </thead>\n",
       "  <tbody>\n",
       "    <tr>\n",
       "      <th>0</th>\n",
       "      <td> 1401197402</td>\n",
       "      <td> 555.008</td>\n",
       "      <td> 556.41</td>\n",
       "      <td> 554.35</td>\n",
       "      <td> 556.38</td>\n",
       "      <td> 81100</td>\n",
       "      <td>2014-05-27 13:30:02</td>\n",
       "    </tr>\n",
       "    <tr>\n",
       "      <th>1</th>\n",
       "      <td> 1401197460</td>\n",
       "      <td> 556.250</td>\n",
       "      <td> 556.30</td>\n",
       "      <td> 555.25</td>\n",
       "      <td> 555.25</td>\n",
       "      <td> 18500</td>\n",
       "      <td>2014-05-27 13:31:00</td>\n",
       "    </tr>\n",
       "    <tr>\n",
       "      <th>2</th>\n",
       "      <td> 1401197526</td>\n",
       "      <td> 556.730</td>\n",
       "      <td> 556.75</td>\n",
       "      <td> 556.05</td>\n",
       "      <td> 556.39</td>\n",
       "      <td>  9900</td>\n",
       "      <td>2014-05-27 13:32:06</td>\n",
       "    </tr>\n",
       "    <tr>\n",
       "      <th>3</th>\n",
       "      <td> 1401197582</td>\n",
       "      <td> 557.480</td>\n",
       "      <td> 557.67</td>\n",
       "      <td> 556.73</td>\n",
       "      <td> 556.73</td>\n",
       "      <td> 14700</td>\n",
       "      <td>2014-05-27 13:33:02</td>\n",
       "    </tr>\n",
       "    <tr>\n",
       "      <th>4</th>\n",
       "      <td> 1401197642</td>\n",
       "      <td> 558.155</td>\n",
       "      <td> 558.66</td>\n",
       "      <td> 557.48</td>\n",
       "      <td> 557.59</td>\n",
       "      <td> 15700</td>\n",
       "      <td>2014-05-27 13:34:02</td>\n",
       "    </tr>\n",
       "  </tbody>\n",
       "</table>\n",
       "</div>"
      ],
      "text/plain": [
       "    Timestamp    close    high     low    open  volume              tstamp\n",
       "0  1401197402  555.008  556.41  554.35  556.38   81100 2014-05-27 13:30:02\n",
       "1  1401197460  556.250  556.30  555.25  555.25   18500 2014-05-27 13:31:00\n",
       "2  1401197526  556.730  556.75  556.05  556.39    9900 2014-05-27 13:32:06\n",
       "3  1401197582  557.480  557.67  556.73  556.73   14700 2014-05-27 13:33:02\n",
       "4  1401197642  558.155  558.66  557.48  557.59   15700 2014-05-27 13:34:02"
      ]
     },
     "execution_count": 14,
     "metadata": {},
     "output_type": "execute_result"
    }
   ],
   "source": [
    "googTickData['tstamp']=pd.to_datetime(googTickData['Timestamp'],unit='s',utc=True)\n",
    "googTickData.head()"
   ]
  },
  {
   "cell_type": "markdown",
   "metadata": {
    "collapsed": true
   },
   "source": []
  },
  {
   "cell_type": "code",
   "execution_count": 24,
   "metadata": {
    "collapsed": false
   },
   "outputs": [
    {
     "name": "stdout",
     "output_type": "stream",
     "text": [
      "                       close    high     low    open  volume\n",
      "tstamp                                                      \n",
      "2014-05-27 13:30:02  555.008  556.41  554.35  556.38   81100\n",
      "2014-05-27 13:31:00  556.250  556.30  555.25  555.25   18500\n",
      "2014-05-27 13:32:06  556.730  556.75  556.05  556.39    9900\n",
      "2014-05-27 13:33:02  557.480  557.67  556.73  556.73   14700\n",
      "2014-05-27 13:34:02  558.155  558.66  557.48  557.59   15700\n",
      "390\n"
     ]
    }
   ],
   "source": [
    "googTickTS=googTickData.set_index('tstamp')\n",
    "googTickTS=googTickTS.drop('Timestamp',axis=1)\n",
    "print(googTickTS.head())\n",
    "print(len(googTickTS))"
   ]
  },
  {
   "cell_type": "code",
   "execution_count": 29,
   "metadata": {
    "collapsed": false
   },
   "outputs": [
    {
     "data": {
      "text/html": [
       "<div style=\"max-height:1000px;max-width:1500px;overflow:auto;\">\n",
       "<table border=\"1\" class=\"dataframe\">\n",
       "  <thead>\n",
       "    <tr style=\"text-align: right;\">\n",
       "      <th></th>\n",
       "      <th>close</th>\n",
       "      <th>high</th>\n",
       "      <th>low</th>\n",
       "      <th>open</th>\n",
       "      <th>volume</th>\n",
       "    </tr>\n",
       "    <tr>\n",
       "      <th>tstamp</th>\n",
       "      <th></th>\n",
       "      <th></th>\n",
       "      <th></th>\n",
       "      <th></th>\n",
       "      <th></th>\n",
       "    </tr>\n",
       "  </thead>\n",
       "  <tbody>\n",
       "    <tr>\n",
       "      <th>2014-05-27 13:30:00</th>\n",
       "      <td> 555.008</td>\n",
       "      <td> 556.3000</td>\n",
       "      <td> 554.3500</td>\n",
       "      <td> 555.25</td>\n",
       "      <td> 9900</td>\n",
       "    </tr>\n",
       "    <tr>\n",
       "      <th>2014-05-27 13:40:00</th>\n",
       "      <td> 556.190</td>\n",
       "      <td> 556.5600</td>\n",
       "      <td> 556.1300</td>\n",
       "      <td> 556.35</td>\n",
       "      <td> 3500</td>\n",
       "    </tr>\n",
       "    <tr>\n",
       "      <th>2014-05-27 13:50:00</th>\n",
       "      <td> 554.770</td>\n",
       "      <td> 555.5500</td>\n",
       "      <td> 554.7700</td>\n",
       "      <td> 555.55</td>\n",
       "      <td> 3400</td>\n",
       "    </tr>\n",
       "    <tr>\n",
       "      <th>2014-05-27 14:00:00</th>\n",
       "      <td> 554.580</td>\n",
       "      <td> 554.9847</td>\n",
       "      <td> 554.4500</td>\n",
       "      <td> 554.58</td>\n",
       "      <td> 1800</td>\n",
       "    </tr>\n",
       "    <tr>\n",
       "      <th>2014-05-27 14:10:00</th>\n",
       "      <td> 556.500</td>\n",
       "      <td> 556.9700</td>\n",
       "      <td> 556.2947</td>\n",
       "      <td> 556.66</td>\n",
       "      <td> 2800</td>\n",
       "    </tr>\n",
       "    <tr>\n",
       "      <th>2014-05-27 14:20:00</th>\n",
       "      <td> 556.930</td>\n",
       "      <td> 557.0300</td>\n",
       "      <td> 556.7100</td>\n",
       "      <td> 556.71</td>\n",
       "      <td> 1600</td>\n",
       "    </tr>\n",
       "  </tbody>\n",
       "</table>\n",
       "</div>"
      ],
      "text/plain": [
       "                       close      high       low    open  volume\n",
       "tstamp                                                          \n",
       "2014-05-27 13:30:00  555.008  556.3000  554.3500  555.25    9900\n",
       "2014-05-27 13:40:00  556.190  556.5600  556.1300  556.35    3500\n",
       "2014-05-27 13:50:00  554.770  555.5500  554.7700  555.55    3400\n",
       "2014-05-27 14:00:00  554.580  554.9847  554.4500  554.58    1800\n",
       "2014-05-27 14:10:00  556.500  556.9700  556.2947  556.66    2800\n",
       "2014-05-27 14:20:00  556.930  557.0300  556.7100  556.71    1600"
      ]
     },
     "execution_count": 29,
     "metadata": {},
     "output_type": "execute_result"
    }
   ],
   "source": [
    "pd.set_option('display.precision',5)\n",
    "googTickTS.resample('10Min',how=np.min).head(6)"
   ]
  },
  {
   "cell_type": "code",
   "execution_count": 30,
   "metadata": {
    "collapsed": false
   },
   "outputs": [
    {
     "data": {
      "text/html": [
       "<div style=\"max-height:1000px;max-width:1500px;overflow:auto;\">\n",
       "<table border=\"1\" class=\"dataframe\">\n",
       "  <thead>\n",
       "    <tr style=\"text-align: right;\">\n",
       "      <th></th>\n",
       "      <th>close</th>\n",
       "      <th>high</th>\n",
       "      <th>low</th>\n",
       "      <th>open</th>\n",
       "      <th>volume</th>\n",
       "    </tr>\n",
       "    <tr>\n",
       "      <th>tstamp</th>\n",
       "      <th></th>\n",
       "      <th></th>\n",
       "      <th></th>\n",
       "      <th></th>\n",
       "      <th></th>\n",
       "    </tr>\n",
       "  </thead>\n",
       "  <tbody>\n",
       "    <tr>\n",
       "      <th>2014-05-27 13:30:00</th>\n",
       "      <td> 556.7978</td>\n",
       "      <td> 557.3727</td>\n",
       "      <td> 556.4168</td>\n",
       "      <td> 556.9004</td>\n",
       "      <td> 24345.4545</td>\n",
       "    </tr>\n",
       "    <tr>\n",
       "      <th>2014-05-27 13:40:00</th>\n",
       "      <td> 556.8028</td>\n",
       "      <td> 557.0344</td>\n",
       "      <td> 556.5117</td>\n",
       "      <td> 556.7789</td>\n",
       "      <td>  9655.5556</td>\n",
       "    </tr>\n",
       "    <tr>\n",
       "      <th>2014-05-27 13:50:00</th>\n",
       "      <td> 556.3139</td>\n",
       "      <td> 556.6450</td>\n",
       "      <td> 556.1610</td>\n",
       "      <td> 556.5196</td>\n",
       "      <td> 13480.0000</td>\n",
       "    </tr>\n",
       "    <tr>\n",
       "      <th>2014-05-27 14:00:00</th>\n",
       "      <td> 555.6571</td>\n",
       "      <td> 555.8577</td>\n",
       "      <td> 555.2614</td>\n",
       "      <td> 555.4436</td>\n",
       "      <td> 12109.0909</td>\n",
       "    </tr>\n",
       "    <tr>\n",
       "      <th>2014-05-27 14:10:00</th>\n",
       "      <td> 557.2918</td>\n",
       "      <td> 557.5704</td>\n",
       "      <td> 557.0917</td>\n",
       "      <td> 557.2817</td>\n",
       "      <td>  6944.4444</td>\n",
       "    </tr>\n",
       "    <tr>\n",
       "      <th>2014-05-27 14:20:00</th>\n",
       "      <td> 557.4159</td>\n",
       "      <td> 557.5710</td>\n",
       "      <td> 557.1722</td>\n",
       "      <td> 557.3500</td>\n",
       "      <td>  6030.0000</td>\n",
       "    </tr>\n",
       "  </tbody>\n",
       "</table>\n",
       "</div>"
      ],
      "text/plain": [
       "                        close      high       low      open      volume\n",
       "tstamp                                                                 \n",
       "2014-05-27 13:30:00  556.7978  557.3727  556.4168  556.9004  24345.4545\n",
       "2014-05-27 13:40:00  556.8028  557.0344  556.5117  556.7789   9655.5556\n",
       "2014-05-27 13:50:00  556.3139  556.6450  556.1610  556.5196  13480.0000\n",
       "2014-05-27 14:00:00  555.6571  555.8577  555.2614  555.4436  12109.0909\n",
       "2014-05-27 14:10:00  557.2918  557.5704  557.0917  557.2817   6944.4444\n",
       "2014-05-27 14:20:00  557.4159  557.5710  557.1722  557.3500   6030.0000"
      ]
     },
     "execution_count": 30,
     "metadata": {},
     "output_type": "execute_result"
    }
   ],
   "source": [
    "pd.set_option('display.precision',5)\n",
    "googTickTS.resample('10Min',closed='right').head(6)"
   ]
  },
  {
   "cell_type": "code",
   "execution_count": 40,
   "metadata": {
    "collapsed": false
   },
   "outputs": [
    {
     "data": {
      "text/html": [
       "<div style=\"max-height:1000px;max-width:1500px;overflow:auto;\">\n",
       "<table border=\"1\" class=\"dataframe\">\n",
       "  <thead>\n",
       "    <tr style=\"text-align: right;\">\n",
       "      <th></th>\n",
       "      <th>close</th>\n",
       "      <th>high</th>\n",
       "      <th>low</th>\n",
       "      <th>open</th>\n",
       "      <th>volume</th>\n",
       "    </tr>\n",
       "    <tr>\n",
       "      <th>tstamp</th>\n",
       "      <th></th>\n",
       "      <th></th>\n",
       "      <th></th>\n",
       "      <th></th>\n",
       "      <th></th>\n",
       "    </tr>\n",
       "  </thead>\n",
       "  <tbody>\n",
       "    <tr>\n",
       "      <th>2014-05-27 13:30:00</th>\n",
       "      <td> 555.008</td>\n",
       "      <td> 556.41</td>\n",
       "      <td> 554.35</td>\n",
       "      <td> 556.38</td>\n",
       "      <td> 81100</td>\n",
       "    </tr>\n",
       "    <tr>\n",
       "      <th>2014-05-27 13:30:30</th>\n",
       "      <td> 556.250</td>\n",
       "      <td> 556.30</td>\n",
       "      <td> 555.25</td>\n",
       "      <td> 555.25</td>\n",
       "      <td> 18500</td>\n",
       "    </tr>\n",
       "    <tr>\n",
       "      <th>2014-05-27 13:31:00</th>\n",
       "      <td> 556.250</td>\n",
       "      <td> 556.30</td>\n",
       "      <td> 555.25</td>\n",
       "      <td> 555.25</td>\n",
       "      <td> 18500</td>\n",
       "    </tr>\n",
       "    <tr>\n",
       "      <th>2014-05-27 13:31:30</th>\n",
       "      <td> 556.730</td>\n",
       "      <td> 556.75</td>\n",
       "      <td> 556.05</td>\n",
       "      <td> 556.39</td>\n",
       "      <td>  9900</td>\n",
       "    </tr>\n",
       "    <tr>\n",
       "      <th>2014-05-27 13:32:00</th>\n",
       "      <td> 556.730</td>\n",
       "      <td> 556.75</td>\n",
       "      <td> 556.05</td>\n",
       "      <td> 556.39</td>\n",
       "      <td>  9900</td>\n",
       "    </tr>\n",
       "  </tbody>\n",
       "</table>\n",
       "</div>"
      ],
      "text/plain": [
       "                       close    high     low    open  volume\n",
       "tstamp                                                      \n",
       "2014-05-27 13:30:00  555.008  556.41  554.35  556.38   81100\n",
       "2014-05-27 13:30:30  556.250  556.30  555.25  555.25   18500\n",
       "2014-05-27 13:31:00  556.250  556.30  555.25  555.25   18500\n",
       "2014-05-27 13:31:30  556.730  556.75  556.05  556.39    9900\n",
       "2014-05-27 13:32:00  556.730  556.75  556.05  556.39    9900"
      ]
     },
     "execution_count": 40,
     "metadata": {},
     "output_type": "execute_result"
    }
   ],
   "source": [
    "googTickTS[:3].resample('30s',fill_method='bfill')"
   ]
  },
  {
   "cell_type": "code",
   "execution_count": 45,
   "metadata": {
    "collapsed": false
   },
   "outputs": [
    {
     "data": {
      "text/html": [
       "<div style=\"max-height:1000px;max-width:1500px;overflow:auto;\">\n",
       "<table border=\"1\" class=\"dataframe\">\n",
       "  <thead>\n",
       "    <tr style=\"text-align: right;\">\n",
       "      <th></th>\n",
       "      <th>close</th>\n",
       "      <th>high</th>\n",
       "      <th>low</th>\n",
       "      <th>open</th>\n",
       "      <th>volume</th>\n",
       "    </tr>\n",
       "    <tr>\n",
       "      <th>tstamp</th>\n",
       "      <th></th>\n",
       "      <th></th>\n",
       "      <th></th>\n",
       "      <th></th>\n",
       "      <th></th>\n",
       "    </tr>\n",
       "  </thead>\n",
       "  <tbody>\n",
       "    <tr>\n",
       "      <th>2014-05-27 13:30:00</th>\n",
       "      <td> 556.8266</td>\n",
       "      <td> 557.4362</td>\n",
       "      <td> 556.3144</td>\n",
       "      <td> 556.8800</td>\n",
       "      <td> 28075.0000</td>\n",
       "    </tr>\n",
       "    <tr>\n",
       "      <th>2014-05-27 13:37:30</th>\n",
       "      <td> 556.5889</td>\n",
       "      <td> 556.9342</td>\n",
       "      <td> 556.4264</td>\n",
       "      <td> 556.7206</td>\n",
       "      <td> 11642.8571</td>\n",
       "    </tr>\n",
       "    <tr>\n",
       "      <th>2014-05-27 13:45:00</th>\n",
       "      <td> 556.9921</td>\n",
       "      <td> 557.2185</td>\n",
       "      <td> 556.7171</td>\n",
       "      <td> 556.9871</td>\n",
       "      <td>  9800.0000</td>\n",
       "    </tr>\n",
       "    <tr>\n",
       "      <th>2014-05-27 13:52:30</th>\n",
       "      <td> 556.1824</td>\n",
       "      <td> 556.5375</td>\n",
       "      <td> 556.0350</td>\n",
       "      <td> 556.3896</td>\n",
       "      <td> 14350.0000</td>\n",
       "    </tr>\n",
       "    <tr>\n",
       "      <th>2014-05-27 14:00:00</th>\n",
       "      <td> 555.2111</td>\n",
       "      <td> 555.4368</td>\n",
       "      <td> 554.8288</td>\n",
       "      <td> 554.9675</td>\n",
       "      <td> 12512.5000</td>\n",
       "    </tr>\n",
       "  </tbody>\n",
       "</table>\n",
       "</div>"
      ],
      "text/plain": [
       "                        close      high       low      open      volume\n",
       "tstamp                                                                 \n",
       "2014-05-27 13:30:00  556.8266  557.4362  556.3144  556.8800  28075.0000\n",
       "2014-05-27 13:37:30  556.5889  556.9342  556.4264  556.7206  11642.8571\n",
       "2014-05-27 13:45:00  556.9921  557.2185  556.7171  556.9871   9800.0000\n",
       "2014-05-27 13:52:30  556.1824  556.5375  556.0350  556.3896  14350.0000\n",
       "2014-05-27 14:00:00  555.2111  555.4368  554.8288  554.9675  12512.5000"
      ]
     },
     "execution_count": 45,
     "metadata": {},
     "output_type": "execute_result"
    }
   ],
   "source": [
    "googTickTS.resample('7T30S').head(5)"
   ]
  },
  {
   "cell_type": "code",
   "execution_count": 2,
   "metadata": {
    "collapsed": false
   },
   "outputs": [
    {
     "data": {
      "text/plain": [
       "Period('2014', 'A-MAY')"
      ]
     },
     "execution_count": 2,
     "metadata": {},
     "output_type": "execute_result"
    }
   ],
   "source": [
    "import pandas as pd\n",
    "pd.Period('2014',freq='A-MAY')"
   ]
  },
  {
   "cell_type": "code",
   "execution_count": 3,
   "metadata": {
    "collapsed": false
   },
   "outputs": [
    {
     "data": {
      "text/plain": [
       "Period('2013-11-15', 'D')"
      ]
     },
     "execution_count": 3,
     "metadata": {},
     "output_type": "execute_result"
    }
   ],
   "source": [
    "pd.Period('11/11/2013')+4"
   ]
  },
  {
   "cell_type": "code",
   "execution_count": 5,
   "metadata": {
    "collapsed": false
   },
   "outputs": [
    {
     "data": {
      "text/plain": [
       "333"
      ]
     },
     "execution_count": 5,
     "metadata": {},
     "output_type": "execute_result"
    }
   ],
   "source": [
    "pd.Period('10/10/2014') - pd.Period('11/11/2013') "
   ]
  },
  {
   "cell_type": "code",
   "execution_count": 10,
   "metadata": {
    "collapsed": false
   },
   "outputs": [
    {
     "name": "stdout",
     "output_type": "stream",
     "text": [
      "<class 'pandas.tseries.period.PeriodIndex'>\n",
      "[2014-02-01, ..., 2014-02-04]\n",
      "Length: 4, Freq: D\n"
     ]
    }
   ],
   "source": [
    "perRng=pd.period_range('2/1/2014','2/16/2014',freq='D')\n",
    "type(perRng)\n",
    "print(perRng[:4])"
   ]
  },
  {
   "cell_type": "code",
   "execution_count": 11,
   "metadata": {
    "collapsed": true
   },
   "outputs": [],
   "source": [
    "import matplotlib.pyplot as plt\n",
    "import numpy as np\n",
    "X = np.linspace(-np.pi, np.pi, 256, endpoint=True)\n",
    "f,g = np.cos(X)+np.sin(X),np.sin(X)-np.cos(X)\n",
    "f_ser = pd.Series(f)\n",
    "g_ser = pd.Series(g)"
   ]
  },
  {
   "cell_type": "code",
   "execution_count": 12,
   "metadata": {
    "collapsed": false
   },
   "outputs": [
    {
     "data": {
      "text/html": [
       "<div style=\"max-height:1000px;max-width:1500px;overflow:auto;\">\n",
       "<table border=\"1\" class=\"dataframe\">\n",
       "  <thead>\n",
       "    <tr style=\"text-align: right;\">\n",
       "      <th></th>\n",
       "      <th>sin(x)+cos(x)</th>\n",
       "      <th>sin(x)-cos(x)</th>\n",
       "    </tr>\n",
       "  </thead>\n",
       "  <tbody>\n",
       "    <tr>\n",
       "      <th>-3.141593</th>\n",
       "      <td>-1.000000</td>\n",
       "      <td> 1.000000</td>\n",
       "    </tr>\n",
       "    <tr>\n",
       "      <th>-3.116953</th>\n",
       "      <td>-1.024334</td>\n",
       "      <td> 0.975059</td>\n",
       "    </tr>\n",
       "    <tr>\n",
       "      <th>-3.092313</th>\n",
       "      <td>-1.048046</td>\n",
       "      <td> 0.949526</td>\n",
       "    </tr>\n",
       "    <tr>\n",
       "      <th>-3.067673</th>\n",
       "      <td>-1.071122</td>\n",
       "      <td> 0.923417</td>\n",
       "    </tr>\n",
       "    <tr>\n",
       "      <th>-3.043033</th>\n",
       "      <td>-1.093547</td>\n",
       "      <td> 0.896747</td>\n",
       "    </tr>\n",
       "  </tbody>\n",
       "</table>\n",
       "</div>"
      ],
      "text/plain": [
       "           sin(x)+cos(x)  sin(x)-cos(x)\n",
       "-3.141593      -1.000000       1.000000\n",
       "-3.116953      -1.024334       0.975059\n",
       "-3.092313      -1.048046       0.949526\n",
       "-3.067673      -1.071122       0.923417\n",
       "-3.043033      -1.093547       0.896747"
      ]
     },
     "execution_count": 12,
     "metadata": {},
     "output_type": "execute_result"
    }
   ],
   "source": [
    "plotDF=pd.concat([f_ser,g_ser],axis=1)\n",
    "plotDF.index=X\n",
    "plotDF.columns=['sin(x)+cos(x)','sin(x)-cos(x)']\n",
    "plotDF.head()"
   ]
  },
  {
   "cell_type": "code",
   "execution_count": 14,
   "metadata": {
    "collapsed": false
   },
   "outputs": [
    {
     "data": {
      "image/png": "[encoded data removed]",
      "text/plain": [
       "<matplotlib.figure.Figure at 0x7f8bb4383be0>"
      ]
     },
     "metadata": {},
     "output_type": "display_data"
    }
   ],
   "source": [
    "%matplotlib inline\n",
    "plotDF.plot()\n",
    "plt.show()"
   ]
  },
  {
   "cell_type": "code",
   "execution_count": 16,
   "metadata": {
    "collapsed": false
   },
   "outputs": [
    {
     "data": {
      "text/plain": [
       "array([<matplotlib.axes._subplots.AxesSubplot object at 0x7f8bb1ad1fd0>,\n",
       "       <matplotlib.axes._subplots.AxesSubplot object at 0x7f8bb1938828>], dtype=object)"
      ]
     },
     "execution_count": 16,
     "metadata": {},
     "output_type": "execute_result"
    },
    {
     "data": {
      "image/png": "[encoded data removed]",
      "text/plain": [
       "<matplotlib.figure.Figure at 0x7f8bb1acb8d0>"
      ]
     },
     "metadata": {},
     "output_type": "display_data"
    }
   ],
   "source": [
    "plotDF.plot(subplots=True,figsize=(6,6))"
   ]
  },
  {
   "cell_type": "code",
   "execution_count": 37,
   "metadata": {
    "collapsed": false
   },
   "outputs": [],
   "source": [
    "import pandas as pd\n",
    "import numpy as np\n",
    "from matplotlib import pyplot as plt\n",
    "from matplotlib import colors\n",
    "import matplotlib.pyplot as plt\n",
    "import matplotlib\n",
    "%matplotlib inline"
   ]
  },
  {
   "cell_type": "code",
   "execution_count": 53,
   "metadata": {
    "collapsed": false
   },
   "outputs": [
    {
     "data": {
      "image/png": "[encoded data removed]",
      "text/plain": [
       "<matplotlib.figure.Figure at 0x7f8ba7433940>"
      ]
     },
     "metadata": {},
     "output_type": "display_data"
    }
   ],
   "source": [
    "X = range(0,11)\n",
    "Y = [1/6.0 if x in range(1,7) else 0.0 for x in X]\n",
    "plt.plot(X,Y,'go-',linewidth=0,drawstyle='steps-pre',label='p(x)=1/6')\n",
    "plt.legend(loc=\"upper left\")\n",
    "plt.vlines(range(1,7),0,max(Y),linestyle='-')\n",
    "plt.xlabel('x')\n",
    "plt.ylabel('p(X)')\n",
    "plt.ylim(0,0.5)\n",
    "plt.xlim(0,10)\n",
    "plt.title('Discrete uniform probability distribution with p=1/6')\n",
    "plt.show()"
   ]
  },
  {
   "cell_type": "code",
   "execution_count": 51,
   "metadata": {
    "collapsed": false
   },
   "outputs": [
    {
     "data": {
      "text/plain": [
       "range(1, 20)"
      ]
     },
     "execution_count": 51,
     "metadata": {},
     "output_type": "execute_result"
    }
   ],
   "source": [
    "import datetime as dt\n"
   ]
  },
  {
   "cell_type": "code",
   "execution_count": null,
   "metadata": {
    "collapsed": true
   },
   "outputs": [],
   "source": []
  }
 ],
 "metadata": {
  "kernelspec": {
   "display_name": "Python 3.4",
   "language": "python",
   "name": "python3.4"
  },
  "language_info": {
   "codemirror_mode": {
    "name": "ipython",
    "version": 3
   },
   "file_extension": ".py",
   "mimetype": "text/x-python",
   "name": "python",
   "nbconvert_exporter": "python",
   "pygments_lexer": "ipython3",
   "version": "3.4.3"
  }
 },
 "nbformat": 4,
 "nbformat_minor": 0
}
