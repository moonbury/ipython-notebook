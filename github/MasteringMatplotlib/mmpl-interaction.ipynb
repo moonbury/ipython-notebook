{
 "cells": [
  {
   "cell_type": "markdown",
   "metadata": {},
   "source": [
    "# Event Handling and Interactive Plots"
   ]
  },
  {
   "cell_type": "markdown",
   "metadata": {},
   "source": [
    "In the following sections of this IPython Notebook we be looking at the following:\n",
    "\n",
    "* matplotlib's event loop support\n",
    "* Basic Event Handling\n",
    "  * List of supported events\n",
    "  * Mouse events\n",
    "  * Limitations of the IPython Notebook backend\n",
    "  * Keyboard events\n",
    "  * Axes and Figures events\n",
    "  * Object picking\n",
    "* Compound Event Handling\n",
    "  * Toolbar\n",
    "  * Interactive panning and zooming of figures\n",
    "\n",
    "Warm-up proceedures:"
   ]
  },
  {
   "cell_type": "code",
   "execution_count": 1,
   "metadata": {
    "collapsed": false
   },
   "outputs": [],
   "source": [
    "import matplotlib\n",
    "matplotlib.use('nbagg')"
   ]
  },
  {
   "cell_type": "markdown",
   "metadata": {},
   "source": [
    "Notice that we've left out the following line from our usual notebook prelude:\n",
    "\n",
    "```\n",
    "%matplotlib inline\n",
    "```\n",
    "\n",
    "We've disabled inline so that we get access to the interactive mode. More on that later :-)\n",
    "\n",
    "Let's continue with the necessary imports:"
   ]
  },
  {
   "cell_type": "code",
   "execution_count": 2,
   "metadata": {
    "collapsed": false
   },
   "outputs": [
    {
     "ename": "ImportError",
     "evalue": "No module named topo",
     "output_type": "error",
     "traceback": [
      "\u001b[1;31m---------------------------------------------------------------------------\u001b[0m",
      "\u001b[1;31mImportError\u001b[0m                               Traceback (most recent call last)",
      "\u001b[1;32m<ipython-input-2-c44eeade1318>\u001b[0m in \u001b[0;36m<module>\u001b[1;34m()\u001b[0m\n\u001b[0;32m     10\u001b[0m \u001b[1;33m\u001b[0m\u001b[0m\n\u001b[0;32m     11\u001b[0m \u001b[0msys\u001b[0m\u001b[1;33m.\u001b[0m\u001b[0mpath\u001b[0m\u001b[1;33m.\u001b[0m\u001b[0mappend\u001b[0m\u001b[1;33m(\u001b[0m\u001b[1;34m\"../lib\"\u001b[0m\u001b[1;33m)\u001b[0m\u001b[1;33m\u001b[0m\u001b[0m\n\u001b[1;32m---> 12\u001b[1;33m \u001b[1;32mimport\u001b[0m \u001b[0mtopo\u001b[0m\u001b[1;33m\u001b[0m\u001b[0m\n\u001b[0m",
      "\u001b[1;31mImportError\u001b[0m: No module named topo"
     ]
    }
   ],
   "source": [
    "import random\n",
    "import sys\n",
    "import time\n",
    "import numpy as np\n",
    "import matplotlib as mpl\n",
    "import matplotlib.pyplot as plt\n",
    "import seaborn as sns\n",
    "from IPython.display import Image\n",
    "from typecheck import typecheck\n",
    "\n",
    "sys.path.append(\"../lib\")\n",
    "import topo"
   ]
  },
  {
   "cell_type": "markdown",
   "metadata": {},
   "source": [
    "Let's set up our colors for this notebook:"
   ]
  },
  {
   "cell_type": "code",
   "execution_count": 3,
   "metadata": {
    "collapsed": false
   },
   "outputs": [],
   "source": [
    "pallete_name = \"husl\"\n",
    "#colors = sns.color_palette(pallete_name, 8)\n",
    "#colors.reverse()\n",
    "#cmap = mpl.colors.LinearSegmentedColormap.from_list(pallete_name, colors) \n",
    "cmap = mpl.colors.Colormap('Sequential')"
   ]
  },
  {
   "cell_type": "markdown",
   "metadata": {},
   "source": [
    "## Event Loop Basics"
   ]
  },
  {
   "cell_type": "markdown",
   "metadata": {},
   "source": [
    "Before we look at matplotlib's event loop support, let's do a quick survey of event loops and get a refresher on how they work. Here's a pretty simple \"event\" loop:\n",
    "\n",
    "```python\n",
    "while True:\n",
    "    pass\n",
    "```\n",
    "\n",
    "That loop is not going be worth our while to execute in this notebook :-) So let's do another one, almost as simple, that has a good chance of exiting in under a minute:"
   ]
  },
  {
   "cell_type": "code",
   "execution_count": 4,
   "metadata": {
    "collapsed": false
   },
   "outputs": [],
   "source": [
    "x = True\n",
    "while x:\n",
    "    time.sleep(1)\n",
    "    if random.random() < 0.15:\n",
    "        x = False"
   ]
  },
  {
   "cell_type": "markdown",
   "metadata": {},
   "source": [
    "This loop only handles one \"event\": the change of a value from ``True`` to ``False``. That loop will continue to run until the condition for a false value of ``x`` is met (a random float under a particular threshold).\n",
    "\n",
    "So what relation do these simple loops have with the loops that power toolkits like GTK and Qt or frameworks like Twisted and Tornado? Usually event systems have something like the following:\n",
    " * a way to start the event loop\n",
    " * a way to stop the event loop\n",
    " * providing a means for registering events\n",
    " * providing a means for responding to events\n",
    "\n",
    "During each run, a loop will usually check a data structure to see if there are any new events that have occurred since the last time it looped. In a network event system, each loop might check to see if any file descriptors are ready for reading or writing. In a GUI toolkit, each look might check to see if any clicks or button presses had occurred.\n",
    "\n",
    "Given the simple criteria above, let's try building a minimally demonstrative, if not useful, event loop. To keep this small, we're not going to integrate with socket or GUI events. The event that our loop will respond to will be quite minimal indeed."
   ]
  },
  {
   "cell_type": "code",
   "execution_count": 5,
   "metadata": {
    "collapsed": false
   },
   "outputs": [
    {
     "ename": "NameError",
     "evalue": "name 'typecheck' is not defined",
     "output_type": "error",
     "traceback": [
      "\u001b[1;31m---------------------------------------------------------------------------\u001b[0m",
      "\u001b[1;31mNameError\u001b[0m                                 Traceback (most recent call last)",
      "\u001b[1;32m<ipython-input-5-d0d6cdab5741>\u001b[0m in \u001b[0;36m<module>\u001b[1;34m()\u001b[0m\n\u001b[1;32m----> 1\u001b[1;33m \u001b[1;32mclass\u001b[0m \u001b[0mEventLoop\u001b[0m\u001b[1;33m:\u001b[0m\u001b[1;33m\u001b[0m\u001b[0m\n\u001b[0m\u001b[0;32m      2\u001b[0m     \u001b[1;32mdef\u001b[0m \u001b[0m__init__\u001b[0m\u001b[1;33m(\u001b[0m\u001b[0mself\u001b[0m\u001b[1;33m)\u001b[0m\u001b[1;33m:\u001b[0m\u001b[1;33m\u001b[0m\u001b[0m\n\u001b[0;32m      3\u001b[0m         \u001b[0mself\u001b[0m\u001b[1;33m.\u001b[0m\u001b[0mcommand\u001b[0m \u001b[1;33m=\u001b[0m \u001b[1;32mNone\u001b[0m\u001b[1;33m\u001b[0m\u001b[0m\n\u001b[0;32m      4\u001b[0m         \u001b[0mself\u001b[0m\u001b[1;33m.\u001b[0m\u001b[0mstatus\u001b[0m \u001b[1;33m=\u001b[0m \u001b[1;32mNone\u001b[0m\u001b[1;33m\u001b[0m\u001b[0m\n\u001b[0;32m      5\u001b[0m         \u001b[0mself\u001b[0m\u001b[1;33m.\u001b[0m\u001b[0mhandlers\u001b[0m \u001b[1;33m=\u001b[0m \u001b[1;33m{\u001b[0m\u001b[1;34m\"interrupt\"\u001b[0m\u001b[1;33m:\u001b[0m \u001b[0mself\u001b[0m\u001b[1;33m.\u001b[0m\u001b[0mhandle_interrupt\u001b[0m\u001b[1;33m}\u001b[0m\u001b[1;33m\u001b[0m\u001b[0m\n",
      "\u001b[1;32m<ipython-input-5-d0d6cdab5741>\u001b[0m in \u001b[0;36mEventLoop\u001b[1;34m()\u001b[0m\n\u001b[0;32m     22\u001b[0m         \u001b[0mself\u001b[0m\u001b[1;33m.\u001b[0m\u001b[0mcommand\u001b[0m \u001b[1;33m=\u001b[0m \u001b[1;34m\"stop\"\u001b[0m\u001b[1;33m\u001b[0m\u001b[0m\n\u001b[0;32m     23\u001b[0m \u001b[1;33m\u001b[0m\u001b[0m\n\u001b[1;32m---> 24\u001b[1;33m     \u001b[1;33m@\u001b[0m\u001b[0mtypecheck\u001b[0m\u001b[1;33m\u001b[0m\u001b[0m\n\u001b[0m\u001b[0;32m     25\u001b[0m     \u001b[1;32mdef\u001b[0m \u001b[0madd_handler\u001b[0m\u001b[1;33m(\u001b[0m\u001b[0mself\u001b[0m\u001b[1;33m,\u001b[0m \u001b[0mfn\u001b[0m\u001b[1;33m:\u001b[0m \u001b[0mcallable\u001b[0m\u001b[1;33m,\u001b[0m \u001b[0mevent\u001b[0m\u001b[1;33m:\u001b[0m \u001b[0mstr\u001b[0m\u001b[1;33m)\u001b[0m\u001b[1;33m:\u001b[0m\u001b[1;33m\u001b[0m\u001b[0m\n\u001b[0;32m     26\u001b[0m         \u001b[0mself\u001b[0m\u001b[1;33m.\u001b[0m\u001b[0mhandlers\u001b[0m\u001b[1;33m[\u001b[0m\u001b[0mevent\u001b[0m\u001b[1;33m]\u001b[0m \u001b[1;33m=\u001b[0m \u001b[0mfn\u001b[0m\u001b[1;33m\u001b[0m\u001b[0m\n",
      "\u001b[1;31mNameError\u001b[0m: name 'typecheck' is not defined"
     ]
    }
   ],
   "source": [
    "class EventLoop:\n",
    "    def __init__(self):\n",
    "        self.command = None\n",
    "        self.status = None\n",
    "        self.handlers = {\"interrupt\": self.handle_interrupt}\n",
    "        self.resolution = 0.1\n",
    "\n",
    "    def loop(self):\n",
    "        self.command = \"loop\"\n",
    "        while self.command != \"stop\":\n",
    "            self.status = \"running\"\n",
    "            time.sleep(self.resolution)\n",
    "            \n",
    "    def start(self):\n",
    "        self.command = \"run\"\n",
    "        try:\n",
    "            self.loop()\n",
    "        except KeyboardInterrupt:\n",
    "            self.handle_event(\"interrupt\")\n",
    "            \n",
    "    def stop(self):\n",
    "        self.command = \"stop\"\n",
    "\n",
    "    @typecheck\n",
    "    def add_handler(self, fn: callable, event: str):\n",
    "        self.handlers[event] = fn\n",
    "\n",
    "    @typecheck\n",
    "    def handle_event(self, event: str):\n",
    "        self.handlers[event]()\n",
    "        \n",
    "    def handle_interrupt(self):\n",
    "        print(\"Stopping event loop ...\")\n",
    "        self.stop()            "
   ]
  },
  {
   "cell_type": "markdown",
   "metadata": {},
   "source": [
    "Here's what we did:\n",
    "\n",
    "* Created a class that maintains a data structure for event handlers\n",
    "* We also added a default handler for the \"interrupt\" event\n",
    "* Created a loop method\n",
    "* Created methods for starting and stopping the loop (via an attribute change)\n",
    "* In our ``start`` method, we check for an interrupt signal, and fire off an interrupt handler for said signal\n",
    "* Created a method for adding event handlers to the handler data structure (should we want to add more)\n",
    "\n",
    "Let's creat an instance and start it up:"
   ]
  },
  {
   "cell_type": "code",
   "execution_count": null,
   "metadata": {
    "collapsed": false
   },
   "outputs": [],
   "source": [
    "el = EventLoop()\n",
    "el.start()"
   ]
  },
  {
   "cell_type": "markdown",
   "metadata": {},
   "source": [
    "When you evaluate that cell, IPython will display the usual indicator that a cell is continuing to run:\n",
    "\n",
    "```\n",
    "In [*]:\n",
    "```\n",
    "\n",
    "As soon as you're satisfied that the loop is merrily looping, go up to the IPython Notebook menu and select \"Kernel\" -> \"Interrupt\". The cell with the loop in it should finish, with not only an ``In`` number instead of an asterisk, but our interrupt handler should have printed out a status message as well.\n",
    "\n",
    "Though this event loop is fairly different from those that power networking libraries or GUI toolkits, it's *very* close (both in nature and code) to the default event loops matplotlib provides for its canvas objects. As such, this is a perfect starting place for your deeper understanding of matplotlib. To continue in this vein, reading the matplotlib backend source code would serve you well."
   ]
  },
  {
   "cell_type": "markdown",
   "metadata": {},
   "source": [
    "## Standard Event Handling in matplotlib"
   ]
  },
  {
   "cell_type": "markdown",
   "metadata": {},
   "source": [
    "With some event loop knowledge under our belts, we're ready to start working with matplotlib events.\n",
    "\n",
    "Below is the list of supported events in matplotlib as of version 1.4:\n",
    "\n",
    "\n",
    "| Event name              | Class and description                                |\n",
    "|-------------------------|------------------------------------------------------|\n",
    "|``button_press_event``   | ``MouseEvent`` - mouse button is pressed             |\n",
    "|``button_release_event`` | ``MouseEvent`` - mouse button is released            |\n",
    "|``draw_event``\t          | ``DrawEvent`` - canvas draw                          |\n",
    "|``key_press_event``      | ``KeyEvent`` - key is pressed                        |\n",
    "|``key_release_event``    | ``KeyEvent`` - key is released                       |\n",
    "|``motion_notify_event``  | ``MouseEvent`` - mouse motion                        |\n",
    "|``pick_event``           | ``PickEvent`` - an object in the canvas is selected  |\n",
    "|``resize_event``\t      | ``ResizeEvent`` - figure canvas is resized           |\n",
    "|``scroll_event``\t      | ``MouseEvent`` - mouse scroll wheel is rolled        |\n",
    "|``figure_enter_event``   | ``LocationEvent`` - mouse enters a new figure        |\n",
    "|``figure_leave_event``   | ``LocationEvent`` - mouse leaves a figure            |\n",
    "|``axes_enter_event``\t  | ``LocationEvent`` - mouse enters a new axes          |\n",
    "|``axes_leave_event``\t  | ``LocationEvent`` - mouse leaves an axes             |\n",
    "\n",
    "\n",
    "We'll discuss some of these below in more detail. With that information in hand, you should be able to tackle problems with any of the supported events in matplotlib."
   ]
  },
  {
   "cell_type": "markdown",
   "metadata": {},
   "source": [
    "### Mouse Events"
   ]
  },
  {
   "cell_type": "markdown",
   "metadata": {},
   "source": [
    "In the next cell, we will define a couple of callback functions, and then connet these to specific canvas events.\n",
    "\n",
    "Go ahead and render the cell then click on the display plot a couple of times:"
   ]
  },
  {
   "cell_type": "code",
   "execution_count": null,
   "metadata": {
    "collapsed": false
   },
   "outputs": [],
   "source": [
    "def press_callback(event):\n",
    "    event.canvas.figure.text(event.xdata, event.ydata, '<- clicked here')\n",
    "    \n",
    "def release_callback(event):\n",
    "    event.canvas.figure.show()\n",
    "    \n",
    "(figure, axes) = plt.subplots()\n",
    "press_conn_id = figure.canvas.mpl_connect('button_press_event', press_callback)\n",
    "release_conn_id = figure.canvas.mpl_connect('button_release_event', release_callback)\n",
    "plt.show()"
   ]
  },
  {
   "cell_type": "markdown",
   "metadata": {},
   "source": [
    "Our callbacks display a little note close to each $(x, y)$ coordinate where we clicked (the location is not exact due to font-sizing, etc.) If we use a graphical indication as opposed to a textual one, we can get much better precision:"
   ]
  },
  {
   "cell_type": "code",
   "execution_count": null,
   "metadata": {
    "collapsed": false
   },
   "outputs": [],
   "source": [
    "class Callbacks:\n",
    "    def __init__(self):\n",
    "        (figure, axes) = plt.subplots()\n",
    "        axes.set_aspect(1)\n",
    "        figure.canvas.mpl_connect('button_press_event', self.press)\n",
    "        figure.canvas.mpl_connect('button_release_event', self.release)\n",
    "\n",
    "    def start(self):\n",
    "        plt.show()\n",
    "\n",
    "    def press(self, event):\n",
    "        self.start_time = time.time()\n",
    "\n",
    "    def release(self, event):\n",
    "        self.end_time = time.time()\n",
    "        self.draw_click(event)\n",
    "        \n",
    "    def draw_click(self, event):\n",
    "        size = 4 * (self.end_time - self.start_time) ** 2\n",
    "        c1 = plt.Circle([event.xdata, event.ydata], 0.002,)\n",
    "        c2 = plt.Circle([event.xdata, event.ydata], 0.02 * size, alpha=0.2)\n",
    "        event.canvas.figure.gca().add_artist(c1)\n",
    "        event.canvas.figure.gca().add_artist(c2)\n",
    "        event.canvas.figure.show()\n",
    "\n",
    "cbs = Callbacks()\n",
    "cbs.start()"
   ]
  },
  {
   "cell_type": "markdown",
   "metadata": {},
   "source": [
    "As you can see, we changed the callback to display a cicle instead of text. If you choose to press and hold, and then release a bit later, you will see that a second, transparent circle is displayed. The longer you hold, the larger the second transpent circle will be.\n",
    "\n",
    "Let's try something a little more involved, adapted from the [line-drawing example](http://matplotlib.org/users/event_handling.html#event-attributes) in the \"Event handling and picking\" chapter of the matplotlib [Advanced Guide](http://matplotlib.org/users/developer.html):"
   ]
  },
  {
   "cell_type": "code",
   "execution_count": null,
   "metadata": {
    "collapsed": false
   },
   "outputs": [],
   "source": [
    "class LineBuilder:\n",
    "    def __init__(self, event_name='button_press_event'):\n",
    "        (self.figure, self.axes) = plt.subplots()\n",
    "        plt.xlim([0, 10])\n",
    "        plt.ylim([0, 10])\n",
    "        (self.xs, self.ys) = ([5], [5])\n",
    "        (self.line,) = self.axes.plot(self.xs, self.ys)\n",
    "        self.axes.set_title('Click the canvas to build line segments...')\n",
    "        self.canvas = self.figure.canvas\n",
    "        self.conn_id = self.canvas.mpl_connect(event_name, self.callback)\n",
    "\n",
    "    def start(self):\n",
    "        plt.show()\n",
    "\n",
    "    def update_line(self, event):\n",
    "        self.xs.append(event.xdata)\n",
    "        self.ys.append(event.ydata)\n",
    "        self.line.set_data(self.xs, self.ys)\n",
    "\n",
    "    def callback(self, event):\n",
    "        if event.inaxes != self.line.axes:\n",
    "            return\n",
    "        self.update_line(event)\n",
    "        self.canvas.draw()\n",
    "\n",
    "lb = LineBuilder()\n",
    "lb.start()"
   ]
  },
  {
   "cell_type": "markdown",
   "metadata": {},
   "source": [
    "For dessert, here's the [slider demo](http://matplotlib.org/users/screenshots.html#slider-demo) from matplotlib: "
   ]
  },
  {
   "cell_type": "code",
   "execution_count": null,
   "metadata": {
    "collapsed": false
   },
   "outputs": [],
   "source": [
    "from matplotlib import widgets\n",
    "from matplotlib.backend_bases import MouseEvent\n",
    "\n",
    "def get_sine_data(amplitude=5, frequency=3, time=None):\n",
    "    return amplitude * np.sin(2 * np.pi * frequency * time)\n",
    "\n",
    "class SineSliders:\n",
    "    def __init__(self, amplitude=5, frequency=3):\n",
    "        (self.figure, _) = plt.subplots()\n",
    "        self.configure()\n",
    "        self.a0 = amplitude\n",
    "        self.f0 = frequency\n",
    "        self.time = np.arange(0.0, 1.0, 0.001)\n",
    "        self.data = get_sine_data(\n",
    "            amplitude=self.a0, frequency=self.f0, time=self.time)\n",
    "        (self.line,) = plt.plot(self.time, self.data, lw=2, color='red')\n",
    "        self.axes_amp  = plt.axes([0.25, 0.15, 0.65, 0.03])\n",
    "        self.axes_freq = plt.axes([0.25, 0.1, 0.65, 0.03])\n",
    "        self.setup_sliders()\n",
    "        self.setup_reset_button()\n",
    "        self.setup_color_selector()\n",
    "\n",
    "    def start(self):\n",
    "        plt.show()\n",
    "\n",
    "    def configure(self):\n",
    "        plt.subplots_adjust(left=0.25, bottom=0.25)\n",
    "        plt.axis([0, 1, -10, 10])\n",
    "\n",
    "    def setup_sliders(self):\n",
    "        self.slider_amp = widgets.Slider(\n",
    "            self.axes_amp, 'Amp', 0.1, 10.0, valinit=self.a0)\n",
    "        self.slider_freq = widgets.Slider(\n",
    "            self.axes_freq, 'Freq', 0.1, 30.0, valinit=self.f0)\n",
    "        self.slider_freq.on_changed(self.update)\n",
    "        self.slider_amp.on_changed(self.update)\n",
    "        \n",
    "    def setup_reset_button(self):\n",
    "        reset_axes = plt.axes([0.8, 0.025, 0.1, 0.04])\n",
    "        reset_button = widgets.Button(reset_axes, 'Reset', hovercolor='0.975')\n",
    "        reset_button.on_clicked(self.reset)\n",
    "        \n",
    "    def setup_color_selector(self):\n",
    "        radio_axes = plt.axes([0.025, 0.5, 0.15, 0.15], aspect=1)\n",
    "        radio_select = widgets.RadioButtons(\n",
    "            radio_axes, ('red', 'blue', 'green',), active=0)\n",
    "        radio_select.on_clicked(self.switchcolor)\n",
    "        \n",
    "    def update(self, val):\n",
    "        self.data = get_sine_data(self.slider_amp.val,\n",
    "                                  self.slider_freq.val,\n",
    "                                  self.time)\n",
    "        self.line.set_ydata(self.data)\n",
    "        self.figure.canvas.draw()\n",
    "\n",
    "    def reset(self, event):\n",
    "        self.slider_freq.reset()\n",
    "        self.slider_amp.reset()\n",
    "\n",
    "    def switchcolor(self, label):\n",
    "        self.line.set_color(label)\n",
    "        self.figure.canvas.draw()\n",
    "\n",
    "sldrs = SineSliders(amplitude=0.5, frequency=20)\n",
    "sldrs.start()"
   ]
  },
  {
   "cell_type": "markdown",
   "metadata": {},
   "source": [
    "### Limitations of *nbagg*"
   ]
  },
  {
   "cell_type": "markdown",
   "metadata": {},
   "source": [
    "The IPython Notebook AGG backend currently doesn't provide support for the following matplotlib events:\n",
    " * ``key_press``\n",
    " * ``scroll_event`` (mouse scrolling)\n",
    " * mouse right click\n",
    " * mouse doubleclick\n",
    " \n",
    "Also, mouse movement events can be a little inconsistent (this can be especially true if your browser or other application is running at a significant CPU%, causing events to be missed in matplotlib running in an IPython notebook).\n",
    " \n",
    "However, we can still use IPython while switching to a new backend for matplotlib. To see which backends are available to you:"
   ]
  },
  {
   "cell_type": "code",
   "execution_count": null,
   "metadata": {
    "collapsed": false
   },
   "outputs": [],
   "source": [
    "sorted(set(mpl.rcsetup.interactive_bk + mpl.rcsetup.non_interactive_bk + mpl.rcsetup.all_backends))"
   ]
  },
  {
   "cell_type": "markdown",
   "metadata": {},
   "source": [
    "Currently keyboard events aren't supported by IPython and the matplotlib *nbagg* backend. So, for this section, we'll switch over to your default platform's GUI toolkit in matplotlib.\n",
    "\n",
    "You have two options for the remainder of this notebook:\n",
    "\n",
    "1. Use IPython from a terminal, or\n",
    "1. Switch backends in this notebook.\n",
    "\n",
    "For terminal use, change directory to where you cloned this notebook's git repo and then fire up IPython:\n",
    "\n",
    "```bash\n",
    "$ cd interaction\n",
    "$ make repl\n",
    "```\n",
    "\n",
    "The ``repl`` target is a convenience that uses a Python virtual environment and the downloaded dependencies for this notebook. Once you're at the IPython prompt, you may start entering code with automatically-configured access to the libraries needed by this notebook.\n",
    "\n",
    "If you would like to continue using this notebook instead of switching to the terminal, you'll need to change your backend for the remaining examples. For instance:"
   ]
  },
  {
   "cell_type": "code",
   "execution_count": null,
   "metadata": {
    "collapsed": false
   },
   "outputs": [],
   "source": [
    "plt.switch_backend('MacOSX')"
   ]
  },
  {
   "cell_type": "markdown",
   "metadata": {},
   "source": [
    "### Keyboard Events"
   ]
  },
  {
   "cell_type": "markdown",
   "metadata": {},
   "source": [
    "Let's prepare for our key event explorations by defining some support functions ahead of time:"
   ]
  },
  {
   "cell_type": "code",
   "execution_count": null,
   "metadata": {
    "collapsed": false
   },
   "outputs": [],
   "source": [
    "def make_data(n, c):\n",
    "    r = 4 * c * np.random.rand(n) ** 2\n",
    "    theta = 2 * np.pi * np.random.rand(n)\n",
    "    area = 200 * r**2 * np.random.rand(n)\n",
    "    return (r, area, theta)\n",
    "\n",
    "def generate_data(n, c):\n",
    "    while True:\n",
    "        yield make_data(n, c)\n",
    "                 \n",
    "def make_plot(radius, area, theta, axes=None):\n",
    "    scatter = axes.scatter(\n",
    "        theta, radius, c=theta, s=area, cmap=cmap)\n",
    "    scatter.set_alpha(0.75)\n",
    "\n",
    "def update_plot(radius, area, theta, event):\n",
    "    figure = event.canvas.figure\n",
    "    axes = figure.gca()\n",
    "    make_plot(radius, area, theta, axes)\n",
    "    event.canvas.draw()"
   ]
  },
  {
   "cell_type": "markdown",
   "metadata": {},
   "source": [
    "Now let's make a class which will:\n",
    "\n",
    "* dispatch based upon keys pressed and\n",
    "* navigate through our endless data set"
   ]
  },
  {
   "cell_type": "code",
   "execution_count": null,
   "metadata": {
    "collapsed": false
   },
   "outputs": [],
   "source": [
    "class Carousel:\n",
    "    def __init__(self, data):\n",
    "        (self.left, self.right) = ([], [])\n",
    "        self.gen = data\n",
    "        self.last_key = None\n",
    "\n",
    "    def start(self, axes):\n",
    "        make_plot(*self.next(), axes=axes)\n",
    "\n",
    "    def prev(self):\n",
    "        if not self.left:\n",
    "            return []\n",
    "        data = self.left.pop()\n",
    "        self.right.insert(0, data)\n",
    "        return data\n",
    "\n",
    "    def next(self):\n",
    "        if self.right:\n",
    "            data = self.right.pop(0)\n",
    "        else:\n",
    "            data = next(self.gen)\n",
    "        self.left.append(data)\n",
    "        return data\n",
    "\n",
    "    def reset(self):\n",
    "        self.right = self.left + self.right\n",
    "        self.left = []\n",
    "        \n",
    "    def dispatch(self, event):\n",
    "        if event.key == \"right\":\n",
    "            self.handle_right(event)\n",
    "        elif event.key == \"left\":\n",
    "            self.handle_left(event)\n",
    "        elif event.key == \"r\":\n",
    "            self.handle_reset(event)\n",
    "\n",
    "    def handle_right(self, event):\n",
    "        print(\"Got right key ...\")\n",
    "        if self.last_key == \"left\":\n",
    "            self.next()\n",
    "        update_plot(*self.next(), event=event)\n",
    "        self.last_key = event.key\n",
    "    def handle_left(self, event):\n",
    "        print(\"Got left key ...\")\n",
    "        if self.last_key == \"right\":\n",
    "            self.prev()\n",
    "        data = self.prev()\n",
    "        if data:\n",
    "            update_plot(*data, event=event)\n",
    "        self.last_key = event.key\n",
    "\n",
    "    def handle_reset(self, event):\n",
    "        print(\"Got reset key ...\")\n",
    "        self.reset()\n",
    "        update_plot(*self.next(), event=event)\n",
    "        self.last_key = event.key"
   ]
  },
  {
   "cell_type": "markdown",
   "metadata": {},
   "source": [
    "One more class, to help keep things clean:"
   ]
  },
  {
   "cell_type": "code",
   "execution_count": null,
   "metadata": {
    "collapsed": false
   },
   "outputs": [],
   "source": [
    "class CarouselManager:\n",
    "    def __init__(self, density=300, multiplier=1):\n",
    "        (figure, self.axes) = plt.subplots(\n",
    "            figsize=(12,12), subplot_kw={\"polar\": \"True\"})\n",
    "        self.axes.hold(False)\n",
    "        data = generate_data(density, multiplier)\n",
    "        self.carousel = Carousel(data)\n",
    "        _ = figure.canvas.mpl_connect(\n",
    "            'key_press_event', self.carousel.dispatch)\n",
    "    def start(self):\n",
    "        self.carousel.start(self.axes)\n",
    "        plt.show()"
   ]
  },
  {
   "cell_type": "markdown",
   "metadata": {},
   "source": [
    "Now we can take it for a spin:"
   ]
  },
  {
   "cell_type": "code",
   "execution_count": null,
   "metadata": {
    "collapsed": false
   },
   "outputs": [],
   "source": [
    "cm = CarouselManager(multiplier=2)\n",
    "cm.start()"
   ]
  },
  {
   "cell_type": "markdown",
   "metadata": {},
   "source": [
    "In the GUI canvas, you should see something that looks a bit like this:"
   ]
  },
  {
   "cell_type": "raw",
   "metadata": {
    "collapsed": false
   },
   "source": [
    "Image(\"figure_1.png\")"
   ]
  },
  {
   "cell_type": "markdown",
   "metadata": {},
   "source": [
    "The plot shoudl have the focus automatically. Press the right and left arrow keys to navigate through your data sets. You can return to the beginning of the data set by typing \"r\", the \"reset\" key. Play with it a bit, to convince yourself that it's really doing what we intended :-)"
   ]
  },
  {
   "cell_type": "markdown",
   "metadata": {},
   "source": [
    "### Axes and Figure Events"
   ]
  },
  {
   "cell_type": "code",
   "execution_count": null,
   "metadata": {
    "collapsed": false
   },
   "outputs": [],
   "source": [
    "def enter_axes(event):\n",
    "    print('enter_axes', event.inaxes)\n",
    "    event.inaxes.patch.set_facecolor('yellow')\n",
    "    event.canvas.draw()\n",
    "\n",
    "def leave_axes(event):\n",
    "    print('leave_axes', event.inaxes)\n",
    "    event.inaxes.patch.set_facecolor('white')\n",
    "    event.canvas.draw()\n",
    "\n",
    "def enter_figure(event):\n",
    "    print('enter_figure', event.canvas.figure)\n",
    "    event.canvas.figure.patch.set_facecolor('red')\n",
    "    event.canvas.draw()\n",
    "\n",
    "def leave_figure(event):\n",
    "    print('leave_figure', event.canvas.figure)\n",
    "    event.canvas.figure.patch.set_facecolor('grey')\n",
    "    event.canvas.draw()\n",
    "\n",
    "class FigureAndAxesFocus:\n",
    "    def __init__(self):\n",
    "        (self.figure, (self.axes1, self.axes2)) = plt.subplots(2, 1)\n",
    "        title = \"Hover mouse over figure or its axes to trigger events\"\n",
    "        self.figure.suptitle(title)\n",
    "        self.setup_figure_events()\n",
    "        self.setup_axes_events()\n",
    "\n",
    "    def start(self):\n",
    "        plt.show()\n",
    "        \n",
    "    def setup_figure_events(self):\n",
    "        self.figure.canvas.mpl_connect(\n",
    "            \"figure_enter_event\", enter_figure)\n",
    "        self.figure.canvas.mpl_connect(\n",
    "            \"figure_leave_event\", leave_figure)\n",
    "\n",
    "    def setup_axes_events(self):\n",
    "        self.figure.canvas.mpl_connect(\n",
    "            \"axes_enter_event\", enter_axes)\n",
    "        self.figure.canvas.mpl_connect(\n",
    "            \"axes_leave_event\", leave_axes)"
   ]
  },
  {
   "cell_type": "markdown",
   "metadata": {},
   "source": [
    "Let's try it out:"
   ]
  },
  {
   "cell_type": "code",
   "execution_count": null,
   "metadata": {
    "collapsed": false,
    "scrolled": false
   },
   "outputs": [],
   "source": [
    "faaf = FigureAndAxesFocus()\n",
    "faaf.start()"
   ]
  },
  {
   "cell_type": "markdown",
   "metadata": {},
   "source": [
    "### Object Picking"
   ]
  },
  {
   "cell_type": "markdown",
   "metadata": {},
   "source": [
    "The next event we will mention is a special one: the event of an object being \"picked\". Every ``Artist`` instance (naturally including any subclassess of ``Artist``) has an attribute ``picker``. Setting this attribute is what enables object picking in matplotlib.\n",
    "\n",
    "The definition of *picked* can vary, depending upon context. For instance, setting ``Artist.picked`` has the following results:\n",
    " * If ``True``, picking is enabled for the artist object and a ``pick_event`` will fire any time a mouse event occurs over the artist object in the figure.\n",
    " * If a number (e.g., ``float`` or ``int``), the value is interpreted as a \"tolerance\"; if the event's data (such as $x$ and $y$ values) is within the value of that tolerance, the ``pick_event`` will fire.\n",
    " * If a callable, then the provided function or method returns a boolean value which determines if the ``pick_event`` is fired.\n",
    " * If ``None``, picking is disabled.\n",
    " \n",
    "The example below is adapted from the matplotlib project's [picking exercise](http://matplotlib.org/users/event_handling.html#picking-exercise) in the [Advanced User's Guide](http://matplotlib.org/users/developer.html). In it, we create a data set of 100 arrays, each containing 1000 random numbers. The sample mean and standard deviation of each is determined, and a plot is made of the 100 means vs the 100 standard deviations. We then connect the line created by the plot command to the pick event, and plot the original (randomly generated) time series data corresponding to the \"picked\" points. If more than one point is within the tolerance of the clicked on point, we display multiple subplots for the time series which fall into our tolerance (in this case, 10 pixels)."
   ]
  },
  {
   "cell_type": "code",
   "execution_count": null,
   "metadata": {
    "collapsed": false
   },
   "outputs": [],
   "source": [
    "class DataPicker:\n",
    "    def __init__(self, range):\n",
    "        self.range = range\n",
    "        self.figure = self.axes = self.line = None\n",
    "        self.xs = np.random.rand(*self.range)\n",
    "        self.means = np.mean(self.xs, axis=1)\n",
    "        self.stddev = np.std(self.xs, axis=1)\n",
    "\n",
    "    def start(self):\n",
    "        self.create_main_plot()\n",
    "        self.figure.canvas.mpl_connect('pick_event', self.handle_pick)\n",
    "        plt.show()\n",
    "\n",
    "    def create_main_plot(self):\n",
    "        (self.figure, self.axes) = plt.subplots()\n",
    "        self.axes.set_title('click on point to plot time series')\n",
    "        (self.line,) = self.axes.plot(self.means, self.stddev, 'o', picker=10)\n",
    "\n",
    "    def create_popup_plot(self, n, event):\n",
    "        popup_figure = plt.figure()\n",
    "        for subplotnum, i in enumerate(event.ind):\n",
    "            popup_axes = popup_figure.add_subplot(n, 1, subplotnum + 1)\n",
    "            popup_axes.plot(self.xs[i])\n",
    "            text_data = (self.means[i], self.stddev[i])\n",
    "            popup_axes.text(\n",
    "                0.05, 0.9,\n",
    "                '$\\mu$=%1.3f\\n$\\sigma$=%1.3f' % text_data,\n",
    "                transform=popup_axes.transAxes, va='top')\n",
    "            popup_axes.set_ylim(-0.5, 1.5)\n",
    "        popup_figure.show()\n",
    "\n",
    "    def handle_pick(self, event):\n",
    "        if event.artist != self.line:\n",
    "            return\n",
    "        n = len(event.ind)\n",
    "        if not n:\n",
    "            return\n",
    "        self.create_popup_plot(n, event)"
   ]
  },
  {
   "cell_type": "code",
   "execution_count": null,
   "metadata": {
    "collapsed": false
   },
   "outputs": [],
   "source": [
    "dp = DataPicker(range=(100,1000))\n",
    "dp.start()"
   ]
  },
  {
   "cell_type": "markdown",
   "metadata": {},
   "source": [
    "## Compound Event Handling"
   ]
  },
  {
   "cell_type": "markdown",
   "metadata": {},
   "source": [
    "This section discusses the combination of multiple events or other sources of data in order to provide a more highly customized user experience, whether that be for visual plot updates, preparation of data, setting object properties, or updating widgets. This is what we will refer to as \"compound events\"."
   ]
  },
  {
   "cell_type": "markdown",
   "metadata": {},
   "source": [
    "### Navigation Toolbar"
   ]
  },
  {
   "cell_type": "markdown",
   "metadata": {},
   "source": [
    "matplotlib backends come with a feature we haven't discussed yet: a widget for [interactive navigation](http://matplotlib.org/users/navigation_toolbar.html). This widget is available for all the backends (including the ``nbagg`` backend for IPython, when not in \"inline\" mode). In brief, the functionality associated with the buttons in the widget is as follows:\n",
    " * *Home*: returns the figure to its originally rendered state\n",
    " * *Previous*: return to the previous view in the plot's history\n",
    " * *Next*: move to the next view in the plot's history\n",
    " * *Pan/Zoom*: pan across the plot by clicking and holding the left mouse button; zoom by clicking and holding the right mouse button (behavior differs between Cartesian and Polar plots)\n",
    " * *Zoom-to-Rectangle*: zoom in on a selected portion of the plot\n",
    " * *Subplot Configuration*: configure the display of subplots via a pop-up widget with various parameters\n",
    " * *Save*: save the plot, in its currently displayed state, to a file\n",
    " \n",
    "When a toolbar action is engaged, the ``NavigationToolbar`` instance sets the current mode. For instance, when the *Zoom-to-Rectangle* button is clicked, the mode will be set to ``zoom rect``. When in *Pan/Zoom*, the mode will be set to ``pan/zoom``. These can be used in conjunction with the supported events to fire callbacks in response to toolbar activity.\n",
    "\n",
    "In point of fact, the toolbar class, ``matplotlib.backend_bases.NavigationToolbar2`` is an excellent place to look for examples of \"compound events\". Let's examine the *Pan/Zoom* button. The class tracks the following via attributes that get set:\n",
    " * The connection id for a \"press\" event\n",
    " * The connection id for a \"release\" event\n",
    " * The connection id for a \"mouse move\" event (correlated to a mouse drag later)\n",
    " * Whether the toolbar is \"active\"\n",
    " * What the toolbar mode is\n",
    " * What the zoom mode is\n",
    "\n",
    "During toolbar setup, toolbar button events are connected to callbacks. When these buttons are pressed, and the callbacks are fired, old events are disconnected and new ones connected. In this way, chains of events may be set up with a particular sequence of events firing only a particular set of callbacks and in a particular order."
   ]
  },
  {
   "cell_type": "markdown",
   "metadata": {},
   "source": [
    "### Specialized Events"
   ]
  },
  {
   "cell_type": "markdown",
   "metadata": {},
   "source": [
    "The code in ``matplotlib.backend_bases.NavigationToolbar2`` is a great place to go to get some ideas about how you might combine events in your own projects. You might have a workflow that requires responses to plot updates, but only if a series of other events has taken place first. You can accomplish these by connecting events to and disconnecting them from various callbacks."
   ]
  },
  {
   "cell_type": "markdown",
   "metadata": {},
   "source": [
    "### Interactive Panning and Zooming"
   ]
  },
  {
   "cell_type": "markdown",
   "metadata": {},
   "source": [
    "Let's go back to the toolbar for a practical example of creating a compound event.\n",
    "\n",
    "The problem we want to address is this: when a user pans or zooms out of the range of previously computed data in a plotted area, they are presented with parts of an empty grid with no visualization. It would be nice if we could put our new-found event callback skills to use in order to solve this issue.\n",
    "\n",
    "Let's look at an example where it would be useful to have the plot figure refreshed when it is moved: a topographic map. Geophysicsist Joe Kington has provided some nice answers on Stackoverflow regarding matplotlib in the context of terrain gradients. In [one particular example](http://stackoverflow.com/a/16531438), he showed how to view the flow of water from random wells on a topographic map. We're going to do a couple of things with this example:\n",
    "\n",
    "* add a color map to give it the look of a physical map\n",
    "* give altitude in meters, and most importantly,\n",
    "* create a class that can update the map via a method call\n",
    "\n",
    "Our custom color map and Joe's equations for generating a topographical map have been saved to ``./lib/topo.py``. We'll need to import those. Then we can define ``TopoFlowMap``, our wrapper class that will be used to update the plot when we pan:"
   ]
  },
  {
   "cell_type": "code",
   "execution_count": null,
   "metadata": {
    "collapsed": false
   },
   "outputs": [],
   "source": [
    "class TopoFlowMap:\n",
    "    def __init__(self, xrange=None, yrange=None, seed=1):\n",
    "        self.xrange = xrange or (0,1)\n",
    "        self.yrange = yrange or (0,1)\n",
    "        self.seed = seed\n",
    "        (self.figure, self.axes) = plt.subplots(figsize=(12,8))\n",
    "        self.axes.set_aspect(1)\n",
    "        self.colorbar = None\n",
    "        self.update()\n",
    "\n",
    "    def get_ranges(self, xrange, yrange):\n",
    "        if xrange:\n",
    "            self.xrange = xrange\n",
    "        if yrange:\n",
    "            self.yrange = yrange\n",
    "        return (xrange, yrange)\n",
    "\n",
    "    def get_colorbar_axes(self):\n",
    "        colorbar_axes = None\n",
    "        if self.colorbar:\n",
    "            colorbar_axes = self.colorbar.ax\n",
    "            colorbar_axes.clear()\n",
    "        return colorbar_axes\n",
    "    \n",
    "    def get_filled_contours(self, coords):\n",
    "        return self.axes.contourf(cmap=topo.land_cmap, *coords.values())\n",
    "\n",
    "    def update_contour_lines(self, filled_contours):\n",
    "        contours = self.axes.contour(filled_contours, colors=\"black\", linewidths=2)\n",
    "        self.axes.clabel(contours, fmt=\"%d\", colors=\"#330000\")\n",
    "\n",
    "    def update_water_flow(self, coords, gradient):\n",
    "        self.axes.streamplot(\n",
    "            coords.get(\"x\")[:,0],\n",
    "            coords.get(\"y\")[0,:],\n",
    "            gradient.get(\"dx\"),\n",
    "            gradient.get(\"dy\"),\n",
    "            color=\"0.6\",\n",
    "            density=1,\n",
    "            arrowsize=2)\n",
    "        \n",
    "    def update_labels(self):\n",
    "        self.colorbar.set_label(\"Altitude (m)\")\n",
    "        self.axes.set_title(\"Water Flow across Land Gradients\", fontsize=20)\n",
    "        self.axes.set_xlabel(\"$x$ (km)\")\n",
    "        self.axes.set_ylabel(\"$y$ (km)\")\n",
    "\n",
    "    def update(self, xrange=None, yrange=None):\n",
    "        (xrange, yrange) = self.get_ranges(xrange, yrange)\n",
    "        (coords, grad) = topo.make_land_map(self.xrange, self.yrange, self.seed)\n",
    "        self.axes.clear()\n",
    "        colorbar_axes = self.get_colorbar_axes()\n",
    "        filled_contours = self.get_filled_contours(coords)\n",
    "        self.update_contour_lines(filled_contours)\n",
    "        self.update_water_flow(coords, grad)\n",
    "        self.colorbar = self.figure.colorbar(filled_contours, cax=colorbar_axes)\n",
    "        self.update_labels()"
   ]
  },
  {
   "cell_type": "markdown",
   "metadata": {},
   "source": [
    "Let's switch back to the IPython Notebook backend, so we have a reference image saved in the notebook:"
   ]
  },
  {
   "cell_type": "code",
   "execution_count": null,
   "metadata": {
    "collapsed": false
   },
   "outputs": [],
   "source": [
    "plt.switch_backend('nbAgg')"
   ]
  },
  {
   "cell_type": "markdown",
   "metadata": {},
   "source": [
    "Let's draw the topographical map next, without any ability to update when panning:"
   ]
  },
  {
   "cell_type": "code",
   "execution_count": null,
   "metadata": {
    "collapsed": false
   },
   "outputs": [],
   "source": [
    "tfm = TopoFlowMap(xrange=(0,1.5), yrange=(0,1.5), seed=1732)\n",
    "plt.show()"
   ]
  },
  {
   "cell_type": "markdown",
   "metadata": {},
   "source": [
    "If you click the \"pan/zoom\" button on the navigation toolbar, and then click+hold on the figure, you can move it about. Note that, when you do so, nothing gets redrawn.\n",
    "\n",
    "Since we do want to redraw, and there is no \"pan event\" to connect to, what are our options? Well, two come to mind:\n",
    " * piggy back on the ``draw_event``, which fires each time the canvas is moved, or\n",
    " * use the ``button_release_event`` which will fire when the panning is complete\n",
    " \n",
    "If our figure was easy to draw with simple equations, the first option would probably be fine. However, we're doing some multivariate calculus on our simulated topography; as you might have noticed, our plot does not render immediately. So let's go with the second option.\n",
    "\n",
    "There's an added bonus, though, that will make our lives easier: the ``NavigationTool2`` keeps track of the mode it is in on it's ``mode`` attribute. Let's use that to save some coding!"
   ]
  },
  {
   "cell_type": "code",
   "execution_count": null,
   "metadata": {
    "collapsed": false
   },
   "outputs": [],
   "source": [
    "class TopoFlowMapManager:\n",
    "    def __init__(self, xrange=None, yrange=None, seed=1):\n",
    "        self.map = TopoFlowMap(xrange, yrange, seed)\n",
    "        _ = self.map.figure.canvas.mpl_connect(\n",
    "            'button_release_event', self.handle_pan_zoom_release)\n",
    "\n",
    "    def start(self):\n",
    "        plt.show()\n",
    "        \n",
    "    def handle_pan_zoom_release(self, event):\n",
    "        if event.canvas.toolbar.mode != \"pan/zoom\":\n",
    "            return\n",
    "        self.map.update(event.inaxes.get_xlim(),\n",
    "                        event.inaxes.get_ylim())\n",
    "        event.canvas.draw()"
   ]
  },
  {
   "cell_type": "markdown",
   "metadata": {},
   "source": [
    "Let's switch back to the native backend (in my case, that's ``MacOSX``; you may need ``Qt5Agg``, ``WXAgg``, or ``GTK3Agg``):"
   ]
  },
  {
   "cell_type": "code",
   "execution_count": null,
   "metadata": {
    "collapsed": false
   },
   "outputs": [],
   "source": [
    "plt.switch_backend('MacOSX')"
   ]
  },
  {
   "cell_type": "markdown",
   "metadata": {},
   "source": [
    "Run the next bit of code, and then start panning around and releasing; you should see the new data displayed after the callbacks fires off the recalculation."
   ]
  },
  {
   "cell_type": "code",
   "execution_count": null,
   "metadata": {
    "collapsed": false
   },
   "outputs": [],
   "source": [
    "tfmm = TopoFlowMapManager(xrange=(0,1.5), yrange=(0,1.5), seed=1732)\n",
    "tfmm.start()"
   ]
  },
  {
   "cell_type": "markdown",
   "metadata": {},
   "source": [
    "This is not a perfect topographical model, so sometimes you will see colors get shifted as the range of altitudes decreases or increases in a given view. Certainly close enough to demonstrate this use case, though :-)\n",
    "\n",
    "Another thing you could do is add support for ``zoom rect`` such that the contour lines don't get angled (due to sparse data sample spacing), but stay smoothly curved no matter how far you zoom in. Given the example above, that should be fairly easy to implement, and we leave it as a fun exercise for the motivated reader :-)"
   ]
  }
 ],
 "metadata": {
  "kernelspec": {
   "display_name": "Python 2.7",
   "language": "python",
   "name": "python2.7"
  },
  "language_info": {
   "codemirror_mode": {
    "name": "ipython",
    "version": 2
   },
   "file_extension": ".py",
   "mimetype": "text/x-python",
   "name": "python",
   "nbconvert_exporter": "python",
   "pygments_lexer": "ipython2",
   "version": "2.7.6"
  }
 },
 "nbformat": 4,
 "nbformat_minor": 0
}
