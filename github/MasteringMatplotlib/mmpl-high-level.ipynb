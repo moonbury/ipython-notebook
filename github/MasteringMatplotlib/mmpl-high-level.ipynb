{
 "cells": [
  {
   "cell_type": "markdown",
   "metadata": {},
   "source": [
    "# High-level Plotting and Data Analysis"
   ]
  },
  {
   "cell_type": "markdown",
   "metadata": {},
   "source": [
    "In the following sections of this IPython Notebook we be looking at the following:\n",
    "\n",
    "* High-level plotting\n",
    "  * Historical background\n",
    "  * matplotlib\n",
    "  * NetworkX\n",
    "  * Pandas\n",
    "* Grammar of graphics\n",
    "  * New styles in matplotlib\n",
    "  * Bokeh\n",
    "  * ggploto by ŷhat\n",
    "  * Seaborn\n",
    "* Data analysis\n",
    "  * Pandas, SciPy, and Seaborn\n",
    "  * Examining and shaping a data set\n",
    "  * Analysis of Temperature, 1894-2013\n",
    "  * Analysis of Precipitation, 1894-2013\n",
    "\n",
    "Warm-up proceedures:"
   ]
  },
  {
   "cell_type": "code",
   "execution_count": null,
   "metadata": {
    "collapsed": false
   },
   "outputs": [],
   "source": [
    "import matplotlib\n",
    "matplotlib.use('nbagg')\n",
    "%matplotlib inline"
   ]
  },
  {
   "cell_type": "markdown",
   "metadata": {},
   "source": [
    "Let's continue with the necessary imports:"
   ]
  },
  {
   "cell_type": "code",
   "execution_count": null,
   "metadata": {
    "collapsed": false
   },
   "outputs": [],
   "source": [
    "import calendar\n",
    "import numpy as np\n",
    "import matplotlib as mpl\n",
    "import matplotlib.pyplot as plt\n",
    "import networkx as nx\n",
    "from scipy import stats\n",
    "import pandas as pd \n",
    "import statsmodels.api as sm \n",
    "from typecheck import typecheck\n",
    "\n",
    "import sys\n",
    "sys.path.append(\"../lib\")"
   ]
  },
  {
   "cell_type": "markdown",
   "metadata": {},
   "source": [
    "## High-level plotting"
   ]
  },
  {
   "cell_type": "markdown",
   "metadata": {},
   "source": [
    "For our purposes, we will define high-level plotting as anything in the matplotlib world which:\n",
    "\n",
    "1. Utilizes matplotlib APIs under the covers\n",
    "1. In order to accomplish complicated plotting tasks\n",
    "1. And provide an API for those tasks to the user, to employ either in conjunction with matplotlib directly, or instead of it (using matplotlib under the covers)\n",
    "\n",
    "We will examine a couple of examples in the following sections.\n",
    "\n",
    "Note that some obvious library choices are not dicussed in this context as they will be used in different, subsequent sections."
   ]
  },
  {
   "cell_type": "markdown",
   "metadata": {},
   "source": [
    "### Background"
   ]
  },
  {
   "cell_type": "markdown",
   "metadata": {},
   "source": [
    "The world of data visualization has an interesting and eclectic history, covered quite nicely in Michael Friendly's paper [Milestones in the History of Data Visualization: A Case Study in Statistical Historiography]([2006] Friendly.pdf) with a related and quite wonderful [graphic outline](http://www.datavis.ca/milestones/) and [dedicated site](http://datavis.ca/).\n",
    "\n",
    "Below we have provided some highlights from the history data visualization."
   ]
  },
  {
   "cell_type": "markdown",
   "metadata": {},
   "source": [
    "#### 1644 - Michael Florent van Langren"
   ]
  },
  {
   "cell_type": "markdown",
   "metadata": {},
   "source": [
    "Credit for the vist visual representation of statistical data for his graph of 12 contemporary estimates for the distance from Toledo to Rome:\n",
    "\n",
    "<img src=\"B02036_05_01.png\" width=\"1000\"/>"
   ]
  },
  {
   "cell_type": "markdown",
   "metadata": {},
   "source": [
    "#### 1686 - Edmond Halley"
   ]
  },
  {
   "cell_type": "markdown",
   "metadata": {},
   "source": [
    "A theoretical plot predicting barometric pressure vs. altitude, derived from experimental observation:\n",
    "\n",
    "<img src=\"B02036_05_02.png\" width=\"1000\" />"
   ]
  },
  {
   "cell_type": "markdown",
   "metadata": {},
   "source": [
    "#### 1786 - William Playfair"
   ]
  },
  {
   "cell_type": "markdown",
   "metadata": {},
   "source": [
    "The first line graph, depicting English imports to and from Denmark and Norway over the course of 80 years:\n",
    "\n",
    "<img src=\"B02036_05_03.png\" width=\"1000\"/>"
   ]
  },
  {
   "cell_type": "markdown",
   "metadata": {},
   "source": [
    "#### 1869 - Charles Minard"
   ]
  },
  {
   "cell_type": "markdown",
   "metadata": {},
   "source": [
    "A map of Napoleon's Russian Campaign of 1812 combined with a Sankey diagram depicting the successive losses of soldiers in the French Army. Note that this Sankey diagram actually predates the steam engine diagram of 1898 by Matthew Henry Phineas Riall Sankey, for whom the diagram is named.\n",
    "\n",
    "<img src=\"B02036_05_03.5.png\" width=\"1000\"/>"
   ]
  },
  {
   "cell_type": "markdown",
   "metadata": {},
   "source": [
    "### matplotlib"
   ]
  },
  {
   "cell_type": "markdown",
   "metadata": {},
   "source": [
    "In matplotlib, the ``Sankey`` class provides what is probably one of the better examples of high-level plotting in the base library. Here's a (slightly) modified version of a ``matplotlib.sankey`` [demonstration from the matplotlib gallery](http://matplotlib.org/examples/api/sankey_demo_rankine.html):"
   ]
  },
  {
   "cell_type": "code",
   "execution_count": null,
   "metadata": {
    "collapsed": false
   },
   "outputs": [],
   "source": [
    "from matplotlib import sankey\n",
    "\n",
    "fig = plt.figure(figsize=(18, 22))\n",
    "ax = fig.add_subplot(\n",
    "    1, 1, 1,\n",
    "    xticks=[], yticks=[])\n",
    "ax.set_title((\"Rankine Power Cycle\\nExample 8.6 from Moran and Shapiro\\n\"\n",
    "              \"$Fundamentals \\ of \\ Engineering \\ Thermodynamics$, \"\n",
    "              \"6th ed., 2008\"),\n",
    "             fontsize=\"30\")\n",
    "Hdot = [260.431, 35.078, 180.794, 221.115, 22.700,\n",
    "        142.361, 10.193, 10.210, 43.670, 44.312,\n",
    "        68.631, 10.758, 10.758, 0.017, 0.642,\n",
    "        232.121, 44.559, 100.613, 132.168]\n",
    "snky = sankey.Sankey(\n",
    "    ax=ax, format='%.3G', unit=' MW', gap=0.5, scale=1.0/Hdot[0], margin=0.6, shoulder=0.03, radius=0.25)\n",
    "snky.add(patchlabel='\\n\\nPump 1', rotation=90, facecolor='#8ab88a', linewidth=0,\n",
    "         flows=[Hdot[13], Hdot[6], -Hdot[7]],\n",
    "         labels=['Shaft power', '', None],\n",
    "         pathlengths=[0.4, 0.883, 0.25],\n",
    "         orientations=[1, -1, 0])\n",
    "snky.add(patchlabel='\\n\\nOpen\\nheater', facecolor='#8ab88a', linewidth=0,\n",
    "         flows=[Hdot[11], Hdot[7], Hdot[4], -Hdot[8]],\n",
    "         labels=[None, '', None, None],\n",
    "         pathlengths=[0.25, 0.25, 1.93, 0.25],\n",
    "         orientations=[1, 0, -1, 0], prior=0, connect=(2, 1))\n",
    "snky.add(patchlabel='\\n\\nPump 2', facecolor='#8ab88a', linewidth=0,\n",
    "         flows=[Hdot[14], Hdot[8], -Hdot[9]],\n",
    "         labels=['\\nShaft power', '', None],\n",
    "         pathlengths=[0.4, 0.25, 0.25],\n",
    "         orientations=[1, 0, 0], prior=1, connect=(3, 1))\n",
    "snky.add(patchlabel='Closed\\nheater', trunklength=2.914, fc='#8ab88a', linewidth=0,\n",
    "         flows=[Hdot[9], Hdot[1], -Hdot[11], -Hdot[10]],\n",
    "         pathlengths=[0.25, 1.543, 0.25, 0.25],\n",
    "         labels=['', '', None, None],\n",
    "         orientations=[0, -1, 1, -1], prior=2, connect=(2, 0))\n",
    "snky.add(patchlabel='Trap', facecolor='#8ab88a', linewidth=0, trunklength=5.102,\n",
    "         flows=[Hdot[11], -Hdot[12]],\n",
    "         labels=['\\n', None],\n",
    "         pathlengths=[1.0, 1.01],\n",
    "         orientations=[1, 1], prior=3, connect=(2, 0))\n",
    "snky.add(patchlabel='Steam\\ngenerator', facecolor='#d9a4a3', linewidth=0,\n",
    "         flows=[Hdot[15], Hdot[10], Hdot[2], -Hdot[3], -Hdot[0]],\n",
    "         labels=['Heat rate', '', '', None, None],\n",
    "         pathlengths=0.25,\n",
    "         orientations=[1, 0, -1, -1, -1], prior=3, connect=(3, 1))\n",
    "snky.add(patchlabel='\\n\\n\\nTurbine 1\\n', facecolor='#8ab88a', linewidth=0,\n",
    "         flows=[Hdot[0], -Hdot[16], -Hdot[1], -Hdot[2]],\n",
    "         labels=['', None, None, None],\n",
    "         pathlengths=[0.25, 0.153, 1.543, 0.25],\n",
    "         orientations=[0, 1, -1, -1], prior=5, connect=(4, 0))\n",
    "snky.add(patchlabel='\\n\\n\\nReheat', facecolor='#8ab88a', linewidth=0,\n",
    "         flows=[Hdot[2], -Hdot[2]],\n",
    "         labels=[None, None],\n",
    "         pathlengths=[0.725, 0.25],\n",
    "         orientations=[-1, 0], prior=6, connect=(3, 0))\n",
    "snky.add(patchlabel='Turbine 2', trunklength=3.212, facecolor='#8ab88a', linewidth=0,\n",
    "         flows=[Hdot[3], Hdot[16], -Hdot[5], -Hdot[4], -Hdot[17]],\n",
    "         labels=[None, 'Shaft power', None, '', 'Shaft\\npower'],\n",
    "         pathlengths=[0.751, 0.15, 0.25, 1.93, 0.25],\n",
    "         orientations=[0, -1, 0, -1, 1], prior=6, connect=(1, 1))\n",
    "snky.add(patchlabel='Condenser', facecolor='#a7d1de', linewidth=0, trunklength=1.764,\n",
    "         flows=[Hdot[5], -Hdot[18], -Hdot[6]],\n",
    "         labels=['', 'Heat rate', None],\n",
    "         pathlengths=[0.45, 0.25, 0.883],\n",
    "         orientations=[-1, 1, 0], prior=8, connect=(2, 0))\n",
    "diagrams = snky.finish()\n",
    "\n",
    "for diagram in diagrams:\n",
    "    diagram.text.set_fontweight('bold')\n",
    "    diagram.text.set_fontsize('22')\n",
    "    for text in diagram.texts:\n",
    "        text.set_fontsize('22')\n",
    "        \n",
    "# Notice that the explicit connections are handled automatically, but the\n",
    "# implicit ones currently are not. The lengths of the paths and the trunks\n",
    "# must be adjusted manually, and that is a bit tricky.\n",
    "\n",
    "plt.show()"
   ]
  },
  {
   "cell_type": "markdown",
   "metadata": {},
   "source": [
    "A more common example is code you would write in your own projects. For instance, if you recall from the notebook covering the matplotlib APIs, we created a module to demonstrate the object-oriented API for programmatic workflows. That little module is a perfect example of high-level plotting with matplotlib."
   ]
  },
  {
   "cell_type": "markdown",
   "metadata": {},
   "source": [
    "### NetworkX"
   ]
  },
  {
   "cell_type": "markdown",
   "metadata": {},
   "source": [
    "As we saw in the *architecture* notebook, NetworkX provides high-level matplotlib plotting support for its graphs. Below is another exmple, this one adapted from the [NetworkX gallery](https://networkx.github.io/documentation/latest/examples/drawing/lanl_routes.html). Let's look at the code comments in particular right now:"
   ]
  },
  {
   "cell_type": "code",
   "execution_count": null,
   "metadata": {
    "collapsed": false
   },
   "outputs": [],
   "source": [
    "import lanl\n",
    "from networkx.drawing.nx_agraph import graphviz_layout\n",
    "\n",
    "# Set up the plot's figure instance\n",
    "plt.figure(figsize=(14,14))\n",
    "\n",
    "# Generate the data graph structure representing the route relationships\n",
    "G = lanl.get_routes_graph(debug=True)\n",
    "\n",
    "# Perform the high-level plotting operations in NetworkX\n",
    "pos = graphviz_layout(G, prog=\"twopi\", root=0)\n",
    "nx.draw(G, pos,\n",
    "        node_color=[G.rtt[v] for v in G],\n",
    "        with_labels=False,\n",
    "        alpha=0.5,\n",
    "        node_size=70)\n",
    "\n",
    "# Update the ranges\n",
    "xmax = 1.02 * max(xx for xx, _ in pos.values())\n",
    "ymax = 1.02 * max(yy for _, yy in pos.values())\n",
    "\n",
    "# Final matplotlib tweaks and rendering\n",
    "plt.xlim(0, xmax)\n",
    "plt.ylim(0, ymax)\n",
    "plt.show()"
   ]
  },
  {
   "cell_type": "markdown",
   "metadata": {},
   "source": [
    "Like we saw when creating a graph that would neatly render the matplotlib module layout in accordance with the philosophy of its architecture, Aric Hagberg had to do something similar when rendering the Internet routes from Los Alamos National Laboratory. We've put this code in the ``lanl`` module for this notebook repo; it's where all the logic is defined for converting the route data to graph relationships.\n",
    "\n",
    "We can see how NetworkX acts as a high-level plotting library by taking a look at some of the functions and related objects we used above. Let's start with the layout function. NetworkX provides several possible graph library backends, and to do so in a manner that makes it easier for the end user, some of the imports can be quite obscured. Let's get the location of the ``graphviz_layout`` function the easy way:"
   ]
  },
  {
   "cell_type": "code",
   "execution_count": null,
   "metadata": {
    "collapsed": false
   },
   "outputs": [],
   "source": [
    "graphviz_layout"
   ]
  },
  {
   "cell_type": "markdown",
   "metadata": {},
   "source": [
    "Taking a look at [that file](https://github.com/networkx/networkx/blob/v1.9.1/networkx/drawing/nx_agraph.py), we can see that ``graphviz_layout`` wraps the ``pygraphviz_layout`` function. From there, we see that NetworkX is converting pygraphviz's node data structure to something general that can be used for all backends. We're already several layers deep in NetworkX's high-level API internals.\n",
    "\n",
    "Next, let's take a look at the function that uses this node data, ``nx.draw``:"
   ]
  },
  {
   "cell_type": "code",
   "execution_count": null,
   "metadata": {
    "collapsed": false
   },
   "outputs": [],
   "source": [
    "nx.draw"
   ]
  },
  {
   "cell_type": "markdown",
   "metadata": {},
   "source": [
    "Now we're getting close to matplotlib! The [nx_pylab module](https://github.com/networkx/networkx/blob/v1.9.1/networkx/drawing/nx_pylab.py)'s ``draw`` function makes direct use of ``matplotlib.pyplot`` in order to:\n",
    "\n",
    "* Get the current figure from ``pyplot``\n",
    "* Or, if it exists, from the axes object\n",
    "* Hold and un-hold the matplotlib figures\n",
    "* Call a matplotlib draw function\n",
    "\n",
    "It also makes a subsequent call to the NetworkX graph backend to draw the actual edges and nodes. Theses additional calls get node, edge, and label data and make further calls to matplotlib draw functions. None of which we have to do; we simply call ``nx.draw`` (with appropriate parameters)."
   ]
  },
  {
   "cell_type": "markdown",
   "metadata": {},
   "source": [
    "### Pandas"
   ]
  },
  {
   "cell_type": "markdown",
   "metadata": {},
   "source": [
    "The next example is from a library whose purpose is to provide Python users and developers extensive support for high-level data analysis. Pandas offers several highly performant data structures for this purpose, in large part built around the NumPy scientific computing library. Of these, Pandas incorporates plotting functionality into the ``Series`` and ``DataFrame`` data structures.\n",
    "\n",
    "Let's take a look a``DataFrame`` example where we generate some random data and then utilize the plot function made available on ``DataFrame`` (taken from the [Pandas documentation on visualization](http://pandas.pydata.org/pandas-docs/version/0.15.0/visualization.html), with adaptations).\n",
    "\n",
    "Random data samples, using a [Rayleigh distribution](http://en.wikipedia.org/wiki/Rayleigh_distribution):"
   ]
  },
  {
   "cell_type": "code",
   "execution_count": null,
   "metadata": {
    "collapsed": false
   },
   "outputs": [],
   "source": [
    "from scipy.stats import norm, rayleigh\n",
    "\n",
    "a = rayleigh.rvs(loc=5, scale=2, size=1000) + 1\n",
    "b = rayleigh.rvs(loc=5, scale=2, size=1000)\n",
    "c = rayleigh.rvs(loc=5, scale=2, size=1000) - 1"
   ]
  },
  {
   "cell_type": "markdown",
   "metadata": {},
   "source": [
    "Create a Pandas data structure instance:"
   ]
  },
  {
   "cell_type": "code",
   "execution_count": null,
   "metadata": {
    "collapsed": false
   },
   "outputs": [],
   "source": [
    "data = pd.DataFrame({\"a\": a, \"b\": b, \"c\": c}, columns=[\"a\", \"b\", \"c\"])"
   ]
  },
  {
   "cell_type": "markdown",
   "metadata": {},
   "source": [
    "Let's take a look at a histogram plot of this data:"
   ]
  },
  {
   "cell_type": "code",
   "execution_count": null,
   "metadata": {
    "collapsed": false
   },
   "outputs": [],
   "source": [
    "axes = data.plot(kind=\"hist\", stacked=True, bins=30, figsize=(16, 8))\n",
    "axes.set_title(\"Fabricated Wind Speed Data\", fontsize=20)\n",
    "axes.set_xlabel(\"Mean Hourly Wind Speed (km/hr)\", fontsize=16)\n",
    "_ = axes.set_ylabel(\"Velocity Counts\", fontsize=16)"
   ]
  },
  {
   "cell_type": "markdown",
   "metadata": {},
   "source": [
    "So what's going on here? Well, if you take a dive into the Pandas codebase, you'll find that there are wrappers in ``pandas.tools.plotting`` that do a bunch of work under the covers to make plotting from the ``DataFrame`` object an exercise in simplicity. In particular, look at ``plotting.plot_frame`` and ``plotting._plot``."
   ]
  },
  {
   "cell_type": "markdown",
   "metadata": {},
   "source": [
    "## Grammar of graphics"
   ]
  },
  {
   "cell_type": "markdown",
   "metadata": {},
   "source": [
    "The *Grammar of Graphics* has done for the world of statistical data plotting and visualization what *Design Patterns* did for a subset of programming, and *A Pattern Language* did for architecture and urban design. The *Grammar of Graphics* explores the space of data, its graphical representation, the human minds that view these, and the ways in which these are connected, both obviously and subtly. The book provides a conceptual framework for the cognitive analysis of our statistical tools and how we can make them better, allowing us to ultimately create visualizations that are more clear, meaningful, and reveal more of the underlying problem space.\n",
    "\n",
    "The first software implementation that was inspired by the Grammar of Graphics was SPSS's nViZn (based on work done in 1996). This was followed by:\n",
    " * R's ggplot by Hadley Wickham (2005)\n",
    " * R's ggplot2 also by Hadley Wickham, a complete rewrite of ggplot (2007)\n",
    " * Python's Bokeh by Peter Wang (2012; the first commit had a Python ggplot module)\n",
    " * Python's Seaborn by Michael Waskom (2012)\n",
    " * Python's ggplot by ŷhat (2013; originally named yagg, \"yet another ggplot\")\n",
    " * matplotlib released with support for a ggplot style (2014)\n",
    " \n",
    "Let's take a look at Python ones, starting with Bokeh."
   ]
  },
  {
   "cell_type": "markdown",
   "metadata": {},
   "source": [
    "### Bokeh"
   ]
  },
  {
   "cell_type": "markdown",
   "metadata": {},
   "source": [
    "One of the first Python libraries to explore the space of Grammar of Graphics is the [Bokeh](http://bokeh.pydata.org/en/latest/) project. In many ways, Bokeh views itself as a natural successor to matplotlib, offering their view of improvements in overall architecture, scalability, size of problem set data, APIs, and usability. In contrast to matplotlib, Bokeh focuses its attention in the web browser.\n",
    "\n",
    "The Bokeh project gallery is full of very intersting examples, but one of the most unusual and aesthetically pleasing is the re-creation of the [Will Burtin](https://en.wikipedia.org/wiki/Will_Burtin) antibiotics chart (a copy of the 1951 original diagram is available in [this pdf](http://qssi.psu.edu/files/MonroeBurtin.pdf)).\n",
    "\n",
    "Let's set up Bokeh for use in an IPython notebook:"
   ]
  },
  {
   "cell_type": "code",
   "execution_count": null,
   "metadata": {
    "collapsed": false
   },
   "outputs": [],
   "source": [
    "from bokeh.plotting import output_notebook\n",
    "output_notebook()"
   ]
  },
  {
   "cell_type": "markdown",
   "metadata": {},
   "source": [
    "The [Bokeh example](http://bokeh.pydata.org/en/latest/docs/gallery/burtin.html) has been saved to this notebook's repo (and modified slightly); you can load it up with the following:"
   ]
  },
  {
   "cell_type": "code",
   "execution_count": null,
   "metadata": {
    "collapsed": false
   },
   "outputs": [],
   "source": [
    "import burtin"
   ]
  },
  {
   "cell_type": "markdown",
   "metadata": {},
   "source": [
    "Since this series of notebooks are focused on matplotlib (and not Bokeh!), we won't go into too much detail, but it is definitely worth mentioning that Bokeh provides a [matplotlib compatibility layer](http://bokeh.pydata.org/en/latest/docs/reference/compat.html). It doesn't cover 100% of all matplotlib API usage a given project may entail, but enough so that one should be able to very easily incorporate Bokeh into existing matplotlib projects."
   ]
  },
  {
   "cell_type": "markdown",
   "metadata": {},
   "source": [
    "### ŷhat ggplot"
   ]
  },
  {
   "cell_type": "markdown",
   "metadata": {},
   "source": [
    "The folks at ŷhat have a great reputation for expertise in maching learning and statistical computing in genereal. They are users of not only the R programming language, but Python and Julia as well. They created ggplot for Python because they really wanted to have the R ggplot2 experience in Python, not just use libraries that were *inspired* by it. From the github [project README](https://github.com/yhat/ggplot), ggplot has the following goals:\n",
    " * same API as ggplot2 for R\n",
    " * ability to use both American and British English spellings of aesthetics\n",
    " * tight integration with Pandas\n",
    " * pip installable\n",
    "\n",
    "In particular, they wanted anyone coming from R to Python to have a nearly identical API experience. We can see this reflected in the code they shared in their [blog post](http://blog.yhathq.com/posts/ggplot-for-python.html) about it:\n",
    "\n",
    "**Example usage in R**\n",
    "\n",
    "```R\n",
    "library(ggplot2)\n",
    "\n",
    "ggplot(meat, aes(date,beef)) + \n",
    "  geom_line(colour='black') + \n",
    "  scale_x_date(breaks=date_breaks('7 years'),labels = date_format(\"%b %Y\")) + \n",
    "  scale_y_continuous(labels=comma)\n",
    "```\n",
    "\n",
    "**In Python**\n",
    "\n",
    "```python\n",
    "from ggplot import *\n",
    "\n",
    "ggplot(meat, aes('date','beef')) + \\\n",
    "    geom_line(color='black') + \\\n",
    "    scale_x_date(breaks=date_breaks('7 years'), labels='%b %Y') + \\\n",
    "    scale_y_continuous(labels='comma')\n",
    "```\n",
    "\n",
    "**In pure matplotlib**\n",
    "\n",
    "```python\n",
    "import matplotlib.pyplot as plt\n",
    "from matplotlib.dates import YearLocator, DateFormatter\n",
    "from ggplot import meat\n",
    "\n",
    "tick_every_n = YearLocator(7)\n",
    "date_formatter = DateFormatter('%b %Y')\n",
    "x = meat.date\n",
    "y = meat.beef\n",
    "fig, ax = plt.subplots()\n",
    "ax.plot(x, y, 'black')\n",
    "ax.xaxis.set_major_locator(tick_every_n)\n",
    "ax.xaxis.set_major_formatter(date_formatter)\n",
    "fig.autofmt_xdate()\n",
    "plt.show()\n",
    "```\n",
    "\n",
    "Furthermore, the rendered outputs of those two are also nearly identical.\n",
    "\n",
    "ggplot is a high-level implementation that uses matplotlib under the hood. Let's import it and try out some of their examples in IPython. Since we're not trying to adhere to the exact experience of R, we'll use explicit imports."
   ]
  },
  {
   "cell_type": "code",
   "execution_count": null,
   "metadata": {
    "collapsed": false
   },
   "outputs": [],
   "source": [
    "import ggplot\n",
    "from ggplot import components, geoms, scales, stats\n",
    "from ggplot import exampledata"
   ]
  },
  {
   "cell_type": "markdown",
   "metadata": {},
   "source": [
    "Here's a quick look at some movie data collected over the 20th century:"
   ]
  },
  {
   "cell_type": "code",
   "execution_count": null,
   "metadata": {
    "collapsed": false
   },
   "outputs": [],
   "source": [
    "data = exampledata.movies\n",
    "aesthetics = components.aes(x='year', y='budget')\n",
    "\n",
    "(ggplot.ggplot(aesthetics, data=data) +\n",
    " stats.stat_smooth(span=.15, color='red', se=True) +\n",
    " geoms.ggtitle(\"Movie Budgets over Time\") +\n",
    " geoms.xlab(\"Year\") + \n",
    " geoms.ylab(\"Dollars\"))"
   ]
  },
  {
   "cell_type": "markdown",
   "metadata": {},
   "source": [
    "Views of data collected on the cuts and qualities of diamonds:"
   ]
  },
  {
   "cell_type": "code",
   "execution_count": null,
   "metadata": {
    "collapsed": false
   },
   "outputs": [],
   "source": [
    "data = exampledata.diamonds\n",
    "aesthetics = components.aes(x='price', fill='cut')\n",
    "\n",
    "(ggplot.ggplot(aesthetics, data=data) +\n",
    " geoms.geom_density(alpha=0.25) +\n",
    " geoms.facet_wrap(\"clarity\"))"
   ]
  },
  {
   "cell_type": "markdown",
   "metadata": {},
   "source": [
    "ggplot offers some nice color options that, when used effectively, can be more revealing of data in hidden relationships. The following are examples of ggplot's support for [ColorBrewer](http://colorbrewer2.org/):"
   ]
  },
  {
   "cell_type": "code",
   "execution_count": null,
   "metadata": {
    "collapsed": false
   },
   "outputs": [],
   "source": [
    "aesthetics = components.aes(x='price', y='carat', color='clarity')\n",
    "plot = ggplot.ggplot(aesthetics, data=data)\n",
    "point = geoms.geom_point(alpha=0.6)\n",
    "(plot +\n",
    " point +\n",
    " scales.scale_color_brewer(type='qual', palette='Set1'))"
   ]
  },
  {
   "cell_type": "code",
   "execution_count": null,
   "metadata": {
    "collapsed": false
   },
   "outputs": [],
   "source": [
    "(plot +\n",
    " point +\n",
    " scales.scale_color_brewer(type='seq', palette='YlOrRd'))"
   ]
  },
  {
   "cell_type": "code",
   "execution_count": null,
   "metadata": {
    "collapsed": false
   },
   "outputs": [],
   "source": [
    "(plot +\n",
    " point +\n",
    " scales.scale_color_brewer(type='div', palette='BrBg'))"
   ]
  },
  {
   "cell_type": "markdown",
   "metadata": {},
   "source": [
    "There is a great deal more to explore with ggplot. Be sure to check out:\n",
    " * the [main site](http://ggplot.yhathq.com/)\n",
    " * the [docs](http://ggplot.yhathq.com/docs/index.html)\n",
    " * the Github [repo](https://github.com/yhat/ggplot)"
   ]
  },
  {
   "cell_type": "markdown",
   "metadata": {},
   "source": [
    "### New styles in matplotlib"
   ]
  },
  {
   "cell_type": "markdown",
   "metadata": {},
   "source": [
    "matplotlib has recently added support for ggplot styling. Let's contrast it with the defaults. First, import the demo code:"
   ]
  },
  {
   "cell_type": "code",
   "execution_count": null,
   "metadata": {
    "collapsed": false
   },
   "outputs": [],
   "source": [
    "import mplggplot"
   ]
  },
  {
   "cell_type": "markdown",
   "metadata": {},
   "source": [
    "Now let's take a look at the default styling of some plots:"
   ]
  },
  {
   "cell_type": "code",
   "execution_count": null,
   "metadata": {
    "collapsed": false
   },
   "outputs": [],
   "source": [
    "figure, axes = plt.subplots(ncols=2, nrows=2, figsize=(10, 10))\n",
    "mplggplot.demo(axes)\n",
    "plt.show()"
   ]
  },
  {
   "cell_type": "markdown",
   "metadata": {},
   "source": [
    "Though we are looking at the ggplot style here, there are actually several styles to choose from. Here's the list of the available ones:"
   ]
  },
  {
   "cell_type": "code",
   "execution_count": null,
   "metadata": {
    "collapsed": false
   },
   "outputs": [],
   "source": [
    "plt.style.available"
   ]
  },
  {
   "cell_type": "markdown",
   "metadata": {},
   "source": [
    "Now we'll select \"ggplot\" and re-render our demo plots:"
   ]
  },
  {
   "cell_type": "code",
   "execution_count": null,
   "metadata": {
    "collapsed": false
   },
   "outputs": [],
   "source": [
    "plt.style.use('bmh')"
   ]
  },
  {
   "cell_type": "code",
   "execution_count": null,
   "metadata": {
    "collapsed": false
   },
   "outputs": [],
   "source": [
    "figure, axes = plt.subplots(ncols=2, nrows=2, figsize=(10, 10))\n",
    "mplggplot.demo(axes)\n",
    "plt.show()"
   ]
  },
  {
   "cell_type": "markdown",
   "metadata": {},
   "source": [
    "It's not really a wonder that ggplot has so much appeal in the community :-)"
   ]
  },
  {
   "cell_type": "markdown",
   "metadata": {},
   "source": [
    "### Seaborn"
   ]
  },
  {
   "cell_type": "markdown",
   "metadata": {},
   "source": [
    "As noted, the development of seaborn has been greatly inspired by the Grammar of Graphics and R's ggplot in particular. Here's what the notes say on the seaborn site:\n",
    "\n",
    "<blockquote>\n",
    "Seaborn aims to make visualization a central part of exploring and understanding data. The plotting functions operate on dataframes and arrays containing a whole dataset and internally perform the necessary aggregation and statistical model-fitting to produce informative plots. Seaborn’s goals are similar to those of R’s ggplot, but it takes a different approach with an imperative and object-oriented style that tries to make it straightforward to construct sophisticated plots. If matplotlib “tries to make easy things easy and hard things possible”, seaborn aims to make a well-defined set of hard things easy too.\n",
    "</blockquote>\n",
    "\n",
    "We've already used seaborn in the other notebooks, so it shouldn't be too new to you now, but let's run a couple of the samples from the seaborn gallery to further expose you to some of its visual goodness.\n",
    "\n",
    "Let's import seaborn and set up the styles we'll use for the rest of the notebook, and then look at a few seaborn examples."
   ]
  },
  {
   "cell_type": "code",
   "execution_count": null,
   "metadata": {
    "collapsed": false
   },
   "outputs": [],
   "source": [
    "import seaborn as sns\n",
    "\n",
    "pallete_name = \"husl\"\n",
    "colors = sns.color_palette(pallete_name, 8)\n",
    "colors.reverse()\n",
    "cmap = mpl.colors.LinearSegmentedColormap.from_list(pallete_name, colors)"
   ]
  },
  {
   "cell_type": "markdown",
   "metadata": {},
   "source": [
    "#### Scatter Plot Matrices"
   ]
  },
  {
   "cell_type": "markdown",
   "metadata": {},
   "source": [
    "Scatter plots offer a unique view on multivariate data sets, allowing one to see what sorts of correlations exist between variables, if any. Here is the famous \"iris\" data set in a seaborn ``pairplot`` scatter plot matrix which focuses on pair-wise relationships:"
   ]
  },
  {
   "cell_type": "code",
   "execution_count": null,
   "metadata": {
    "collapsed": false
   },
   "outputs": [],
   "source": [
    "sns.set()\n",
    "data_frame = sns.load_dataset(\"iris\")\n",
    "_ = sns.pairplot(data_frame, hue=\"species\", size=2.5)"
   ]
  },
  {
   "cell_type": "markdown",
   "metadata": {},
   "source": [
    "#### Facet Grids"
   ]
  },
  {
   "cell_type": "markdown",
   "metadata": {},
   "source": [
    "When you want to split up a data set by one or more variables, and then group subplots of these separated variables, you probably want to use a facet grid. Another use case is for examining repeated runs of an experiment to reveal potentially conditional relationships between variables. Below is a concocted instance of the latter from the seaborn examples. It displaying data from a generated data set simulating repeated observations of walking behaviour, examining positions of each step of a multi-step walk."
   ]
  },
  {
   "cell_type": "code",
   "execution_count": null,
   "metadata": {
    "collapsed": false
   },
   "outputs": [],
   "source": [
    "import seademo\n",
    "\n",
    "sns.set(style=\"ticks\")\n",
    "\n",
    "data = seademo.get_data_set()\n",
    "\n",
    "grid = sns.FacetGrid(data, col=\"walk\", hue=\"walk\", col_wrap=5, size=2)\n",
    "grid.map(plt.axhline, y=0, ls=\":\", c=\".5\")\n",
    "grid.map(plt.plot, \"step\", \"position\", marker=\"o\", ms=4)\n",
    "grid.set(xticks=np.arange(5), yticks=[-3, 3],\n",
    "         xlim=(-.5, 4.5), ylim=(-3.5, 3.5))\n",
    "grid.fig.tight_layout(w_pad=1)"
   ]
  },
  {
   "cell_type": "markdown",
   "metadata": {},
   "source": [
    "#### Violin Plots"
   ]
  },
  {
   "cell_type": "markdown",
   "metadata": {},
   "source": [
    "Violin plots are similar to box plots (the latter of which we will see more use of below in the \"Data Analysis\" section). Where box plots display variation in samples of a statistical population with different parts of the box indicating the degree of spread (among other things), the violin plot provide insight on the probability density at different values."
   ]
  },
  {
   "cell_type": "code",
   "execution_count": null,
   "metadata": {
    "collapsed": false
   },
   "outputs": [],
   "source": [
    "sns.set(style=\"whitegrid\")\n",
    "\n",
    "df = sns.load_dataset(\"brain_networks\", header=[0, 1, 2], index_col=0)\n",
    "used_networks = [1, 3, 4, 5, 6, 7, 8, 11, 12, 13, 16, 17]\n",
    "level_values = df.columns.get_level_values(\"network\").astype(int)\n",
    "used_columns = level_values.isin(used_networks)\n",
    "df = df.loc[:, used_columns]\n",
    "\n",
    "corr_df = df.corr().groupby(level=\"network\").mean()\n",
    "corr_df.index = corr_df.index.astype(int)\n",
    "corr_df = corr_df.sort_index().T\n",
    "\n",
    "(figure, axes) = plt.subplots(figsize=(14, 12))\n",
    "sns.violinplot(corr_df, color=\"Set3\", bw=0.1, cut=1.5,\n",
    "               lw=1, inner=\"stick\", inner_kws={\"ms\": 6})\n",
    "axes.set(ylim=(-0.7, 1.05))\n",
    "sns.despine(left=True, bottom=True)"
   ]
  },
  {
   "cell_type": "markdown",
   "metadata": {},
   "source": [
    "This concludes our overview of high-level plotting with regard to the topic of the Grammar of Graphics in the Python (and especially matplotlib) world.\n",
    "\n",
    "Next we will look at high-level plotting examples in the context of a particular data set and various methods for analyzing trends in that data."
   ]
  },
  {
   "cell_type": "markdown",
   "metadata": {},
   "source": [
    "## Data analysis"
   ]
  },
  {
   "cell_type": "markdown",
   "metadata": {},
   "source": [
    "This next section will cover the use of matplotlib and some of the realted Python libraries from the scientific computing ecosystem in order to explore more facets of high-level plotting, but with a focus on the practical, hands-on aspect."
   ]
  },
  {
   "cell_type": "markdown",
   "metadata": {},
   "source": [
    "### Pandas, SciPy, and Seaborn"
   ]
  },
  {
   "cell_type": "markdown",
   "metadata": {},
   "source": [
    "In this section on data analysis, we will be making heavy use of the Pandas, SciPy, and Seaborn libraries. Here is a quick review of each:\n",
    "\n",
    "* [Pandas](http://pandas.pydata.org/) - Python has long been great for data munging and preparation, but less so for data analysis and modeling. pandas helps fill this gap, enabling you to carry out your entire data analysis workflow in Python without having to switch to a more domain specific language like R.\n",
    "* [SciPy](http://scipy.org/scipylib/) - The SciPy library is one of the core packages that make up the SciPy stack. It provides many user-friendly and efficient numerical routines such as routines for numerical integration and optimization; clustering; image analysis and singal processing; and statistics, among others.\n",
    "* [Seaborn](http://stanford.edu/~mwaskom/software/seaborn/) - Seaborn aims to make visualization a central part of exploring and understanding data. The plotting functions operate on dataframes and arrays containing a whole dataset and internally perform the necessary aggregation and statistical model-fitting to produce informative plots. Seaborn’s goals are similar to those of R’s ggplot, but it takes a different approach with an imperative and object-oriented style that tries to make it straightforward to construct sophisticated plots. If matplotlib “tries to make easy things easy and hard things possible”, seaborn aims to make a well-defined set of hard things easy too."
   ]
  },
  {
   "cell_type": "markdown",
   "metadata": {},
   "source": [
    "### Examining and shaping a data set"
   ]
  },
  {
   "cell_type": "markdown",
   "metadata": {},
   "source": [
    "Let's do the imports we will need and set the Seaborn style for our plots:"
   ]
  },
  {
   "cell_type": "code",
   "execution_count": null,
   "metadata": {
    "collapsed": false
   },
   "outputs": [],
   "source": [
    "sns.set(style=\"darkgrid\")"
   ]
  },
  {
   "cell_type": "markdown",
   "metadata": {},
   "source": [
    "For the following sections we will be using the precipitation and temperature data for Saint Francis, Kansas, USA, from 1894 to 2013. You can obtain CSV files for weather stations that interest you from the [United States Historical Climatology Network](http://cdiac.ornl.gov/epubs/ndp/ushcn/ushcn_map_interface.html).\n",
    "\n",
    "Let's load the CSV data that's been prepared for us, using the Pandas CSV converter:"
   ]
  },
  {
   "cell_type": "code",
   "execution_count": null,
   "metadata": {
    "collapsed": false
   },
   "outputs": [],
   "source": [
    "data_file = \"../data/KS147093_0563_data_only.csv\"\n",
    "data = pd.read_csv(data_file)"
   ]
  },
  {
   "cell_type": "markdown",
   "metadata": {},
   "source": [
    "This will have read the data in and instantiated a Pandas ``DataFrame`` object, converting the first row to column data:"
   ]
  },
  {
   "cell_type": "code",
   "execution_count": null,
   "metadata": {
    "collapsed": false
   },
   "outputs": [],
   "source": [
    "data.columns"
   ]
  },
  {
   "cell_type": "markdown",
   "metadata": {},
   "source": [
    "Here's what the data set looks like (well, the first bit of it, anyway):"
   ]
  },
  {
   "cell_type": "code",
   "execution_count": null,
   "metadata": {
    "collapsed": false
   },
   "outputs": [],
   "source": [
    "data.head()"
   ]
  },
  {
   "cell_type": "markdown",
   "metadata": {},
   "source": [
    "We'd like to see the \"Month\" data as names rather than numbers, so let's update that (but let's create a copy of the original, in case we need it later). We will be using month numbers and names later, so we'll set those now as well."
   ]
  },
  {
   "cell_type": "code",
   "execution_count": null,
   "metadata": {
    "collapsed": false
   },
   "outputs": [],
   "source": [
    "data_raw = pd.read_csv(data_file)\n",
    "month_nums = list(range(1, 13))\n",
    "month_lookup = {x: calendar.month_name[x] for x in month_nums}\n",
    "month_names = [x[1] for x in sorted(month_lookup.items())]\n",
    "data[\"Month\"] = data[\"Month\"].map(month_lookup)\n",
    "data.head()"
   ]
  },
  {
   "cell_type": "markdown",
   "metadata": {},
   "source": [
    "That's better :-)\n",
    "\n",
    "We're going to make repeated use of some of this data more than others, so let's pull those bits out:"
   ]
  },
  {
   "cell_type": "code",
   "execution_count": null,
   "metadata": {
    "collapsed": false
   },
   "outputs": [],
   "source": [
    "years = data[\"Year\"].values\n",
    "temps_degrees = data[\"Mean Temperature (F)\"].values\n",
    "precips_inches = data[\"Precipitation (in)\"].values"
   ]
  },
  {
   "cell_type": "markdown",
   "metadata": {},
   "source": [
    "Let's confirm the date range we're working with:"
   ]
  },
  {
   "cell_type": "code",
   "execution_count": null,
   "metadata": {
    "collapsed": false
   },
   "outputs": [],
   "source": [
    "years_min = data.get(\"Year\").min()\n",
    "years_min"
   ]
  },
  {
   "cell_type": "code",
   "execution_count": null,
   "metadata": {
    "collapsed": false
   },
   "outputs": [],
   "source": [
    "years_max = data.get(\"Year\").max()\n",
    "years_max"
   ]
  },
  {
   "cell_type": "markdown",
   "metadata": {},
   "source": [
    "Let's set get the maximum and minimum values for our mean temperature and precipitation data:"
   ]
  },
  {
   "cell_type": "code",
   "execution_count": null,
   "metadata": {
    "collapsed": false
   },
   "outputs": [],
   "source": [
    "temp_max = data.get(\"Mean Temperature (F)\").max()\n",
    "temp_max"
   ]
  },
  {
   "cell_type": "code",
   "execution_count": null,
   "metadata": {
    "collapsed": false
   },
   "outputs": [],
   "source": [
    "temp_min = data.get(\"Mean Temperature (F)\").min()\n",
    "temp_min"
   ]
  },
  {
   "cell_type": "code",
   "execution_count": null,
   "metadata": {
    "collapsed": false
   },
   "outputs": [],
   "source": [
    "precip_max = data.get(\"Precipitation (in)\").max()\n",
    "precip_max"
   ]
  },
  {
   "cell_type": "code",
   "execution_count": null,
   "metadata": {
    "collapsed": false
   },
   "outputs": [],
   "source": [
    "precip_min = data.get(\"Precipitation (in)\").min()\n",
    "precip_min"
   ]
  },
  {
   "cell_type": "markdown",
   "metadata": {},
   "source": [
    "Next, we'll create a Pandas [pivot table](http://pandas.pydata.org/pandas-docs/stable/generated/pandas.tools.pivot.pivot_table.html), providing us with a convenient view of our data (making some of our analysis tasks much easier). If we use our converted data frame here (the one where we updated month numbers to names), our table will have the data in alphabetical order by month. As such, we'll want to use the raw data (the copy we made before converting), and only once it has been put into a pivot table (in numerical order) will we update it with month names.\n",
    "\n",
    "Here's how:"
   ]
  },
  {
   "cell_type": "code",
   "execution_count": null,
   "metadata": {
    "collapsed": false
   },
   "outputs": [],
   "source": [
    "temps = data_raw.pivot(\"Month\", \"Year\", \"Mean Temperature (F)\")\n",
    "temps.index = [calendar.month_name[x] for x in temps.index]\n",
    "temps"
   ]
  },
  {
   "cell_type": "markdown",
   "metadata": {},
   "source": [
    "Let's do the the same thing for precipitation:"
   ]
  },
  {
   "cell_type": "code",
   "execution_count": null,
   "metadata": {
    "collapsed": false
   },
   "outputs": [],
   "source": [
    "precips = data_raw.pivot(\"Month\", \"Year\", \"Precipitation (in)\")\n",
    "precips.index = [calendar.month_name[x] for x in precips.index]\n",
    "precips"
   ]
  },
  {
   "cell_type": "markdown",
   "metadata": {},
   "source": [
    "We've extracted most of the data and views that we'll need for the following sections, which are:\n",
    " * Analysis of Temperature, 1894-2013\n",
    " * Analysis of Precipitation, 1894-2013\n",
    " \n",
    "We've got everything we need, now; let's get started!"
   ]
  },
  {
   "cell_type": "markdown",
   "metadata": {},
   "source": [
    "### Analysis of Temperature, 1894-2013"
   ]
  },
  {
   "cell_type": "markdown",
   "metadata": {},
   "source": [
    "We're going to be analyzing temperatures in this section; create an appropriate a color map to use in our various plots:"
   ]
  },
  {
   "cell_type": "code",
   "execution_count": null,
   "metadata": {
    "collapsed": false
   },
   "outputs": [],
   "source": [
    "temps_colors = [\"#FCF8D4\", \"#FAEAB9\", \"#FAD873\", \"#FFA500\", \"#FF8C00\", \"#B22222\"]\n",
    "sns.palplot(temps_colors)"
   ]
  },
  {
   "cell_type": "code",
   "execution_count": null,
   "metadata": {
    "collapsed": false
   },
   "outputs": [],
   "source": [
    "temps_cmap = mpl.colors.LinearSegmentedColormap.from_list(\"temp colors\", temps_colors)"
   ]
  },
  {
   "cell_type": "markdown",
   "metadata": {},
   "source": [
    "Now let's take a look at the temperature data we have:"
   ]
  },
  {
   "cell_type": "code",
   "execution_count": null,
   "metadata": {
    "collapsed": false
   },
   "outputs": [],
   "source": [
    "sns.set(style=\"ticks\")\n",
    "\n",
    "(figure, axes) = plt.subplots(figsize=(18,6))\n",
    "scatter = axes.scatter(years, temps_degrees, s=100, color=\"0.5\", alpha=0.5)\n",
    "axes.set_xlim([years_min, years_max])\n",
    "axes.set_ylim([temp_min - 5, temp_max + 5])\n",
    "axes.set_title(\"Mean Monthly Temperatures from 1894-2013\\nSaint Francis, KS, USA\", fontsize=20)\n",
    "axes.set_xlabel(\"Years\", fontsize=16)\n",
    "_ = axes.set_ylabel(\"Temperature (F)\", fontsize=16)"
   ]
  },
  {
   "cell_type": "markdown",
   "metadata": {},
   "source": [
    "Notice something? The banding around the minimum and maximum values looks to be trending upwards. The scatter plot makes it a bit hard to see, though. We're going to need to do some work to make sure we're not just seeing things.\n",
    "\n",
    "So what do we want to do?\n",
    " * get the maximum and minimum values for every year\n",
    " * find the best fit line though those points\n",
    " * examine the slopes\n",
    " * compare the slopes\n",
    " \n",
    "Let's do math!\n",
    "\n",
    "There are a couple of conveniences we can take advantage of:\n",
    " * SciPy provides several options for linear (and polynomial!) fitting and regression\n",
    " * We can create a Pandas ``Series`` instance that represents our linear model and use it like the other Pandas objects we're working with in this section."
   ]
  },
  {
   "cell_type": "code",
   "execution_count": null,
   "metadata": {
    "collapsed": false
   },
   "outputs": [],
   "source": [
    "def get_fit(series, m, b):\n",
    "    x = series.index\n",
    "    y = m * x + b\n",
    "    return pd.Series(y, x)\n",
    "\n",
    "temps_max_x = temps.max().index\n",
    "temps_max_y = temps.max().values\n",
    "temps_min_x = temps.min().index\n",
    "temps_min_y = temps.min().values\n",
    "\n",
    "(temps_max_slope,\n",
    " temps_max_intercept,\n",
    " temps_max_r_value,\n",
    " temps_max_p_value,\n",
    " temps_max_std_err) = stats.linregress(temps_max_x, temps_max_y) \n",
    "temps_max_fit = get_fit(temps.max(), temps_max_slope, temps_max_intercept)\n",
    "\n",
    "(temps_min_slope,\n",
    " temps_min_intercept,\n",
    " temps_min_r_value,\n",
    " temps_min_p_value,\n",
    " temps_min_std_err) = stats.linregress(temps_min_x, temps_min_y)\n",
    "temps_min_fit = get_fit(temps.min(), temps_min_slope, temps_min_intercept)"
   ]
  },
  {
   "cell_type": "markdown",
   "metadata": {},
   "source": [
    "Let's look at the slopes of the two:"
   ]
  },
  {
   "cell_type": "code",
   "execution_count": null,
   "metadata": {
    "collapsed": false
   },
   "outputs": [],
   "source": [
    "(temps_max_slope, temps_min_slope)"
   ]
  },
  {
   "cell_type": "markdown",
   "metadata": {},
   "source": [
    "Quick refresher: the slope $m$ is defined as the change in $y$ values over the change in $x$ values:\n",
    "\n",
    "\\begin{align}\n",
    "m = \\frac{\\Delta y}{\\Delta x} = \\frac{\\text{vertical} \\, \\text{change} }{\\text{horizontal} \\, \\text{change} }\n",
    "\\end{align}\n",
    "\n",
    "In our case, the $y$ values are the minimum and maximum mean monthly temperatures in degrees Fahrenheit; the $x$ values are the years these measurements were taken.\n",
    "\n",
    "The slope for the minimum mean monthly temperatures over the last 120 years is about 3 times greater than that of the maximum mean monthly temperatures:"
   ]
  },
  {
   "cell_type": "code",
   "execution_count": null,
   "metadata": {
    "collapsed": false
   },
   "outputs": [],
   "source": [
    "temps_min_slope/temps_max_slope"
   ]
  },
  {
   "cell_type": "markdown",
   "metadata": {},
   "source": [
    "Let's go back to our scatter plot and superimpose our linear fits for the maximum and minimum annual means:"
   ]
  },
  {
   "cell_type": "code",
   "execution_count": null,
   "metadata": {
    "collapsed": false
   },
   "outputs": [],
   "source": [
    "(figure, axes) = plt.subplots(figsize=(18,6))\n",
    "scatter = axes.scatter(years, temps_degrees, s=100, color=\"0.5\", alpha=0.5)\n",
    "temps_max_fit.plot(ax=axes, lw=5, color=temps_colors[5], alpha=0.7)\n",
    "temps_min_fit.plot(ax=axes, lw=5, color=temps_colors[3], alpha=0.7)\n",
    "axes.set_xlim([years_min, years_max])\n",
    "axes.set_ylim([temp_min - 5, temp_max + 5])\n",
    "axes.set_title((\"Mean Monthly Temperatures from 1894-2013\\n\"\n",
    "                \"Saint Francis, KS, USA\\n(with max and min fit)\"), fontsize=20)\n",
    "axes.set_xlabel(\"Years\", fontsize=16)\n",
    "_ = axes.set_ylabel(\"Temperature (F)\", fontsize=16)"
   ]
  },
  {
   "cell_type": "markdown",
   "metadata": {},
   "source": [
    "By looking at at the gaps above and below the min and max fits, it seems like there is a greater rise in the minimums. We can get a better visual, though, by superimposing the two lines. Let's remove the vertical distance and compare:"
   ]
  },
  {
   "cell_type": "code",
   "execution_count": null,
   "metadata": {
    "collapsed": false
   },
   "outputs": [],
   "source": [
    "diff_1894 = temps_max_fit.iloc[0] - temps_min_fit.iloc[0]\n",
    "diff_2013 = temps_max_fit.iloc[-1] - temps_min_fit.iloc[-1]\n",
    "(diff_1894, diff_2013)"
   ]
  },
  {
   "cell_type": "markdown",
   "metadata": {},
   "source": [
    "So that's the difference between the high and low for 1894 and then the difference in 2013. As we can see, the trend over the last century for this one weather station has been a lessening in the difference between the maximum and minimum values.\n",
    "\n",
    "Let's shift the highs down by the difference in 2013 and compare the slopes overlaid:"
   ]
  },
  {
   "cell_type": "code",
   "execution_count": null,
   "metadata": {
    "collapsed": false
   },
   "outputs": [],
   "source": [
    "vert_shift = temps_max_fit - diff_2013\n",
    "\n",
    "(figure, axes) = plt.subplots(figsize=(18,6))\n",
    "vert_shift.plot(ax=axes, lw=5, color=temps_colors[5], alpha=0.7)\n",
    "temps_min_fit.plot(ax=axes, lw=5, color=temps_colors[3], alpha=0.7)\n",
    "axes.set_xlim([years_min, years_max])\n",
    "axes.set_ylim([vert_shift.min() - 5, vert_shift.max() + 1])\n",
    "axes.set_title((\"Mean Monthly Temperature Difference from 1894-2013\\n\"\n",
    "                \"Saint Francis, KS, USA\\n(vertical offset adjusted to converge at 2013)\"), fontsize=20)\n",
    "axes.set_xlabel(\"Years\", fontsize=16)\n",
    "_ = axes.set_ylabel(\"Temperature\\nDifference (F)\", fontsize=16)"
   ]
  },
  {
   "cell_type": "markdown",
   "metadata": {},
   "source": [
    "*Now* you can see the difference!\n",
    "\n",
    "Let's tweak our seaborn style for the next set of plots we'll be doing:"
   ]
  },
  {
   "cell_type": "code",
   "execution_count": null,
   "metadata": {
    "collapsed": false
   },
   "outputs": [],
   "source": [
    "sns.set(style=\"darkgrid\")"
   ]
  },
  {
   "cell_type": "markdown",
   "metadata": {},
   "source": [
    "Seaborn offers some plots that are very useful when looking at lots of data:\n",
    " * heat maps\n",
    " * cluster maps (and the normalized variant)\n",
    "\n",
    "Let's use the first one next, to get a sense of what the means temperatures look like for each month over the course of the given century -- without any analysis, just a visualization of the raw data."
   ]
  },
  {
   "cell_type": "code",
   "execution_count": null,
   "metadata": {
    "collapsed": false
   },
   "outputs": [],
   "source": [
    "(figure, axes) = plt.subplots(figsize=(17,9))\n",
    "axes.set_title((\"Heat Map\\nMean Monthly Temperatures, 1894-2013\\n\"\n",
    "                \"Saint Francis, KS, USA\"), fontsize=20)\n",
    "sns.heatmap(temps, cmap=temps_cmap, cbar_kws={\"label\": \"Temperature (F)\"})\n",
    "figure.tight_layout()"
   ]
  },
  {
   "cell_type": "markdown",
   "metadata": {},
   "source": [
    "If you want to render your plot as the book has published it, you can do the following instead:\n",
    "\n",
    "```python\n",
    "sns.set(font_scale=1.8)\n",
    "(figure, axes) = plt.subplots(figsize=(17,9))\n",
    "axes.set_title((\"Heat Map\\nMean Monthly Temperatures, 1894-2013\\n\"\n",
    "                \"Saint Francis, KS, USA\"), fontsize=24)\n",
    "\n",
    "xticks = temps.columns\n",
    "keptticks = xticks[::int(len(xticks)/36)]\n",
    "xticks = ['' for y in xticks]\n",
    "xticks[::int(len(xticks)/36)] = keptticks\n",
    "\n",
    "sns.heatmap(temps, linewidth=0, xticklabels=xticks, cmap=temps_cmap,\n",
    "            cbar_kws={\"label\": \"Temperature (F)\"})\n",
    "figure.tight_layout()\n",
    "```\n",
    "\n",
    "Given that this is a town in the Northern hemisphere near the 40th parallel, we don't see any surprises:\n",
    " * highest temperatures are in the summer\n",
    " * lowest temperatures are in the winter\n",
    "\n",
    "There is some interesting summer banding in the 1930s which indicates several years of hotter-than-normal summers. There also seems to be a wide band of cold Decembers from 1907 through about 1932.\n",
    "\n",
    "Next we're going to look at Seaborn's cluster map functionality. Cluster maps of this sort are very useful in sorting out data that may have hidden (or not) hierarchical structure. We don't expect that with this data set, so this is more an demonstration of the plot more than anything. However, it might have a few insights for us. We shall see.\n",
    "\n",
    "Due to the fact that this is a composite plot, we'll need to access subplot axes as provided by the ``ClusterMap`` class."
   ]
  },
  {
   "cell_type": "code",
   "execution_count": null,
   "metadata": {
    "collapsed": false
   },
   "outputs": [],
   "source": [
    "clustermap = sns.clustermap(\n",
    "    temps, figsize=(19, 12), cbar_kws={\"label\": \"Temperature\\n(F)\"}, cmap=temps_cmap)\n",
    "_ = clustermap.ax_col_dendrogram.set_title(\n",
    "        \"Cluster Map\\nMean Monthly Temperatures, 1894-2013\\nSaint Francis, KS, USA\",\n",
    "        fontsize=20)"
   ]
  },
  {
   "cell_type": "markdown",
   "metadata": {},
   "source": [
    "For the book version:\n",
    "\n",
    "```python\n",
    "sns.set(font_scale=1.5)\n",
    "xticks = temps.columns\n",
    "keptticks = xticks[::int(len(xticks)/36)]\n",
    "xticks = ['' for y in xticks]\n",
    "xticks[::int(len(xticks)/36)] = keptticks\n",
    "\n",
    "clustermap = sns.clustermap(\n",
    "    temps, figsize=(19, 12), linewidth=0, xticklabels=xticks,\n",
    "                    cmap=temps_cmap, cbar_kws={\"label\": \"Temperature\\n(F)\"})\n",
    "_ = clustermap.ax_col_dendrogram.set_title(\n",
    "        \"Cluster Map\\nMean Monthly Temperatures, 1894-2013\\nSaint Francis, KS, USA\",\n",
    "        fontsize=24)\n",
    "```\n",
    "\n",
    "So here's what's happened here: while keeping the temperatures for each year together, the $x$ (years) and $y$ (months) values have been sorted/grouped to be close to those with which it shares the most similarity. Here's what we can discern from the graph with regard to our current data set:\n",
    "\n",
    "* The century's temperature patterns each year can be viewed in two groups: higher and lower temperatures.\n",
    "* January and December share similar low-temperature patterns, with the next-closest being February.\n",
    "* The next grouping of similar temperature patterns are November and March, sibling to the Jan/Dec/Feb grouping.\n",
    "* The last grouping of the low-temperature months is the April/October pairing.\n",
    "\n",
    "A similar analysis (with no surprises) can be done for the high-temperature months.\n",
    "\n",
    "Looking across the $x$-axis, we can view patterns/groupings by year. With careful tracing (ideally with a larger rendering of the cluster map), one could identify similar temperature patterns in various years. Though this doesn't reveal anything intrinsically, it could assist in additional analysis (e.g., pointing towards historical records to examine in the possibility the trends may be discovered).\n",
    "\n",
    "There are two distinct bands that show up for two different groups of years. However, when rendering this image at twice its current width, the banding goes away; it's an artifact of this particular resolution (and the decreased spacing between the given years).\n",
    "\n",
    "In the cluster map above, we passed a valuer for the color map to use, the one we defined at the beginning of this section. If we leave that out, seaborn will do something quite nice: it will normalize our data and then select a color map that highlights values above and below the mean.\n",
    "\n",
    "Let's try that :-)"
   ]
  },
  {
   "cell_type": "code",
   "execution_count": null,
   "metadata": {
    "collapsed": false
   },
   "outputs": [],
   "source": [
    "clustermap = sns.clustermap(\n",
    "    temps, z_score=1, figsize=(19, 12),\n",
    "    cbar_kws={\"label\": \"Normalized\\nTemperature (F)\"})\n",
    "_ = clustermap.ax_col_dendrogram.set_title(\n",
    "        \"Normalized Cluster Map\\nMean Monthly Temperatures, 1894-2013\\nSaint Francis, KS, USA\",\n",
    "        fontsize=20)"
   ]
  },
  {
   "cell_type": "markdown",
   "metadata": {},
   "source": [
    "For the book version:\n",
    "\n",
    "```python\n",
    "sns.set(font_scale=1.5)\n",
    "clustermap = sns.clustermap(\n",
    "    temps, z_score=1, figsize=(19, 12), linewidth=0, xticklabels=xticks, \n",
    "    cbar_kws={\"label\": \"Normalized\\nTemperature (F)\"})\n",
    "_ = clustermap.ax_col_dendrogram.set_title(\n",
    "        \"Normalized Cluster Map\\nMean Monthly Temperatures, 1894-2013\\nSaint Francis, KS, USA\",\n",
    "        fontsize=24)\n",
    "```\n",
    "\n",
    "Note that we get the same grouping as in the previous heat map; the internal values at each coordinate of the map (and the associated color) are all that have changed. This view offers great insight for statistical data: not only do we see the large and obvious grouping between above and below the mean, but the colors give obvious insights as to how far any given point isfrom the overall mean.\n",
    "\n",
    "With the next plot, we're going to return to two previous plots:\n",
    " * the temperature heat map\n",
    " * with the previous scatter plot for our temperature data\n",
    " \n",
    "Seaborn has an option for  heat maps to display a histogram above them. We will see this usage when we examine the precipitation. However, for the temperatures, counts for a year isn't quite as meaningful as the actual values for each month of that year. As such, we will replace the standard histogram with our scatter plot:"
   ]
  },
  {
   "cell_type": "code",
   "execution_count": null,
   "metadata": {
    "collapsed": false
   },
   "outputs": [],
   "source": [
    "figure = plt.figure(figsize=(18,13))\n",
    "grid_spec = plt.GridSpec(2, 2,\n",
    "                         width_ratios=[50, 1],\n",
    "                         height_ratios=[1, 3],\n",
    "                         wspace=0.05, hspace=0.05)\n",
    "scatter_axes = figure.add_subplot(grid_spec[0])\n",
    "cluster_axes = figure.add_subplot(grid_spec[2])\n",
    "colorbar_axes = figure.add_subplot(grid_spec[3])\n",
    "\n",
    "scatter_axes.scatter(years,\n",
    "                     temps_degrees,\n",
    "                     s=40,\n",
    "                     c=\"0.3\",\n",
    "                     alpha=0.5)\n",
    "scatter_axes.set(xticks=[], ylabel=\"Yearly. Temp. (F)\")\n",
    "scatter_axes.set_xlim([years_min, years_max])\n",
    "scatter_axes.set_title(\n",
    "    \"Heat Map with Scatter Plot\\nMean Monthly Temperatures, 1894-2013\\nSaint Francis, KS, USA\",\n",
    "    fontsize=20)\n",
    "sns.heatmap(temps,\n",
    "            cmap=temps_cmap,\n",
    "            ax=cluster_axes,\n",
    "            cbar_ax=colorbar_axes,\n",
    "            cbar_kws={\"orientation\": \"vertical\"})\n",
    "_ = colorbar_axes.set(xlabel=\"Temperature\\n(F)\")"
   ]
  },
  {
   "cell_type": "markdown",
   "metadata": {},
   "source": [
    "For the book version:\n",
    "\n",
    "```python\n",
    "sns.set(font_scale=1.8)\n",
    "figure = plt.figure(figsize=(18,13))\n",
    "grid_spec = plt.GridSpec(2, 2,\n",
    "                         width_ratios=[50, 1],\n",
    "                         height_ratios=[1, 3],\n",
    "                         wspace=0.05, hspace=0.05)\n",
    "scatter_axes = figure.add_subplot(grid_spec[0])\n",
    "cluster_axes = figure.add_subplot(grid_spec[2])\n",
    "colorbar_axes = figure.add_subplot(grid_spec[3])\n",
    "\n",
    "scatter_axes.scatter(years,\n",
    "                     temps_degrees,\n",
    "                     s=40,\n",
    "                     c=\"0.3\",\n",
    "                     alpha=0.5)\n",
    "scatter_axes.set(xticks=[], ylabel=\"Yearly. Temp. (F)\")\n",
    "scatter_axes.set_xlim([years_min, years_max])\n",
    "scatter_axes.set_title(\n",
    "    \"Heat Map with Scatter Plot\\nMean Monthly Temperatures, 1894-2013\\nSaint Francis, KS, USA\",\n",
    "    fontsize=20)\n",
    "sns.heatmap(temps,\n",
    "            cmap=temps_cmap,\n",
    "            ax=cluster_axes,\n",
    "            linewidth=0, xticklabels=xticks, \n",
    "            cbar_ax=colorbar_axes,\n",
    "            cbar_kws={\"label\": \"Temperature\\n(F)\"})\n",
    "```\n",
    "\n",
    "No new insights here, rather a demonstration of combining two views of the same data for easier examination and exploration of trends.\n",
    "\n",
    "Next, let's take a closer look at average monthly temperatures by month using a histogram matrix.\n",
    "\n",
    "To do this, we'll need a new pivot. Our first one created a pivot with the \"Month\" data being the index; now we want to index by \"Year\". We'll do the same trick of keeping the data in the correct month-order by converting the month numbers to names *after* we create the pivot table ... but in the case of the histogram matrix plot, that won't actually help us: to keep the sorting correct, we'll need to pre-pend the zero-filled month number:"
   ]
  },
  {
   "cell_type": "code",
   "execution_count": null,
   "metadata": {
    "collapsed": false
   },
   "outputs": [],
   "source": [
    "temps2 = data_raw.pivot(\"Year\", \"Month\", \"Mean Temperature (F)\")\n",
    "temps2.columns = [str(x).zfill(2) + \" - \" + calendar.month_name[x] for x in temps2.columns]\n",
    "monthly_means = temps2.mean()\n",
    "temps2.head()"
   ]
  },
  {
   "cell_type": "markdown",
   "metadata": {},
   "source": [
    "Now we're ready for our histogram. We'll use the histogram provided by Pandas for this.\n",
    "\n",
    "Unfortunately, Pandas does not return the figure and axes that it creates with its ``hist`` wrapper. Instead, it returns an NumPy array of subplots. As such, we're left with fewer options than we might like for further tweaking of the plot. Our use below of ``plt.text`` is a quick hack (of trial and error) that lets us label the overall figure (instead of the enclosing axes, as we'd prefer)."
   ]
  },
  {
   "cell_type": "code",
   "execution_count": null,
   "metadata": {
    "collapsed": false
   },
   "outputs": [],
   "source": [
    "axes = temps2.hist(figsize=(16,12))\n",
    "plt.text(-20, -10, \"Temperatures (F)\", fontsize=16)\n",
    "plt.text(-74, 77, \"Counts\", rotation=\"vertical\", fontsize=16)\n",
    "_ = plt.suptitle(\"Temperatue Counts by Month, 1894-2013\\nSaint Francis, KS, USA\", fontsize=20)"
   ]
  },
  {
   "cell_type": "markdown",
   "metadata": {},
   "source": [
    "This provides a nice view on the number of occurrences for temperature ranges in each month over the course of the century.\n",
    "\n",
    "Now what we'd like to do is:\n",
    " * look at the mean temperature for *all* months over the century\n",
    " * but also show the constituent data that generated that mean\n",
    " * and trace the max, mean, and min temperatures\n",
    " \n",
    "Let's tackle that last one first. The min, max, and means are are discrete values in our case, one for each month. What we'd like to do is see what a smooth curve through those points might look like (as a visual aid more than anything). SciPy provides just the thing: spline interpolation. This will give us a smooth curve for our discrete values:"
   ]
  },
  {
   "cell_type": "code",
   "execution_count": null,
   "metadata": {
    "collapsed": false
   },
   "outputs": [],
   "source": [
    "from scipy.interpolate import UnivariateSpline\n",
    "\n",
    "smooth_mean = UnivariateSpline(month_nums, list(monthly_means), s=0.5)\n",
    "means_xs = np.linspace(0, 13, 2000)\n",
    "means_ys = smooth_mean(means_xs)\n",
    "\n",
    "smooth_maxs = UnivariateSpline(month_nums, list(temps2.max()), s=0)\n",
    "maxs_xs = np.linspace(0, 13, 2000)\n",
    "maxs_ys = smooth_maxs(maxs_xs)\n",
    "\n",
    "smooth_mins = UnivariateSpline(month_nums, list(temps2.min()), s=0)\n",
    "mins_xs = np.linspace(0, 13, 2000)\n",
    "mins_ys = smooth_mins(mins_xs)"
   ]
  },
  {
   "cell_type": "markdown",
   "metadata": {},
   "source": [
    "We'll use the raw data from the beginning of this section, since we'll be doing interpolation on our $x$ values (month numbers):"
   ]
  },
  {
   "cell_type": "code",
   "execution_count": null,
   "metadata": {
    "collapsed": false
   },
   "outputs": [],
   "source": [
    "temps3 = data_raw[[\"Month\", \"Mean Temperature (F)\"]]"
   ]
  },
  {
   "cell_type": "markdown",
   "metadata": {},
   "source": [
    "Now we can plot our means for all months, a scatter plot (as lines, in this case) for each month superimposed over each mean, and finally our max/mean/min interpolations:"
   ]
  },
  {
   "cell_type": "code",
   "execution_count": null,
   "metadata": {
    "collapsed": false
   },
   "outputs": [],
   "source": [
    "(figure, axes) = plt.subplots(figsize=(18,10))\n",
    "axes.bar(month_nums, monthly_means, width=0.96, align=\"center\", alpha=0.6)\n",
    "axes.scatter(temps3[\"Month\"], temps3[\"Mean Temperature (F)\"], s=2000, marker=\"_\", alpha=0.6)\n",
    "axes.plot(means_xs, means_ys, \"b\", linewidth=6, alpha=0.6)\n",
    "axes.plot(maxs_xs, maxs_ys, \"r\", linewidth=6, alpha=0.2)\n",
    "axes.plot(mins_xs, mins_ys, \"y\", linewidth=6, alpha=0.5)\n",
    "axes.axis((0.5, 12.5, temps_degrees.min() - 5, temps_degrees.max() + 5))\n",
    "axes.set_title(\"Mean Monthly Temperatures from 1894-2013\\nSaint Francis, KS, USA\", fontsize=20)\n",
    "axes.set_xticks(month_nums)\n",
    "axes.set_xticklabels(month_names)\n",
    "_ = axes.set_ylabel(\"Temperature (F)\", fontsize=16)"
   ]
  },
  {
   "cell_type": "markdown",
   "metadata": {},
   "source": [
    "When we created our by-month pivot (the assigned to the ``temps2`` variable), we provided ourselves with the means to easily look at statistical data for each month. We'll print out the highlights below so we can look at the numbers in preparation for sanity checking our visuals on the next plot:"
   ]
  },
  {
   "cell_type": "code",
   "execution_count": null,
   "metadata": {
    "collapsed": false
   },
   "outputs": [],
   "source": [
    "temps2.max()"
   ]
  },
  {
   "cell_type": "code",
   "execution_count": null,
   "metadata": {
    "collapsed": false
   },
   "outputs": [],
   "source": [
    "temps2.mean()"
   ]
  },
  {
   "cell_type": "code",
   "execution_count": null,
   "metadata": {
    "collapsed": false
   },
   "outputs": [],
   "source": [
    "temps2.min()"
   ]
  },
  {
   "cell_type": "markdown",
   "metadata": {},
   "source": [
    "We've seen those above (in various forms). We haven't seen the standard deviation for this data yet, though:"
   ]
  },
  {
   "cell_type": "code",
   "execution_count": null,
   "metadata": {
    "collapsed": false
   },
   "outputs": [],
   "source": [
    "temps2.std()"
   ]
  },
  {
   "cell_type": "markdown",
   "metadata": {},
   "source": [
    "Have a good look at those numbers; we're going to use them to make sure that our box plot results make sense in the next plot.\n",
    "\n",
    "What is a box plot? The box plot was invented by the famous statistical mathematician John Tukey (the inventor of many important concepts, he is often forgotten as the person who coined the term \"bit\"). Box plots concisely and visually convey the following \"bits\" (couldn't resist) of information:\n",
    " * upper part of the box: approximate distribution, 75th percentile\n",
    " * line across box: median\n",
    " * lower part of the box: approximate distribution, 25th percentile\n",
    " * height of the box: fourth spread\n",
    " * upper line out of box: greatest non-outlying value\n",
    " * lower line out of box: smallest non-outlying value\n",
    " * dots above and below: outliers\n",
    "\n",
    "Sometimes you will see box plots of different width; the width indicates the relative size of the data sets.\n",
    "\n",
    "The box plot allows one to view data without any assumptions having made about it; the basic statistics are there to view, in plain sight.\n",
    "\n",
    "Our next plot will overlay a box plot on our barchart of medians (and line scatter plot of values)."
   ]
  },
  {
   "cell_type": "code",
   "execution_count": null,
   "metadata": {
    "collapsed": false
   },
   "outputs": [],
   "source": [
    "(figure, axes) = plt.subplots(figsize=(18,10))\n",
    "axes.bar(month_nums, monthly_means, width=0.96, align=\"center\", alpha=0.6)\n",
    "axes.scatter(temps3[\"Month\"], temps3[\"Mean Temperature (F)\"], s=2000, marker=\"_\", alpha=0.6)\n",
    "sns.boxplot(temps2, ax=axes)\n",
    "axes.axis((0.5, 12.5, temps_degrees.min() - 5, temps_degrees.max() + 5))\n",
    "axes.set_title(\"Mean Monthly Temperatures, 1894-2013\\nSaint Francis, KS, USA\", fontsize=20)\n",
    "axes.set_xticks(month_nums)\n",
    "axes.set_xticklabels(month_names)\n",
    "_ = axes.set_ylabel(\"Temperature (F)\", fontsize=16)"
   ]
  },
  {
   "cell_type": "markdown",
   "metadata": {},
   "source": [
    "Now we can easily identify the spread, the outliers, the area that contains 50% of the distribution, etc.\n",
    "\n",
    "The violin plot, as previously mentioned, is a variation on the box plot, it's shape indicating the probability distribution of the data in that particular set. We will configure it to show our data points as lines (the \"stick\" option), thus combining our use of the line-scatter plot above with the box plot.\n",
    "\n",
    "Let's see this same data as a violin plot:"
   ]
  },
  {
   "cell_type": "code",
   "execution_count": null,
   "metadata": {
    "collapsed": false
   },
   "outputs": [],
   "source": [
    "sns.set(style=\"whitegrid\")"
   ]
  },
  {
   "cell_type": "code",
   "execution_count": null,
   "metadata": {
    "collapsed": false
   },
   "outputs": [],
   "source": [
    "(figure, axes) = plt.subplots(figsize=(18, 10))\n",
    "sns.violinplot(temps2, bw=0.2, lw=1, inner=\"stick\")\n",
    "axes.set_title((\"Violin Plots\\nMean Monthly Temperatures, 1894-2013\\n\"\n",
    "                \"Saint Francis, KS, USA\"), fontsize=20)\n",
    "axes.set_xticks(month_nums)\n",
    "axes.set_xticklabels(month_names)\n",
    "_ = axes.set_ylabel(\"Temperature (F)\", fontsize=16)"
   ]
  },
  {
   "cell_type": "markdown",
   "metadata": {},
   "source": [
    "With the next plot, *Andrews' curves*, we reach the end of the section on temperature analysis.\n",
    "\n",
    "The application of [Andrews' curves](http://www.jucs.org/jucs_11_11/visualization_of_high_dimensional/jucs_11_11_1806_1819_garc_a_osorio.pdf) to this particular data set is a bit forced. It's a more useful analysis tool when applied to data sets with higher dimensionality, due to the fact that the computed curves can reveal structure (grouping/clustering) where it might not otherwise be (as) evident.\n",
    "\n",
    "We're essentially looking at just two dimensions here:\n",
    " * temperature\n",
    " * month\n",
    "\n",
    "As we have already seen above, there is not a lot of unexpected (or unexplained) structure in this data. A data set that included wind speed and air pressure might render much more interesting results in an Andrews' curve ..."
   ]
  },
  {
   "cell_type": "code",
   "execution_count": null,
   "metadata": {
    "collapsed": false
   },
   "outputs": [],
   "source": [
    "months_cmap = sns.cubehelix_palette(8, start=-0.5, rot=0.75, as_cmap=True)\n",
    "\n",
    "(figure, axes) = plt.subplots(figsize=(18, 10))\n",
    "temps4 = data_raw[[\"Mean Temperature (F)\", \"Month\"]]\n",
    "axes.set_xticks([-np.pi, -np.pi/2, 0, np.pi/2, np.pi])\n",
    "axes.set_xticklabels([r\"$-{\\pi}$\", r\"$-\\frac{\\pi}{2}$\", r\"$0$\", r\"$\\frac{\\pi}{2}$\", r\"${\\pi}$\"])\n",
    "axes.set_title(\"Andrews Curves for\\nMean Monthly Temperatures, 1894-2013\\nSaint Francis, KS, USA\", fontsize=20)\n",
    "axes.set_xlabel(r\"Data points mapped to lines in the range $[-{\\pi},{\\pi}]$\", fontsize=16)\n",
    "axes.set_ylabel(r\"$f_{x}(t)$\", fontsize=16)\n",
    "pd.tools.plotting.andrews_curves(\n",
    "    temps4, class_column=\"Month\", ax=axes,\n",
    "    colormap=months_cmap)\n",
    "axes.axis([-np.pi, np.pi] + [x * 1.025 for x in axes.axis()[2:]])\n",
    "_ = axes.legend(labels=month_names, loc=(0, 0.67))"
   ]
  },
  {
   "cell_type": "markdown",
   "metadata": {},
   "source": [
    "Andrews' curves are groups of lines where each line represents a point in the input data set. The line itself is a the plot of a finite Fourier series, as defined below (taken from the paper linked above).\n",
    "\n",
    "Each data point $x = \\left \\{ x_1, x_2, \\ldots x_d \\right \\}$ defines a finite Fourier series:\n",
    "\n",
    "\\begin{align}\n",
    "f_x(t) = \\frac{x_1}{\\sqrt 2} + x_2 \\sin(t) + x_3 \\cos(t) + x_4 \\sin(2t) + x_5 \\cos(2t) + \\ldots\n",
    "\\end{align}\n",
    "\n",
    "This function is then plotted for $-\\pi < t < \\pi$. Thus each data point may be viewed as a line between $-\\pi$ and $\\pi$. This formula can be thought of as the projection of the data point onto the vector:\n",
    "\n",
    "\\begin{align}\n",
    "\\left ( \\frac{1}{\\sqrt 2}, \\sin(t), \\cos(t), \\sin(2t), \\cos(2t), \\ldots \\right )\n",
    "\\end{align}\n",
    "\n",
    "If we examine the rendered curves, we see the same patterns we identified in the cluster map plots:\n",
    " * the temperatures of January and December are similar (thus the light and dark banding)\n",
    " * likewise for the temperatures during the summer months\n",
    "\n",
    "Notice that the curves preserve the distance between the high and low temperatures. This is another property of the curves. Other include:\n",
    " * the mean is preserved\n",
    " * linear relationships are preserved\n",
    " * the variance is preserved\n",
    "\n",
    "Things to keep in mind when using Andrews' curves in your projects:\n",
    " * the order of the variables matters; changing that order will result in different curves\n",
    " * the lower frequencies show up better; as such, put the variables you feel to be more important first\n",
    " \n",
    "For example, if we *did* have a data set with atmospheric pressure and wind speed, we might have defined our Pandas ``DataFrame`` with the columns in this order:\n",
    "\n",
    "```python\n",
    "temps4 = data_raw[[\"Mean Temperature (F)\", \"Wind Speed (kn)\", \"Pressure (Pa)\", \"Month\"]]\n",
    "```\n",
    "\n",
    "This concludes the section on temperature analysis. Next we will look precipitation. For the most part, the notes and comments are the same; as such, we will not repeat the text, but merely run through the examples without interruption or commentary."
   ]
  },
  {
   "cell_type": "markdown",
   "metadata": {},
   "source": [
    "### Analysis of Precipitation, 1894-2013"
   ]
  },
  {
   "cell_type": "code",
   "execution_count": null,
   "metadata": {
    "collapsed": false
   },
   "outputs": [],
   "source": [
    "sns.set(style=\"darkgrid\")"
   ]
  },
  {
   "cell_type": "code",
   "execution_count": null,
   "metadata": {
    "collapsed": false
   },
   "outputs": [],
   "source": [
    "precips_colors = [\"#f2d98f\", \"#f8ed39\", \"#a7cf38\", \"#7fc242\", \"#4680c2\", \"#3a53a3\", \"#6e4a98\"]\n",
    "sns.palplot(precips_colors)"
   ]
  },
  {
   "cell_type": "code",
   "execution_count": null,
   "metadata": {
    "collapsed": false
   },
   "outputs": [],
   "source": [
    "precips_cmap = mpl.colors.LinearSegmentedColormap.from_list(\"precip colors\", precips_colors)"
   ]
  },
  {
   "cell_type": "code",
   "execution_count": null,
   "metadata": {
    "collapsed": false
   },
   "outputs": [],
   "source": [
    "(figure, axes) = plt.subplots(figsize=(17,9))\n",
    "axes.set_title((\"Heat Map\\nMean Monthly Precipitation, 1894-2013\\n\"\n",
    "                \"Saint Francis, KS, USA\"), fontsize=20)\n",
    "sns.heatmap(precips, cmap=precips_cmap, cbar_kws={\"label\": \"Inches\"})\n",
    "figure.tight_layout()"
   ]
  },
  {
   "cell_type": "code",
   "execution_count": null,
   "metadata": {
    "collapsed": false
   },
   "outputs": [],
   "source": [
    "figure = plt.figure(figsize=(18, 13))\n",
    "grid_spec = plt.GridSpec(2, 2,\n",
    "                         width_ratios=[50, 1],\n",
    "                         height_ratios=[1, 3],\n",
    "                         wspace=0.05, hspace=0.05)\n",
    "hist_axes = figure.add_subplot(grid_spec[0])\n",
    "cluster_axes = figure.add_subplot(grid_spec[2])\n",
    "colorbar_axes = figure.add_subplot(grid_spec[3])\n",
    "\n",
    "precips_sum = precips.sum(axis=0)\n",
    "years_unique = data[\"Year\"].unique()\n",
    "hist_axes.bar(years_unique, precips_sum, 1,\n",
    "              ec=\"w\", lw=2, color=\"0.5\", alpha=0.5)\n",
    "hist_axes.set(xticks=[], ylabel=\"Total Yearly\\nPrecip. (in)\")\n",
    "hist_axes.set_xlim([years_min, years_max])\n",
    "hist_axes.set_title(\n",
    "    \"Heat Map with Histogram\\nMean Monthly Precipitation, 1894-2013\\nSaint Francis, KS, USA\",\n",
    "    fontsize=20)\n",
    "\n",
    "sns.heatmap(precips,\n",
    "            cmap=precips_cmap,\n",
    "            ax=cluster_axes,\n",
    "            cbar_ax=colorbar_axes,\n",
    "            cbar_kws={\"orientation\": \"vertical\"})\n",
    "_ = colorbar_axes.set(xlabel=\"Precipitation\\n(in)\")"
   ]
  },
  {
   "cell_type": "markdown",
   "metadata": {},
   "source": [
    "For the book version:\n",
    "\n",
    "```python\n",
    "sns.set(font_scale=1.8)\n",
    "figure = plt.figure(figsize=(18, 13))\n",
    "grid_spec = plt.GridSpec(2, 2,\n",
    "                         width_ratios=[50, 1],\n",
    "                         height_ratios=[1, 3],\n",
    "                         wspace=0.05, hspace=0.05)\n",
    "hist_axes = figure.add_subplot(grid_spec[0])\n",
    "cluster_axes = figure.add_subplot(grid_spec[2])\n",
    "colorbar_axes = figure.add_subplot(grid_spec[3])\n",
    "\n",
    "precips_sum = precips.sum(axis=0)\n",
    "years_unique = data[\"Year\"].unique()\n",
    "hist_axes.bar(years_unique, precips_sum, 1,\n",
    "              ec=\"w\", lw=2, color=\"0.5\", alpha=0.5)\n",
    "hist_axes.set(xticks=[], ylabel=\"Total Yearly\\nPrecip. (in)\")\n",
    "hist_axes.set_xlim([years_min, years_max])\n",
    "hist_axes.set_title(\n",
    "    \"Heat Map with Histogram\\nMean Monthly Precipitation, 1894-2013\\nSaint Francis, KS, USA\",\n",
    "    fontsize=24)\n",
    "\n",
    "xticks = precips.columns\n",
    "keptticks = xticks[::int(len(xticks)/36)]\n",
    "xticks = ['' for y in xticks]\n",
    "xticks[::int(len(xticks)/36)] = keptticks\n",
    "\n",
    "_ = sns.heatmap(precips,\n",
    "            cmap=precips_cmap,\n",
    "            ax=cluster_axes,\n",
    "            linewidth=0, xticklabels=xticks, \n",
    "            cbar_ax=colorbar_axes,\n",
    "            cbar_kws={\"label\": \"Precipitation\\n(in)\"})\n",
    "```\n",
    "\n",
    "Our historgram gives a nice view of the average precipitation, and we notice immediately that 1923 is the year in this data set with the highest average. A quick google for \"kansas rain 1923\" lands us on [this USGS page](http://ks.water.usgs.gov/major-floods-along-the-arkansas-river) which discusses major floods along the Arkansas River:\n",
    "\n",
    "<blockquote>\n",
    "<strong>June 8-9, 1923</strong><br/><br/>\n",
    "\n",
    "In June 1923, the entire drainage area between Hutchinson and Arkansas City received excessive rains. On June 8 and 9, Wichita reported 7.06 inches, Newton 5.75 inches, and Arkansas City 2.06 inches. Excessive precipitation fell over all of the Little Arkansas, Ninnescah, and Chikaskia River Basins as well as the Arkansas River Valley, and major flooding occurred on all of the affected streams. Wichita and Arkansas City were severely damaged. In Wichita, 6 square miles were inundated. At Arkansas City, two lives were lost, and property damage was estimated in the millions (Kansas Water Resources Board, 1960). Flood stages on the Ninnescah were the highest known.\n",
    "</blockquote>"
   ]
  },
  {
   "cell_type": "code",
   "execution_count": null,
   "metadata": {
    "collapsed": false
   },
   "outputs": [],
   "source": [
    "clustermap = sns.clustermap(\n",
    "    precips, figsize=(19, 12), cbar_kws={\"label\": \"Precipitation\\n(F)\"}, cmap=precips_cmap)\n",
    "_ = clustermap.ax_col_dendrogram.set_title(\n",
    "        \"Cluster Map\\nMean Monthly Precipitation, 1894-2013\\nSaint Francis, KS, USA\",\n",
    "        fontsize=20)"
   ]
  },
  {
   "cell_type": "code",
   "execution_count": null,
   "metadata": {
    "collapsed": false
   },
   "outputs": [],
   "source": [
    "clustermap = sns.clustermap(\n",
    "    precips, z_score=1, figsize=(19, 12),\n",
    "    cbar_kws={\"label\": \"Normalized\\nPrecipitation\\n(in)\"})\n",
    "_ = clustermap.ax_col_dendrogram.set_title(\n",
    "        \"Normalized Cluster Map\\nMean Monthly Precipitation, 1894-2013\\nSaint Francis, KS, USA\",\n",
    "        fontsize=20)"
   ]
  },
  {
   "cell_type": "code",
   "execution_count": null,
   "metadata": {
    "collapsed": false
   },
   "outputs": [],
   "source": [
    "precips2 = data_raw.pivot(\"Year\", \"Month\", \"Precipitation (in)\")\n",
    "precips2.columns = [str(x).zfill(2) + \" - \" + calendar.month_name[x] for x in precips2.columns]\n",
    "monthly_means = precips2.mean()\n",
    "precips2.head()"
   ]
  },
  {
   "cell_type": "code",
   "execution_count": null,
   "metadata": {
    "collapsed": false
   },
   "outputs": [],
   "source": [
    "axes = pd.tools.plotting.hist_frame(precips2, figsize=(16,12))\n",
    "plt.text(-3.5, -20, \"Precipitation (in)\", fontsize=16)\n",
    "plt.text(-9.75, 155, \"Counts\", rotation=\"vertical\", fontsize=16)\n",
    "_ = plt.suptitle(\"Precipitation Counts by Month, 1894-2013\\nSaint Francis, KS, USA\", fontsize=20)"
   ]
  },
  {
   "cell_type": "code",
   "execution_count": null,
   "metadata": {
    "collapsed": false
   },
   "outputs": [],
   "source": [
    "from scipy.interpolate import UnivariateSpline\n",
    "\n",
    "smooth_mean = UnivariateSpline(month_nums, list(monthly_means), s=0.5)\n",
    "means_xs = np.linspace(0, 13, 2000)\n",
    "means_ys = smooth_mean(means_xs)\n",
    "\n",
    "smooth_maxs = UnivariateSpline(month_nums, list(precips2.max()), s=1)\n",
    "maxs_xs = np.linspace(-5, 14, 2000)\n",
    "maxs_ys = smooth_maxs(maxs_xs)\n",
    "\n",
    "smooth_mins = UnivariateSpline(month_nums, list(precips2.min()), s=0.25)\n",
    "mins_xs = np.linspace(0, 13, 2000)\n",
    "mins_ys = smooth_mins(mins_xs)"
   ]
  },
  {
   "cell_type": "code",
   "execution_count": null,
   "metadata": {
    "collapsed": false
   },
   "outputs": [],
   "source": [
    "precips3 = data_raw[[\"Month\", \"Precipitation (in)\"]]"
   ]
  },
  {
   "cell_type": "code",
   "execution_count": null,
   "metadata": {
    "collapsed": false
   },
   "outputs": [],
   "source": [
    "(figure, axes) = plt.subplots(figsize=(18,10))\n",
    "axes.bar(month_nums, monthly_means, width=0.99, align=\"center\", alpha=0.6)\n",
    "axes.scatter(precips3[\"Month\"], precips3[\"Precipitation (in)\"], s=2000, marker=\"_\", alpha=0.6)\n",
    "axes.plot(means_xs, means_ys, \"b\", linewidth=6, alpha=0.6)\n",
    "axes.plot(maxs_xs, maxs_ys, \"r\", linewidth=6, alpha=0.2)\n",
    "axes.plot(mins_xs, mins_ys, \"y\", linewidth=6, alpha=0.5)\n",
    "axes.axis((0.5, 12.5, precips_inches.min(), precips_inches.max() + 0.25))\n",
    "axes.set_title(\"Mean Monthly Precipitation from 1894-2013\\nSaint Francis, KS, USA\", fontsize=20)\n",
    "axes.set_xticks(month_nums)\n",
    "axes.set_xticklabels(month_names)\n",
    "_ = axes.set_ylabel(\"Precipitation (in)\", fontsize=16)"
   ]
  },
  {
   "cell_type": "code",
   "execution_count": null,
   "metadata": {
    "collapsed": false
   },
   "outputs": [],
   "source": [
    "precips2.max()"
   ]
  },
  {
   "cell_type": "code",
   "execution_count": null,
   "metadata": {
    "collapsed": false
   },
   "outputs": [],
   "source": [
    "precips2.mean()"
   ]
  },
  {
   "cell_type": "code",
   "execution_count": null,
   "metadata": {
    "collapsed": false
   },
   "outputs": [],
   "source": [
    "precips2.min()"
   ]
  },
  {
   "cell_type": "code",
   "execution_count": null,
   "metadata": {
    "collapsed": false
   },
   "outputs": [],
   "source": [
    "precips2.std()"
   ]
  },
  {
   "cell_type": "code",
   "execution_count": null,
   "metadata": {
    "collapsed": false
   },
   "outputs": [],
   "source": [
    "(figure, axes) = plt.subplots(figsize=(18,10))\n",
    "axes.bar(month_nums, monthly_means, width=0.99, align=\"center\", alpha=0.6)\n",
    "axes.scatter(precips3[\"Month\"], precips3[\"Precipitation (in)\"], s=2000, marker=\"_\", alpha=0.6)\n",
    "sns.boxplot(precips2, ax=axes)\n",
    "axes.axis((0.5, 12.5, precips_inches.min(), precips_inches.max() + 0.25))\n",
    "axes.set_title(\"Mean Monthly Precipitation from 1894-2013\\nSaint Francis, KS, USA\", fontsize=20)\n",
    "axes.set_xticks(month_nums)\n",
    "axes.set_xticklabels(month_names)\n",
    "_ = axes.set_ylabel(\"Precipitation (in)\", fontsize=16)"
   ]
  },
  {
   "cell_type": "code",
   "execution_count": null,
   "metadata": {
    "collapsed": false
   },
   "outputs": [],
   "source": [
    "sns.set(style=\"whitegrid\")\n",
    "\n",
    "(figure, axes) = plt.subplots(figsize=(18, 10))\n",
    "sns.violinplot(precips2, bw=0.2, lw=1, inner=\"stick\")\n",
    "axes.set_title((\"Violin Plots\\nMean Monthly Precipitation from 1894-2013\\n\"\n",
    "                \"Saint Francis, KS, USA\"), fontsize=20)\n",
    "axes.set_xticks(month_nums)\n",
    "axes.set_xticklabels(month_names)\n",
    "_ = axes.set_ylabel(\"Precipitation (in)\", fontsize=16)"
   ]
  },
  {
   "cell_type": "code",
   "execution_count": null,
   "metadata": {
    "collapsed": false
   },
   "outputs": [],
   "source": [
    "sns.set(style=\"darkgrid\")"
   ]
  },
  {
   "cell_type": "code",
   "execution_count": null,
   "metadata": {
    "collapsed": false
   },
   "outputs": [],
   "source": [
    "(figure, axes) = plt.subplots(figsize=(18, 10))\n",
    "precips4 = data_raw[[\"Precipitation (in)\", \"Month\"]]\n",
    "axes.set_xlim([-np.pi, np.pi])\n",
    "axes.set_xticks([-np.pi, -np.pi/2, 0, np.pi/2, np.pi])\n",
    "axes.set_xticklabels([r\"$-{\\pi}$\", r\"$-\\frac{\\pi}{2}$\", r\"$0$\", r\"$\\frac{\\pi}{2}$\", r\"${\\pi}$\"])\n",
    "axes.set_title(\"Andrews Curves for\\nMean Monthly Precipitation, 1894-2013\\nSaint Francis, KS, USA\", fontsize=20)\n",
    "axes.set_xlabel(r\"Data points mapped to lines in the range $[-{\\pi},{\\pi}]$\", fontsize=16)\n",
    "axes.set_ylabel(r\"$f_{x}(t)$\", fontsize=16)\n",
    "axes = pd.tools.plotting.andrews_curves(\n",
    "           precips4, class_column=\"Month\", ax=axes,\n",
    "           colormap=sns.cubehelix_palette(8, start=0.5, rot=-0.75, as_cmap=True))\n",
    "axes.axis([-np.pi, np.pi] + [x * 1.025 for x in axes.axis()[2:]])\n",
    "_ = axes.legend(labels=month_names, loc=(0, 0.67))"
   ]
  }
 ],
 "metadata": {
  "kernelspec": {
   "display_name": "Python 2.7",
   "language": "python",
   "name": "python2.7"
  },
  "language_info": {
   "codemirror_mode": {
    "name": "ipython",
    "version": 2
   },
   "file_extension": ".py",
   "mimetype": "text/x-python",
   "name": "python",
   "nbconvert_exporter": "python",
   "pygments_lexer": "ipython2",
   "version": "2.7.6"
  }
 },
 "nbformat": 4,
 "nbformat_minor": 0
}
