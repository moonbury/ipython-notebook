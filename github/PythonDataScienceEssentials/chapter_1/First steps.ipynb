{
 "cells": [
  {
   "cell_type": "markdown",
   "metadata": {},
   "source": [
    "Let's first check the Python version you have installed on your machine.\n",
    "Remember, to run the examples, it must be 2.7.X"
   ]
  },
  {
   "cell_type": "code",
   "execution_count": 1,
   "metadata": {
    "collapsed": false
   },
   "outputs": [
    {
     "name": "stdout",
     "output_type": "stream",
     "text": [
      "Your Python version is 2.7.6 (default, Jun 22 2015, 17:58:13) \n",
      "[GCC 4.8.2]\n"
     ]
    }
   ],
   "source": [
    "import sys\n",
    "print \"Your Python version is\", sys.version"
   ]
  },
  {
   "cell_type": "markdown",
   "metadata": {},
   "source": [
    "Now let's check if you have all the necessary toolkits installed and working properly:"
   ]
  },
  {
   "cell_type": "code",
   "execution_count": 2,
   "metadata": {
    "collapsed": false
   },
   "outputs": [],
   "source": [
    "errors = 0"
   ]
  },
  {
   "cell_type": "code",
   "execution_count": 3,
   "metadata": {
    "collapsed": false
   },
   "outputs": [
    {
     "name": "stdout",
     "output_type": "stream",
     "text": [
      "Numpy installed, version 1.10.1\n"
     ]
    }
   ],
   "source": [
    "try:\n",
    "    import numpy as np\n",
    "    print \"Numpy installed, version\", np.__version__\n",
    "except ImportError:\n",
    "    print \"Numpy is not installed!\"\n",
    "    errors += 1"
   ]
  },
  {
   "cell_type": "code",
   "execution_count": 4,
   "metadata": {
    "collapsed": false
   },
   "outputs": [
    {
     "name": "stdout",
     "output_type": "stream",
     "text": [
      "Scipy installed, version 0.18.0\n"
     ]
    }
   ],
   "source": [
    "try:\n",
    "    import scipy\n",
    "    print \"Scipy installed, version\", scipy.__version__\n",
    "except ImportError:\n",
    "    print \"Scipy is not installed!\"\n",
    "    errors += 1"
   ]
  },
  {
   "cell_type": "code",
   "execution_count": 5,
   "metadata": {
    "collapsed": false
   },
   "outputs": [
    {
     "name": "stdout",
     "output_type": "stream",
     "text": [
      "Matplotlib installed, version 1.5.1\n"
     ]
    }
   ],
   "source": [
    "try:\n",
    "    import matplotlib\n",
    "    print \"Matplotlib installed, version\", matplotlib.__version__\n",
    "except ImportError:\n",
    "    print \"Matplotlib is not installed!\"\n",
    "    errors += 1"
   ]
  },
  {
   "cell_type": "code",
   "execution_count": 6,
   "metadata": {
    "collapsed": false
   },
   "outputs": [
    {
     "name": "stdout",
     "output_type": "stream",
     "text": [
      "Sklearn installed, version 0.17\n"
     ]
    }
   ],
   "source": [
    "try:\n",
    "    import sklearn\n",
    "    print \"Sklearn installed, version\", sklearn.__version__\n",
    "except ImportError:\n",
    "    print \"Sklearn is not installed!\"\n",
    "    errors += 1"
   ]
  },
  {
   "cell_type": "code",
   "execution_count": 7,
   "metadata": {
    "collapsed": false
   },
   "outputs": [
    {
     "name": "stdout",
     "output_type": "stream",
     "text": [
      "Networkx installed, version 1.11\n"
     ]
    }
   ],
   "source": [
    "try:\n",
    "    import networkx\n",
    "    print \"Networkx installed, version\", networkx.__version__\n",
    "except ImportError:\n",
    "    print \"Networkx is not installed!\"\n",
    "    errors += 1"
   ]
  },
  {
   "cell_type": "code",
   "execution_count": 8,
   "metadata": {
    "collapsed": false
   },
   "outputs": [
    {
     "name": "stdout",
     "output_type": "stream",
     "text": [
      "Nltk installed, version 3.2.1\n"
     ]
    }
   ],
   "source": [
    "try:\n",
    "    import nltk\n",
    "    print \"Nltk installed, version\", nltk.__version__\n",
    "except ImportError:\n",
    "    print \"Nltk is not installed!\"\n",
    "    errors += 1"
   ]
  },
  {
   "cell_type": "markdown",
   "metadata": {},
   "source": [
    "Here''s the verdict:"
   ]
  },
  {
   "cell_type": "code",
   "execution_count": 9,
   "metadata": {
    "collapsed": false
   },
   "outputs": [
    {
     "name": "stdout",
     "output_type": "stream",
     "text": [
      "Your machine can run the code\n"
     ]
    }
   ],
   "source": [
    "if errors == 0:\n",
    "    print \"Your machine can run the code\"\n",
    "else:\n",
    "    print \"We found\", errors, \"errors. Please check them and install the missing toolkits\""
   ]
  }
 ],
 "metadata": {
  "kernelspec": {
   "display_name": "Python 2.7",
   "language": "python",
   "name": "python2.7"
  },
  "language_info": {
   "codemirror_mode": {
    "name": "ipython",
    "version": 2
   },
   "file_extension": ".py",
   "mimetype": "text/x-python",
   "name": "python",
   "nbconvert_exporter": "python",
   "pygments_lexer": "ipython2",
   "version": "2.7.6"
  }
 },
 "nbformat": 4,
 "nbformat_minor": 0
}
