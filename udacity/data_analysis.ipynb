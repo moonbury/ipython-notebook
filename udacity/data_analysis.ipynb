{
 "cells": [
  {
   "cell_type": "code",
   "execution_count": 11,
   "metadata": {
    "collapsed": false
   },
   "outputs": [],
   "source": [
    "import numpy as np\n",
    "import pandas as pd\n",
    "%matplotlib inline\n",
    "\n"
   ]
  },
  {
   "cell_type": "code",
   "execution_count": 22,
   "metadata": {
    "collapsed": false
   },
   "outputs": [],
   "source": [
    "import csv\n",
    "daily_engagement = []\n",
    "with open('daily_engagement.csv') as f:\n",
    "    reader = csv.DictReader(f)\n",
    "    for row in reader:\n",
    "        daily_engagement.append(row)\n",
    "\n",
    "daily_engagement[0]\n",
    "for r in daily_engagement:\n",
    "    r['account_key'] = r['acct']\n",
    "    del r['acct']\n"
   ]
  },
  {
   "cell_type": "code",
   "execution_count": 23,
   "metadata": {
    "collapsed": false
   },
   "outputs": [
    {
     "data": {
      "text/plain": [
       "{'account_key': '0',\n",
       " 'lessons_completed': '0.0',\n",
       " 'num_courses_visited': '1.0',\n",
       " 'projects_completed': '0.0',\n",
       " 'total_minutes_visited': '11.6793745',\n",
       " 'utc_date': '2015-01-09'}"
      ]
     },
     "execution_count": 23,
     "metadata": {},
     "output_type": "execute_result"
    }
   ],
   "source": [
    "daily_engagement[0]\n"
   ]
  },
  {
   "cell_type": "code",
   "execution_count": 25,
   "metadata": {
    "collapsed": false
   },
   "outputs": [
    {
     "data": {
      "text/plain": [
       "{'account_key': '448',\n",
       " 'cancel_date': '2015-01-14',\n",
       " 'days_to_cancel': '65',\n",
       " 'is_canceled': 'True',\n",
       " 'is_udacity': 'True',\n",
       " 'join_date': '2014-11-10',\n",
       " 'status': 'canceled'}"
      ]
     },
     "execution_count": 25,
     "metadata": {},
     "output_type": "execute_result"
    }
   ],
   "source": [
    "import csv\n",
    "enrollments = []\n",
    "with open('enrollments.csv') as f:\n",
    "    reader = csv.DictReader(f)\n",
    "    for row in reader:\n",
    "        enrollments.append(row)\n",
    "enrollments[0]"
   ]
  },
  {
   "cell_type": "code",
   "execution_count": 28,
   "metadata": {
    "collapsed": false
   },
   "outputs": [
    {
     "name": "stdout",
     "output_type": "stream",
     "text": [
      "{'is_canceled': 'True', 'status': 'canceled', 'cancel_date': '2015-01-14', 'is_udacity': 'True', 'join_date': '2014-11-10', 'account_key': '448', 'days_to_cancel': '65'}\n"
     ]
    }
   ],
   "source": [
    "for enrollment in enrollments:\n",
    "    student = enrollment['account_key']\n",
    "    if student not in daily_engagement:\n",
    "        print(enrollment)\n",
    "        break;"
   ]
  },
  {
   "cell_type": "code",
   "execution_count": 31,
   "metadata": {
    "collapsed": false
   },
   "outputs": [
    {
     "name": "stdout",
     "output_type": "stream",
     "text": [
      "{'is_canceled': 'True', 'status': 'canceled', 'cancel_date': '2015-01-14', 'is_udacity': 'True', 'join_date': '2014-11-10', 'account_key': '448', 'days_to_cancel': '65'}\n",
      "{'is_canceled': 'True', 'status': 'canceled', 'cancel_date': '2014-11-10', 'is_udacity': 'True', 'join_date': '2014-11-05', 'account_key': '448', 'days_to_cancel': '5'}\n",
      "{'is_canceled': 'True', 'status': 'canceled', 'cancel_date': '2015-01-27', 'is_udacity': 'True', 'join_date': '2015-01-27', 'account_key': '448', 'days_to_cancel': '0'}\n",
      "{'is_canceled': 'True', 'status': 'canceled', 'cancel_date': '2014-11-10', 'is_udacity': 'True', 'join_date': '2014-11-10', 'account_key': '448', 'days_to_cancel': '0'}\n",
      "{'is_canceled': 'False', 'status': 'current', 'cancel_date': '', 'is_udacity': 'True', 'join_date': '2015-03-10', 'account_key': '448', 'days_to_cancel': ''}\n",
      "{'is_canceled': 'True', 'status': 'canceled', 'cancel_date': '2015-01-27', 'is_udacity': 'True', 'join_date': '2015-01-14', 'account_key': '448', 'days_to_cancel': '13'}\n",
      "{'is_canceled': 'True', 'status': 'canceled', 'cancel_date': '2015-03-10', 'is_udacity': 'True', 'join_date': '2015-01-27', 'account_key': '448', 'days_to_cancel': '42'}\n",
      "{'is_canceled': 'True', 'status': 'canceled', 'cancel_date': '2015-01-27', 'is_udacity': 'True', 'join_date': '2015-01-27', 'account_key': '448', 'days_to_cancel': '0'}\n",
      "{'is_canceled': 'True', 'status': 'canceled', 'cancel_date': '2015-01-27', 'is_udacity': 'True', 'join_date': '2015-01-27', 'account_key': '448', 'days_to_cancel': '0'}\n",
      "{'is_canceled': 'True', 'status': 'canceled', 'cancel_date': '2015-03-10', 'is_udacity': 'True', 'join_date': '2015-01-10', 'account_key': '1304', 'days_to_cancel': '59'}\n",
      "{'is_canceled': 'True', 'status': 'canceled', 'cancel_date': '2015-06-17', 'is_udacity': 'True', 'join_date': '2015-03-10', 'account_key': '1304', 'days_to_cancel': '99'}\n",
      "{'is_canceled': 'True', 'status': 'canceled', 'cancel_date': '2015-03-10', 'is_udacity': 'True', 'join_date': '2014-11-10', 'account_key': '312', 'days_to_cancel': '120'}\n",
      "{'is_canceled': 'True', 'status': 'canceled', 'cancel_date': '2015-04-01', 'is_udacity': 'True', 'join_date': '2015-03-10', 'account_key': '312', 'days_to_cancel': '22'}\n",
      "{'is_canceled': 'True', 'status': 'canceled', 'cancel_date': '2015-07-02', 'is_udacity': 'True', 'join_date': '2015-04-01', 'account_key': '312', 'days_to_cancel': '92'}\n",
      "{'is_canceled': 'False', 'status': 'current', 'cancel_date': '', 'is_udacity': 'True', 'join_date': '2015-07-08', 'account_key': '312', 'days_to_cancel': ''}\n",
      "{'is_canceled': 'True', 'status': 'canceled', 'cancel_date': '2015-01-12', 'is_udacity': 'True', 'join_date': '2015-01-07', 'account_key': '818', 'days_to_cancel': '5'}\n",
      "{'is_canceled': 'True', 'status': 'canceled', 'cancel_date': '2015-06-01', 'is_udacity': 'True', 'join_date': '2015-06-01', 'account_key': '1069', 'days_to_cancel': '0'}\n",
      "{'is_canceled': 'False', 'status': 'current', 'cancel_date': '', 'is_udacity': 'True', 'join_date': '2015-02-25', 'account_key': '1101', 'days_to_cancel': ''}\n"
     ]
    }
   ],
   "source": [
    "for enrollment in enrollments:\n",
    "    student = enrollment['is_udacity']\n",
    "    if student == 'True': \n",
    "        print(enrollment)\n",
    "     "
   ]
  },
  {
   "cell_type": "code",
   "execution_count": 2,
   "metadata": {
    "collapsed": false
   },
   "outputs": [],
   "source": [
    "import time\n",
    "import webbrowser\n",
    "total_break = 3\n",
    "break_count = 0\n",
    "while (total_break < break_count):\n",
    "    time.sleep(10)\n",
    "    webbrowser.open(\"www.youtube.com\")\n",
    "    break_count = break_count + 1\n"
   ]
  },
  {
   "cell_type": "code",
   "execution_count": 22,
   "metadata": {
    "collapsed": false
   },
   "outputs": [
    {
     "name": "stdout",
     "output_type": "stream",
     "text": [
      "/home/moonbury\n",
      "face.tx\n",
      "README.txt\n",
      "tree.dot\n",
      ".profile\n",
      "att_faces.tar.bz2\n",
      ".pythonstartup.py\n",
      ".cache\n",
      ".bash_history\n",
      "ijcnn1.bz2\n",
      "feature_selection.py\n",
      ".jupyter\n",
      "result\n",
      "data\n",
      "naive_bayes\n",
      ".bashrc\n",
      "github-book\n",
      "cloneall.py\n",
      "github-scikit-learn\n",
      "Project Euler.ipynb\n",
      "udacity\n",
      ".python_history\n",
      "mysite\n",
      ".vimrc\n",
      ".config\n",
      "cal_pca_face_recognition.ipynb\n",
      "clear.py\n",
      "vision_label.py\n",
      "input_data.py\n",
      "git_readme.txt\n",
      ".local\n",
      ".my.cnf\n",
      ".gitconfig\n",
      "data.csv\n",
      ".ipython\n",
      "scikit-learn\n",
      "kaggle\n",
      ".virtualenvs\n",
      ".mysql_history\n",
      "scikit-image\n",
      ".ipynb_checkpoints\n",
      ".viminfo\n",
      "scikit_learn_data\n"
     ]
    }
   ],
   "source": [
    "import os\n",
    "from os import listdir\n",
    "def list_directory():\n",
    "    os.chdir(r'/home/moonbury/')\n",
    "    filelist = os.listdir(r'.')\n",
    "    print(os.getcwd())\n",
    "    \n",
    "    for f in filelist:\n",
    "        print(f)\n",
    "        \n",
    "    \n",
    "list_directory()"
   ]
  },
  {
   "cell_type": "code",
   "execution_count": 15,
   "metadata": {
    "collapsed": false
   },
   "outputs": [
    {
     "data": {
      "text/plain": [
       "'hello1234'"
      ]
     },
     "execution_count": 15,
     "metadata": {},
     "output_type": "execute_result"
    }
   ],
   "source": []
  },
  {
   "cell_type": "code",
   "execution_count": null,
   "metadata": {
    "collapsed": true
   },
   "outputs": [],
   "source": []
  }
 ],
 "metadata": {
  "kernelspec": {
   "display_name": "Python 3.4",
   "language": "python",
   "name": "python3.4"
  },
  "language_info": {
   "codemirror_mode": {
    "name": "ipython",
    "version": 3
   },
   "file_extension": ".py",
   "mimetype": "text/x-python",
   "name": "python",
   "nbconvert_exporter": "python",
   "pygments_lexer": "ipython3",
   "version": "3.4.3"
  }
 },
 "nbformat": 4,
 "nbformat_minor": 0
}
