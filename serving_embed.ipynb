{
  "nbformat": 4,
  "nbformat_minor": 0,
  "metadata": {
    "colab": {
      "name": "Untitled1.ipynb",
      "version": "0.3.2",
      "provenance": [],
      "include_colab_link": true
    },
    "kernelspec": {
      "name": "python3",
      "display_name": "Python 3"
    }
  },
  "cells": [
    {
      "cell_type": "markdown",
      "metadata": {
        "id": "view-in-github",
        "colab_type": "text"
      },
      "source": [
        "[View in Colaboratory](https://colab.research.google.com/github/moonbury/ipython-notebook/blob/master/serving_embed.ipynb)"
      ]
    },
    {
      "metadata": {
        "id": "k39ve-QJsrM9",
        "colab_type": "code",
        "colab": {}
      },
      "cell_type": "code",
      "source": [
        "# change these to try this notebook out\n",
        "BUCKET = 'gcp-learn-209814.appspot.com'\n",
        "PROJECT = 'gcp-learn-209814'\n",
        "REGION = 'ASIA-NORTHEAST1'"
      ],
      "execution_count": 0,
      "outputs": []
    },
    {
      "metadata": {
        "id": "Be_xnmwOs447",
        "colab_type": "code",
        "colab": {}
      },
      "cell_type": "code",
      "source": [
        "import os\n",
        "os.environ['BUCKET'] = BUCKET\n",
        "os.environ['PROJECT'] = PROJECT\n",
        "os.environ['REGION'] = REGION"
      ],
      "execution_count": 0,
      "outputs": []
    },
    {
      "metadata": {
        "id": "kDjQ1LXns_gP",
        "colab_type": "code",
        "colab": {
          "base_uri": "https://localhost:8080/",
          "height": 50
        },
        "outputId": "8415cb65-abf7-4f2d-dba2-aac5a3fa7fd4"
      },
      "cell_type": "code",
      "source": [
        "! gcloud config set project $PROJECT\n",
        "! gcloud config set compute/region $REGION"
      ],
      "execution_count": 14,
      "outputs": [
        {
          "output_type": "stream",
          "text": [
            "Updated property [core/project].\n",
            "Updated property [compute/region].\n"
          ],
          "name": "stdout"
        }
      ]
    },
    {
      "metadata": {
        "id": "VlqPoQ7CvwOw",
        "colab_type": "code",
        "colab": {
          "base_uri": "https://localhost:8080/",
          "height": 1394
        },
        "outputId": "5de06a4f-d2ac-4885-eaab-76f3cafa08cf"
      },
      "cell_type": "code",
      "source": [
        "!pip3 install datalab"
      ],
      "execution_count": 15,
      "outputs": [
        {
          "output_type": "stream",
          "text": [
            "Collecting datalab\n",
            "\u001b[?25l  Downloading https://files.pythonhosted.org/packages/34/20/3b4963045b1f5ebb79253a2b22225530faecf563f293a19acbbbbc097ddf/datalab-1.1.4.tar.gz (1.3MB)\n",
            "\u001b[K    100% |████████████████████████████████| 1.3MB 5.9MB/s \n",
            "\u001b[?25hCollecting configparser>=3.5.0 (from datalab)\n",
            "  Downloading https://files.pythonhosted.org/packages/7c/69/c2ce7e91c89dc073eb1aa74c0621c3eefbffe8216b3f9af9d3885265c01c/configparser-3.5.0.tar.gz\n",
            "Collecting mock>=2.0.0 (from datalab)\n",
            "\u001b[?25l  Downloading https://files.pythonhosted.org/packages/e6/35/f187bdf23be87092bd0f1200d43d23076cee4d0dec109f195173fd3ebc79/mock-2.0.0-py2.py3-none-any.whl (56kB)\n",
            "\u001b[K    100% |████████████████████████████████| 61kB 11.5MB/s \n",
            "\u001b[?25hRequirement already satisfied: future>=0.16.0 in /usr/local/lib/python3.6/dist-packages (from datalab) (0.16.0)\n",
            "Collecting google-cloud>=0.30.0 (from datalab)\n",
            "  Downloading https://files.pythonhosted.org/packages/ba/b1/7c54d1950e7808df06642274e677dbcedba57f75307adf2e5ad8d39e5e0e/google_cloud-0.34.0-py2.py3-none-any.whl\n",
            "Requirement already satisfied: google-api-python-client>=1.6.2 in /usr/local/lib/python3.6/dist-packages (from datalab) (1.6.7)\n",
            "Requirement already satisfied: seaborn>=0.7.0 in /usr/local/lib/python3.6/dist-packages (from datalab) (0.7.1)\n",
            "Requirement already satisfied: plotly>=1.12.5 in /usr/local/lib/python3.6/dist-packages (from datalab) (1.12.12)\n",
            "Requirement already satisfied: httplib2>=0.10.3 in /usr/local/lib/python3.6/dist-packages (from datalab) (0.11.3)\n",
            "Requirement already satisfied: oauth2client>=2.2.0 in /usr/local/lib/python3.6/dist-packages (from datalab) (4.1.2)\n",
            "Requirement already satisfied: pandas>=0.22.0 in /usr/local/lib/python3.6/dist-packages (from datalab) (0.22.0)\n",
            "Requirement already satisfied: google_auth_httplib2>=0.0.2 in /usr/local/lib/python3.6/dist-packages (from datalab) (0.0.3)\n",
            "Collecting pandas-profiling>=1.0.0a2 (from datalab)\n",
            "  Downloading https://files.pythonhosted.org/packages/a7/7c/84f15ee705793a3cdd43bc65e6166d65d36f743b815ea517b02582989533/pandas_profiling-1.4.1-py2.py3-none-any.whl\n",
            "Requirement already satisfied: python-dateutil>=2.5.0 in /usr/local/lib/python3.6/dist-packages (from datalab) (2.5.3)\n",
            "Requirement already satisfied: pytz>=2015.4 in /usr/local/lib/python3.6/dist-packages (from datalab) (2018.5)\n",
            "Requirement already satisfied: pyyaml>=3.11 in /usr/local/lib/python3.6/dist-packages (from datalab) (3.13)\n",
            "Requirement already satisfied: requests>=2.9.1 in /usr/local/lib/python3.6/dist-packages (from datalab) (2.18.4)\n",
            "Requirement already satisfied: scikit-image>=0.13.0 in /usr/local/lib/python3.6/dist-packages (from datalab) (0.13.1)\n",
            "Requirement already satisfied: scikit-learn>=0.18.2 in /usr/local/lib/python3.6/dist-packages (from datalab) (0.19.2)\n",
            "Requirement already satisfied: ipykernel>=4.5.2 in /usr/local/lib/python3.6/dist-packages (from datalab) (4.6.1)\n",
            "Requirement already satisfied: psutil>=4.3.0 in /usr/local/lib/python3.6/dist-packages (from datalab) (5.4.7)\n",
            "Requirement already satisfied: jsonschema>=2.6.0 in /usr/local/lib/python3.6/dist-packages (from datalab) (2.6.0)\n",
            "Collecting six==1.10.0 (from datalab)\n",
            "  Downloading https://files.pythonhosted.org/packages/c8/0a/b6723e1bc4c516cb687841499455a8505b44607ab535be01091c0f24f079/six-1.10.0-py2.py3-none-any.whl\n",
            "Requirement already satisfied: urllib3>=1.22 in /usr/local/lib/python3.6/dist-packages (from datalab) (1.22)\n",
            "Collecting pbr>=0.11 (from mock>=2.0.0->datalab)\n",
            "\u001b[?25l  Downloading https://files.pythonhosted.org/packages/69/1c/98cba002ed975a91a0294863d9c774cc0ebe38e05bbb65e83314550b1677/pbr-4.2.0-py2.py3-none-any.whl (100kB)\n",
            "\u001b[K    100% |████████████████████████████████| 102kB 8.4MB/s \n",
            "\u001b[?25hRequirement already satisfied: uritemplate<4dev,>=3.0.0 in /usr/local/lib/python3.6/dist-packages (from google-api-python-client>=1.6.2->datalab) (3.0.0)\n",
            "Requirement already satisfied: rsa>=3.1.4 in /usr/local/lib/python3.6/dist-packages (from oauth2client>=2.2.0->datalab) (3.4.2)\n",
            "Requirement already satisfied: pyasn1-modules>=0.0.5 in /usr/local/lib/python3.6/dist-packages (from oauth2client>=2.2.0->datalab) (0.2.2)\n",
            "Requirement already satisfied: pyasn1>=0.1.7 in /usr/local/lib/python3.6/dist-packages (from oauth2client>=2.2.0->datalab) (0.4.4)\n",
            "Requirement already satisfied: numpy>=1.9.0 in /usr/local/lib/python3.6/dist-packages (from pandas>=0.22.0->datalab) (1.14.5)\n",
            "Requirement already satisfied: google-auth in /usr/local/lib/python3.6/dist-packages (from google_auth_httplib2>=0.0.2->datalab) (1.4.2)\n",
            "Requirement already satisfied: jinja2>=2.8 in /usr/local/lib/python3.6/dist-packages (from pandas-profiling>=1.0.0a2->datalab) (2.10)\n",
            "Requirement already satisfied: matplotlib>=1.4 in /usr/local/lib/python3.6/dist-packages (from pandas-profiling>=1.0.0a2->datalab) (2.1.2)\n",
            "Requirement already satisfied: chardet<3.1.0,>=3.0.2 in /usr/local/lib/python3.6/dist-packages (from requests>=2.9.1->datalab) (3.0.4)\n",
            "Requirement already satisfied: certifi>=2017.4.17 in /usr/local/lib/python3.6/dist-packages (from requests>=2.9.1->datalab) (2018.8.13)\n",
            "Requirement already satisfied: idna<2.7,>=2.5 in /usr/local/lib/python3.6/dist-packages (from requests>=2.9.1->datalab) (2.6)\n",
            "Requirement already satisfied: pillow>=2.1.0 in /usr/local/lib/python3.6/dist-packages (from scikit-image>=0.13.0->datalab) (4.0.0)\n",
            "Requirement already satisfied: networkx>=1.8 in /usr/local/lib/python3.6/dist-packages (from scikit-image>=0.13.0->datalab) (2.1)\n",
            "Requirement already satisfied: scipy>=0.17.0 in /usr/local/lib/python3.6/dist-packages (from scikit-image>=0.13.0->datalab) (0.19.1)\n",
            "Requirement already satisfied: PyWavelets>=0.4.0 in /usr/local/lib/python3.6/dist-packages (from scikit-image>=0.13.0->datalab) (0.5.2)\n",
            "Requirement already satisfied: tornado>=4.0 in /usr/local/lib/python3.6/dist-packages (from ipykernel>=4.5.2->datalab) (4.5.3)\n",
            "Requirement already satisfied: jupyter-client in /usr/local/lib/python3.6/dist-packages (from ipykernel>=4.5.2->datalab) (5.2.3)\n",
            "Requirement already satisfied: ipython>=4.0.0 in /usr/local/lib/python3.6/dist-packages (from ipykernel>=4.5.2->datalab) (5.5.0)\n",
            "Requirement already satisfied: traitlets>=4.1.0 in /usr/local/lib/python3.6/dist-packages (from ipykernel>=4.5.2->datalab) (4.3.2)\n",
            "Requirement already satisfied: cachetools>=2.0.0 in /usr/local/lib/python3.6/dist-packages (from google-auth->google_auth_httplib2>=0.0.2->datalab) (2.1.0)\n",
            "Requirement already satisfied: MarkupSafe>=0.23 in /usr/local/lib/python3.6/dist-packages (from jinja2>=2.8->pandas-profiling>=1.0.0a2->datalab) (1.0)\n",
            "Requirement already satisfied: cycler>=0.10 in /usr/local/lib/python3.6/dist-packages (from matplotlib>=1.4->pandas-profiling>=1.0.0a2->datalab) (0.10.0)\n",
            "Requirement already satisfied: pyparsing!=2.0.4,!=2.1.2,!=2.1.6,>=2.0.1 in /usr/local/lib/python3.6/dist-packages (from matplotlib>=1.4->pandas-profiling>=1.0.0a2->datalab) (2.2.0)\n",
            "Requirement already satisfied: olefile in /usr/local/lib/python3.6/dist-packages (from pillow>=2.1.0->scikit-image>=0.13.0->datalab) (0.45.1)\n",
            "Requirement already satisfied: decorator>=4.1.0 in /usr/local/lib/python3.6/dist-packages (from networkx>=1.8->scikit-image>=0.13.0->datalab) (4.3.0)\n",
            "Requirement already satisfied: pyzmq>=13 in /usr/local/lib/python3.6/dist-packages (from jupyter-client->ipykernel>=4.5.2->datalab) (16.0.4)\n",
            "Requirement already satisfied: jupyter-core in /usr/local/lib/python3.6/dist-packages (from jupyter-client->ipykernel>=4.5.2->datalab) (4.4.0)\n",
            "Requirement already satisfied: simplegeneric>0.8 in /usr/local/lib/python3.6/dist-packages (from ipython>=4.0.0->ipykernel>=4.5.2->datalab) (0.8.1)\n",
            "Requirement already satisfied: pexpect; sys_platform != \"win32\" in /usr/local/lib/python3.6/dist-packages (from ipython>=4.0.0->ipykernel>=4.5.2->datalab) (4.6.0)\n",
            "Requirement already satisfied: pickleshare in /usr/local/lib/python3.6/dist-packages (from ipython>=4.0.0->ipykernel>=4.5.2->datalab) (0.7.4)\n",
            "Requirement already satisfied: pygments in /usr/local/lib/python3.6/dist-packages (from ipython>=4.0.0->ipykernel>=4.5.2->datalab) (2.1.3)\n",
            "Requirement already satisfied: prompt-toolkit<2.0.0,>=1.0.4 in /usr/local/lib/python3.6/dist-packages (from ipython>=4.0.0->ipykernel>=4.5.2->datalab) (1.0.15)\n",
            "Requirement already satisfied: setuptools>=18.5 in /usr/local/lib/python3.6/dist-packages (from ipython>=4.0.0->ipykernel>=4.5.2->datalab) (39.1.0)\n",
            "Requirement already satisfied: ipython-genutils in /usr/local/lib/python3.6/dist-packages (from traitlets>=4.1.0->ipykernel>=4.5.2->datalab) (0.2.0)\n",
            "Requirement already satisfied: ptyprocess>=0.5 in /usr/local/lib/python3.6/dist-packages (from pexpect; sys_platform != \"win32\"->ipython>=4.0.0->ipykernel>=4.5.2->datalab) (0.6.0)\n",
            "Requirement already satisfied: wcwidth in /usr/local/lib/python3.6/dist-packages (from prompt-toolkit<2.0.0,>=1.0.4->ipython>=4.0.0->ipykernel>=4.5.2->datalab) (0.1.7)\n",
            "Building wheels for collected packages: datalab, configparser\n",
            "  Running setup.py bdist_wheel for datalab ... \u001b[?25l-\b \b\\\b \b|\b \b/\b \b-\b \bdone\n",
            "\u001b[?25h  Stored in directory: /content/.cache/pip/wheels/a0/49/91/b042b0fc2f6f1b418c0d4adc9aee43af3e1b6784367c6700df\n",
            "  Running setup.py bdist_wheel for configparser ... \u001b[?25l-\b \bdone\n",
            "\u001b[?25h  Stored in directory: /content/.cache/pip/wheels/a3/61/79/424ef897a2f3b14684a7de5d89e8600b460b89663e6ce9d17c\n",
            "Successfully built datalab configparser\n",
            "Installing collected packages: configparser, six, pbr, mock, google-cloud, pandas-profiling, datalab\n",
            "  Found existing installation: six 1.11.0\n",
            "    Uninstalling six-1.11.0:\n",
            "      Successfully uninstalled six-1.11.0\n",
            "Successfully installed configparser-3.5.0 datalab-1.1.4 google-cloud-0.34.0 mock-2.0.0 pandas-profiling-1.4.1 pbr-4.2.0 six-1.10.0\n"
          ],
          "name": "stdout"
        }
      ]
    },
    {
      "metadata": {
        "id": "biNqXFOtwR-z",
        "colab_type": "code",
        "colab": {}
      },
      "cell_type": "code",
      "source": [
        "from google.colab import auth\n",
        "auth.authenticate_user()"
      ],
      "execution_count": 0,
      "outputs": []
    },
    {
      "metadata": {
        "id": "oOsRQhJetWDB",
        "colab_type": "code",
        "colab": {}
      },
      "cell_type": "code",
      "source": [
        "query = \"\"\"\n",
        "#standardsql\n",
        "WITH bicycle_rentals AS (\n",
        "  SELECT\n",
        "    COUNT(starttime) as num_trips,\n",
        "    EXTRACT(DATE from starttime) as trip_date,\n",
        "    MAX(EXTRACT(DAYOFWEEK from starttime)) as day_of_week,\n",
        "    start_station_id\n",
        "  FROM `bigquery-public-data.new_york.citibike_trips`\n",
        "  GROUP BY trip_date, start_station_id\n",
        "),\n",
        "\n",
        "rainy_days AS\n",
        "(\n",
        "SELECT\n",
        "  date,\n",
        "  (MAX(prcp) > 5) AS rainy\n",
        "FROM (\n",
        "  SELECT\n",
        "    wx.date AS date,\n",
        "    IF (wx.element = 'PRCP', wx.value/10, NULL) AS prcp\n",
        "  FROM\n",
        "    `bigquery-public-data.ghcn_d.ghcnd_2016` AS wx\n",
        "  WHERE\n",
        "    wx.id = 'USW00094728'\n",
        ")\n",
        "GROUP BY\n",
        "  date\n",
        ")\n",
        "\n",
        "SELECT\n",
        "  num_trips,\n",
        "  day_of_week,\n",
        "  start_station_id,\n",
        "  rainy\n",
        "FROM bicycle_rentals AS bk\n",
        "JOIN rainy_days AS wx\n",
        "ON wx.date = bk.trip_date\n",
        "\"\"\"\n",
        "import google.datalab.bigquery as bq\n",
        "df = bq.Query(query).execute().result().to_dataframe()"
      ],
      "execution_count": 0,
      "outputs": []
    },
    {
      "metadata": {
        "id": "xRA-pPrTug0R",
        "colab_type": "code",
        "colab": {
          "base_uri": "https://localhost:8080/",
          "height": 195
        },
        "outputId": "0bd0a85e-894e-4906-b821-f73323e7c856"
      },
      "cell_type": "code",
      "source": [
        "# shuffle the dataframe to make it easier to split into train/eval later\n",
        "df = df.sample(frac=1.0)\n",
        "df.head()"
      ],
      "execution_count": 19,
      "outputs": [
        {
          "output_type": "execute_result",
          "data": {
            "text/html": [
              "<div>\n",
              "<style scoped>\n",
              "    .dataframe tbody tr th:only-of-type {\n",
              "        vertical-align: middle;\n",
              "    }\n",
              "\n",
              "    .dataframe tbody tr th {\n",
              "        vertical-align: top;\n",
              "    }\n",
              "\n",
              "    .dataframe thead th {\n",
              "        text-align: right;\n",
              "    }\n",
              "</style>\n",
              "<table border=\"1\" class=\"dataframe\">\n",
              "  <thead>\n",
              "    <tr style=\"text-align: right;\">\n",
              "      <th></th>\n",
              "      <th>num_trips</th>\n",
              "      <th>day_of_week</th>\n",
              "      <th>start_station_id</th>\n",
              "      <th>rainy</th>\n",
              "    </tr>\n",
              "  </thead>\n",
              "  <tbody>\n",
              "    <tr>\n",
              "      <th>74907</th>\n",
              "      <td>13</td>\n",
              "      <td>5</td>\n",
              "      <td>3082</td>\n",
              "      <td>False</td>\n",
              "    </tr>\n",
              "    <tr>\n",
              "      <th>35134</th>\n",
              "      <td>3</td>\n",
              "      <td>2</td>\n",
              "      <td>3058</td>\n",
              "      <td>True</td>\n",
              "    </tr>\n",
              "    <tr>\n",
              "      <th>8916</th>\n",
              "      <td>33</td>\n",
              "      <td>1</td>\n",
              "      <td>367</td>\n",
              "      <td>False</td>\n",
              "    </tr>\n",
              "    <tr>\n",
              "      <th>89727</th>\n",
              "      <td>13</td>\n",
              "      <td>5</td>\n",
              "      <td>2022</td>\n",
              "      <td>False</td>\n",
              "    </tr>\n",
              "    <tr>\n",
              "      <th>28807</th>\n",
              "      <td>13</td>\n",
              "      <td>2</td>\n",
              "      <td>406</td>\n",
              "      <td>False</td>\n",
              "    </tr>\n",
              "  </tbody>\n",
              "</table>\n",
              "</div>"
            ],
            "text/plain": [
              "       num_trips  day_of_week  start_station_id  rainy\n",
              "74907         13            5              3082  False\n",
              "35134          3            2              3058   True\n",
              "8916          33            1               367  False\n",
              "89727         13            5              2022  False\n",
              "28807         13            2               406  False"
            ]
          },
          "metadata": {
            "tags": []
          },
          "execution_count": 19
        }
      ]
    },
    {
      "metadata": {
        "id": "Wq7y8AwluxAX",
        "colab_type": "code",
        "colab": {
          "base_uri": "https://localhost:8080/",
          "height": 101
        },
        "outputId": "60710ca7-4357-4680-fe7b-58f46de2d3c1"
      },
      "cell_type": "code",
      "source": [
        "df.dtypes"
      ],
      "execution_count": 21,
      "outputs": [
        {
          "output_type": "execute_result",
          "data": {
            "text/plain": [
              "num_trips           int64\n",
              "day_of_week         int64\n",
              "start_station_id    int64\n",
              "rainy                bool\n",
              "dtype: object"
            ]
          },
          "metadata": {
            "tags": []
          },
          "execution_count": 21
        }
      ]
    },
    {
      "metadata": {
        "id": "3ucdCky4wntD",
        "colab_type": "code",
        "colab": {
          "base_uri": "https://localhost:8080/",
          "height": 101
        },
        "outputId": "548a6612-a274-4fba-999a-bb74436981c7"
      },
      "cell_type": "code",
      "source": [
        "import numpy as np\n",
        "df = df.astype({'num_trips': np.float32, 'day_of_week': np.int32, 'start_station_id': np.int32, 'rainy': str})\n",
        "df.dtypes"
      ],
      "execution_count": 22,
      "outputs": [
        {
          "output_type": "execute_result",
          "data": {
            "text/plain": [
              "num_trips           float32\n",
              "day_of_week           int32\n",
              "start_station_id      int32\n",
              "rainy                object\n",
              "dtype: object"
            ]
          },
          "metadata": {
            "tags": []
          },
          "execution_count": 22
        }
      ]
    },
    {
      "metadata": {
        "id": "7h9jLiKPwvlm",
        "colab_type": "code",
        "colab": {}
      },
      "cell_type": "code",
      "source": [
        "df['num_trips'] = df['num_trips'] / 1000.0"
      ],
      "execution_count": 0,
      "outputs": []
    },
    {
      "metadata": {
        "id": "Y7Ct3mp_wyd6",
        "colab_type": "code",
        "colab": {
          "base_uri": "https://localhost:8080/",
          "height": 34
        },
        "outputId": "42f074bc-29d9-4126-8756-6bfc0032fb2b"
      },
      "cell_type": "code",
      "source": [
        "num_train = (int) (len(df) * 0.8)\n",
        "train_df = df.iloc[:num_train]\n",
        "eval_df  = df.iloc[num_train:]\n",
        "print(\"Split into {} training examples and {} evaluation examples\".format(len(train_df), len(eval_df)))"
      ],
      "execution_count": 24,
      "outputs": [
        {
          "output_type": "stream",
          "text": [
            "Split into 104148 training examples and 26037 evaluation examples\n"
          ],
          "name": "stdout"
        }
      ]
    },
    {
      "metadata": {
        "id": "0JrT6jN6w3p_",
        "colab_type": "code",
        "colab": {
          "base_uri": "https://localhost:8080/",
          "height": 195
        },
        "outputId": "548c9da7-4c88-47cf-e859-721c8cf55df6"
      },
      "cell_type": "code",
      "source": [
        "train_df.head()"
      ],
      "execution_count": 26,
      "outputs": [
        {
          "output_type": "execute_result",
          "data": {
            "text/html": [
              "<div>\n",
              "<style scoped>\n",
              "    .dataframe tbody tr th:only-of-type {\n",
              "        vertical-align: middle;\n",
              "    }\n",
              "\n",
              "    .dataframe tbody tr th {\n",
              "        vertical-align: top;\n",
              "    }\n",
              "\n",
              "    .dataframe thead th {\n",
              "        text-align: right;\n",
              "    }\n",
              "</style>\n",
              "<table border=\"1\" class=\"dataframe\">\n",
              "  <thead>\n",
              "    <tr style=\"text-align: right;\">\n",
              "      <th></th>\n",
              "      <th>num_trips</th>\n",
              "      <th>day_of_week</th>\n",
              "      <th>start_station_id</th>\n",
              "      <th>rainy</th>\n",
              "    </tr>\n",
              "  </thead>\n",
              "  <tbody>\n",
              "    <tr>\n",
              "      <th>74907</th>\n",
              "      <td>0.013</td>\n",
              "      <td>5</td>\n",
              "      <td>3082</td>\n",
              "      <td>False</td>\n",
              "    </tr>\n",
              "    <tr>\n",
              "      <th>35134</th>\n",
              "      <td>0.003</td>\n",
              "      <td>2</td>\n",
              "      <td>3058</td>\n",
              "      <td>True</td>\n",
              "    </tr>\n",
              "    <tr>\n",
              "      <th>8916</th>\n",
              "      <td>0.033</td>\n",
              "      <td>1</td>\n",
              "      <td>367</td>\n",
              "      <td>False</td>\n",
              "    </tr>\n",
              "    <tr>\n",
              "      <th>89727</th>\n",
              "      <td>0.013</td>\n",
              "      <td>5</td>\n",
              "      <td>2022</td>\n",
              "      <td>False</td>\n",
              "    </tr>\n",
              "    <tr>\n",
              "      <th>28807</th>\n",
              "      <td>0.013</td>\n",
              "      <td>2</td>\n",
              "      <td>406</td>\n",
              "      <td>False</td>\n",
              "    </tr>\n",
              "  </tbody>\n",
              "</table>\n",
              "</div>"
            ],
            "text/plain": [
              "       num_trips  day_of_week  start_station_id  rainy\n",
              "74907      0.013            5              3082  False\n",
              "35134      0.003            2              3058   True\n",
              "8916       0.033            1               367  False\n",
              "89727      0.013            5              2022  False\n",
              "28807      0.013            2               406  False"
            ]
          },
          "metadata": {
            "tags": []
          },
          "execution_count": 26
        }
      ]
    },
    {
      "metadata": {
        "id": "lf3y-jGdw607",
        "colab_type": "code",
        "colab": {
          "base_uri": "https://localhost:8080/",
          "height": 692
        },
        "outputId": "e862cbee-d3fe-418d-c05e-4750bd4e85d2"
      },
      "cell_type": "code",
      "source": [
        "import tensorflow as tf\n",
        "import pandas as pd\n",
        "\n",
        "def make_input_fn(indf, num_epochs):\n",
        "  return tf.estimator.inputs.pandas_input_fn(\n",
        "    indf,\n",
        "    indf['num_trips'],\n",
        "    num_epochs=num_epochs,\n",
        "    shuffle=True)\n",
        "\n",
        "def serving_input_fn():\n",
        "    feature_placeholders = {\n",
        "      'day_of_week': tf.placeholder(tf.int32, [None]),\n",
        "      'start_station_id': tf.placeholder(tf.int32, [None]),\n",
        "      'rainy': tf.placeholder(tf.string, [None])\n",
        "    }\n",
        "    features = {\n",
        "        key: tf.expand_dims(tensor, -1)\n",
        "        for key, tensor in feature_placeholders.items()\n",
        "    }\n",
        "    return tf.estimator.export.ServingInputReceiver(features, feature_placeholders)\n",
        "  \n",
        "def train_and_evaluate(output_dir, nsteps):\n",
        "  station_embed = tf.feature_column.embedding_column(\n",
        "      tf.feature_column.categorical_column_with_hash_bucket('start_station_id', 5000, tf.int32), 2)\n",
        "  feature_cols = [\n",
        "    tf.feature_column.categorical_column_with_identity('day_of_week', num_buckets = 8),\n",
        "    station_embed,\n",
        "    tf.feature_column.categorical_column_with_vocabulary_list('rainy', ['false', 'true'])\n",
        "  ]\n",
        "  estimator = tf.estimator.LinearRegressor(\n",
        "                       model_dir = output_dir,\n",
        "                       feature_columns = feature_cols)\n",
        "  train_spec=tf.estimator.TrainSpec(\n",
        "                       input_fn = make_input_fn(train_df, None),\n",
        "                       max_steps = nsteps)\n",
        "  exporter = tf.estimator.LatestExporter('exporter', serving_input_fn)\n",
        "  eval_spec=tf.estimator.EvalSpec(\n",
        "                       input_fn = make_input_fn(eval_df, 1),\n",
        "                       steps = None,\n",
        "                       start_delay_secs = 1, # start evaluating after N seconds\n",
        "                       throttle_secs = 10,  # evaluate every N seconds\n",
        "                       exporters = exporter)\n",
        "  tf.estimator.train_and_evaluate(estimator, train_spec, eval_spec)\n",
        "  \n",
        "import shutil\n",
        "OUTDIR='./model_trained'\n",
        "shutil.rmtree(OUTDIR, ignore_errors=True)\n",
        "train_and_evaluate(OUTDIR, 10)"
      ],
      "execution_count": 27,
      "outputs": [
        {
          "output_type": "stream",
          "text": [
            "INFO:tensorflow:Using default config.\n",
            "INFO:tensorflow:Using config: {'_model_dir': './model_trained', '_tf_random_seed': None, '_save_summary_steps': 100, '_save_checkpoints_steps': None, '_save_checkpoints_secs': 600, '_session_config': None, '_keep_checkpoint_max': 5, '_keep_checkpoint_every_n_hours': 10000, '_log_step_count_steps': 100, '_train_distribute': None, '_device_fn': None, '_service': None, '_cluster_spec': <tensorflow.python.training.server_lib.ClusterSpec object at 0x7f2c7091f390>, '_task_type': 'worker', '_task_id': 0, '_global_id_in_cluster': 0, '_master': '', '_evaluation_master': '', '_is_chief': True, '_num_ps_replicas': 0, '_num_worker_replicas': 1}\n",
            "INFO:tensorflow:Running training and evaluation locally (non-distributed).\n",
            "INFO:tensorflow:Start train and evaluate loop. The evaluate will happen after every checkpoint. Checkpoint frequency is determined based on RunConfig arguments: save_checkpoints_steps None or save_checkpoints_secs 600.\n",
            "INFO:tensorflow:Calling model_fn.\n",
            "INFO:tensorflow:Done calling model_fn.\n",
            "INFO:tensorflow:Create CheckpointSaverHook.\n",
            "INFO:tensorflow:Graph was finalized.\n",
            "INFO:tensorflow:Running local_init_op.\n",
            "INFO:tensorflow:Done running local_init_op.\n",
            "INFO:tensorflow:Saving checkpoints for 0 into ./model_trained/model.ckpt.\n",
            "INFO:tensorflow:loss = 1.4860361, step = 1\n",
            "INFO:tensorflow:Saving checkpoints for 10 into ./model_trained/model.ckpt.\n",
            "INFO:tensorflow:Calling model_fn.\n",
            "INFO:tensorflow:Done calling model_fn.\n",
            "INFO:tensorflow:Starting evaluation at 2018-08-16-03:25:24\n",
            "INFO:tensorflow:Graph was finalized.\n",
            "INFO:tensorflow:Restoring parameters from ./model_trained/model.ckpt-10\n",
            "INFO:tensorflow:Running local_init_op.\n",
            "INFO:tensorflow:Done running local_init_op.\n",
            "INFO:tensorflow:Finished evaluation at 2018-08-16-03:25:24\n",
            "INFO:tensorflow:Saving dict for global step 10: average_loss = 0.0057319324, global_step = 10, label/mean = 0.078333765, loss = 0.73158, prediction/mean = 0.08281881\n",
            "INFO:tensorflow:Saving 'checkpoint_path' summary for global step 10: ./model_trained/model.ckpt-10\n",
            "INFO:tensorflow:Calling model_fn.\n",
            "INFO:tensorflow:Done calling model_fn.\n",
            "INFO:tensorflow:Signatures INCLUDED in export for Classify: None\n",
            "INFO:tensorflow:Signatures INCLUDED in export for Regress: None\n",
            "INFO:tensorflow:Signatures INCLUDED in export for Predict: ['predict']\n",
            "INFO:tensorflow:Signatures INCLUDED in export for Train: None\n",
            "INFO:tensorflow:Signatures INCLUDED in export for Eval: None\n",
            "INFO:tensorflow:Signatures EXCLUDED from export because they cannot be be served via TensorFlow Serving APIs:\n",
            "INFO:tensorflow:'serving_default' : Regression input must be a single string Tensor; got {'day_of_week': <tf.Tensor 'Placeholder:0' shape=(?,) dtype=int32>, 'start_station_id': <tf.Tensor 'Placeholder_1:0' shape=(?,) dtype=int32>, 'rainy': <tf.Tensor 'Placeholder_2:0' shape=(?,) dtype=string>}\n",
            "INFO:tensorflow:'regression' : Regression input must be a single string Tensor; got {'day_of_week': <tf.Tensor 'Placeholder:0' shape=(?,) dtype=int32>, 'start_station_id': <tf.Tensor 'Placeholder_1:0' shape=(?,) dtype=int32>, 'rainy': <tf.Tensor 'Placeholder_2:0' shape=(?,) dtype=string>}\n",
            "WARNING:tensorflow:Export includes no default signature!\n",
            "INFO:tensorflow:Restoring parameters from ./model_trained/model.ckpt-10\n",
            "INFO:tensorflow:Assets added to graph.\n",
            "INFO:tensorflow:No assets to write.\n",
            "INFO:tensorflow:SavedModel written to: ./model_trained/export/exporter/temp-b'1534389925'/saved_model.pb\n",
            "INFO:tensorflow:Loss for final step: 0.8201783.\n"
          ],
          "name": "stdout"
        }
      ]
    },
    {
      "metadata": {
        "id": "ZsveN2IzxBdV",
        "colab_type": "code",
        "colab": {
          "base_uri": "https://localhost:8080/",
          "height": 34
        },
        "outputId": "4ad9f96e-96b1-49fb-b581-76378aff953b"
      },
      "cell_type": "code",
      "source": [
        "%%writefile test.json\n",
        "{\"day_of_week\": 3, \"start_station_id\": 384, \"rainy\": \"false\"}\n",
        "{\"day_of_week\": 4, \"start_station_id\": 384, \"rainy\": \"true\"}"
      ],
      "execution_count": 30,
      "outputs": [
        {
          "output_type": "stream",
          "text": [
            "Writing test.json\n"
          ],
          "name": "stdout"
        }
      ]
    },
    {
      "metadata": {
        "id": "0CCqGkaTxGdd",
        "colab_type": "code",
        "colab": {
          "base_uri": "https://localhost:8080/",
          "height": 34
        },
        "outputId": "8603f4b8-f7a1-4293-8590-772e543b4232"
      },
      "cell_type": "code",
      "source": [
        "!ls"
      ],
      "execution_count": 32,
      "outputs": [
        {
          "output_type": "stream",
          "text": [
            "adc.json  datalab  model_trained  sample_data  test.json\r\n"
          ],
          "name": "stdout"
        }
      ]
    },
    {
      "metadata": {
        "id": "MhbktwxXxNBD",
        "colab_type": "code",
        "colab": {
          "base_uri": "https://localhost:8080/",
          "height": 50
        },
        "outputId": "8ae33baf-37da-49e7-fe52-eeaca8e5095b"
      },
      "cell_type": "code",
      "source": [
        "%%bash\n",
        "EXPORTDIR=./model_trained/export/exporter/\n",
        "MODELDIR=$(ls $EXPORTDIR | tail -1)\n",
        "gcloud ml-engine local predict --model-dir=${EXPORTDIR}/${MODELDIR} --json-instances=./test.json"
      ],
      "execution_count": 33,
      "outputs": [
        {
          "output_type": "stream",
          "text": [
            "ERROR: (gcloud.ml-engine.local.predict) RuntimeError: Bad magic number in .pyc file\n",
            "\n"
          ],
          "name": "stderr"
        }
      ]
    },
    {
      "metadata": {
        "id": "hXV2Kg84xSt8",
        "colab_type": "code",
        "colab": {}
      },
      "cell_type": "code",
      "source": [
        ""
      ],
      "execution_count": 0,
      "outputs": []
    }
  ]
}