{
 "cells": [
  {
   "cell_type": "code",
   "execution_count": 1,
   "metadata": {
    "collapsed": false
   },
   "outputs": [],
   "source": [
    "#%matplotlib inline\n",
    "import numpy as np\n",
    "import pandas as pd"
   ]
  },
  {
   "cell_type": "code",
   "execution_count": 2,
   "metadata": {
    "collapsed": false
   },
   "outputs": [],
   "source": [
    "train = pd.read_csv('./input/digit_train.csv')\n",
    "test = pd.read_csv('./input/digit_test.csv')\n"
   ]
  },
  {
   "cell_type": "code",
   "execution_count": 3,
   "metadata": {
    "collapsed": false
   },
   "outputs": [],
   "source": [
    "train = train.head(1000)\n",
    "y_train = train.pop('label')\n",
    "X_train = train\n",
    "#print(train.describe())\n",
    "\n",
    "#print(X_train.head(2))\n",
    "#print(y_train)\n",
    "#print(test.head(2))\n",
    "#print(X_train.count)\n",
    "#print(y_train)\n"
   ]
  },
  {
   "cell_type": "code",
   "execution_count": 4,
   "metadata": {
    "collapsed": false
   },
   "outputs": [
    {
     "data": {
      "text/plain": [
       "SVC(C=1.0, cache_size=200, class_weight=None, coef0=0.0,\n",
       "  decision_function_shape=None, degree=3, gamma='auto', kernel='rbf',\n",
       "  max_iter=-1, probability=False, random_state=None, shrinking=True,\n",
       "  tol=0.001, verbose=False)"
      ]
     },
     "execution_count": 4,
     "metadata": {},
     "output_type": "execute_result"
    }
   ],
   "source": [
    "from sklearn.svm import SVC\n",
    "\n",
    "clf = SVC()\n",
    "clf.fit(X_train, y_train)"
   ]
  },
  {
   "cell_type": "code",
   "execution_count": 5,
   "metadata": {
    "collapsed": false
   },
   "outputs": [],
   "source": [
    "y_pred= clf.predict(test)\n",
    "#print(y_pred)\n",
    "\n",
    "#from sklearn.metrics import accuracy_score\n",
    "#accuracy_score(, y_pred)\n",
    "\n",
    "submission = pd.DataFrame(y_pred) \n",
    "#print (submission.head(4))\n",
    "submission.to_csv('submission_digit_recognizer.csv') "
   ]
  },
  {
   "cell_type": "code",
   "execution_count": 6,
   "metadata": {
    "collapsed": false
   },
   "outputs": [
    {
     "name": "stdout",
     "output_type": "stream",
     "text": [
      "[[ -629.40940428   730.39246625  -199.31178016]\n",
      " [ 1735.73027662   322.27427652   768.68645027]\n",
      " [ -841.00935264   302.77410709   -66.69483845]\n",
      " ..., \n",
      " [ -540.15548292  -802.48374617   301.00757383]\n",
      " [  290.9273804    253.81066619  -694.90507688]\n",
      " [ -437.23539858  -244.06691763   533.84204256]]\n"
     ]
    }
   ],
   "source": [
    "from sklearn import decomposition\n",
    "pca = decomposition.PCA(n_components=3)\n",
    "pca.fit(train)\n",
    "new_train = pca.transform(train)\n",
    "print(new_train)"
   ]
  },
  {
   "cell_type": "code",
   "execution_count": null,
   "metadata": {
    "collapsed": true
   },
   "outputs": [],
   "source": []
  }
 ],
 "metadata": {
  "kernelspec": {
   "display_name": "Python 2",
   "language": "python",
   "name": "python2"
  },
  "language_info": {
   "codemirror_mode": {
    "name": "ipython",
    "version": 2
   },
   "file_extension": ".py",
   "mimetype": "text/x-python",
   "name": "python",
   "nbconvert_exporter": "python",
   "pygments_lexer": "ipython2",
   "version": "2.7.9"
  }
 },
 "nbformat": 4,
 "nbformat_minor": 0
}
