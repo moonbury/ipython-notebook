{
 "cells": [
  {
   "cell_type": "code",
   "execution_count": 1,
   "metadata": {
    "collapsed": false
   },
   "outputs": [
    {
     "name": "stderr",
     "output_type": "stream",
     "text": [
      "/usr/local/lib/python3.4/dist-packages/matplotlib/font_manager.py:273: UserWarning: Matplotlib is building the font cache using fc-list. This may take a moment.\n",
      "  warnings.warn('Matplotlib is building the font cache using fc-list. This may take a moment.')\n",
      "/usr/local/lib/python3.4/dist-packages/matplotlib/font_manager.py:273: UserWarning: Matplotlib is building the font cache using fc-list. This may take a moment.\n",
      "  warnings.warn('Matplotlib is building the font cache using fc-list. This may take a moment.')\n"
     ]
    },
    {
     "name": "stdout",
     "output_type": "stream",
     "text": [
      "MetObjects.csv\n",
      "Video_Games_Sales_as_at_30_Nov_2016.csv\n",
      "digit.tar.gz\n",
      "leaf_data.tar.gz\n",
      "leaf_images.tar.gz\n",
      "\n"
     ]
    }
   ],
   "source": [
    "%matplotlib inline\n",
    "\n",
    "import numpy as np # linear algebra\n",
    "import pandas as pd # data processing, CSV file I/O (e.g. pd.read_csv)\n",
    "\n",
    "from subprocess import check_output\n",
    "print(check_output([\"ls\", \"./input\"]).decode(\"utf8\"))\n",
    "\n",
    "from pylab import rcParams\n",
    "rcParams['figure.figsize'] = (6, 6)      # setting default size of plots"
   ]
  },
  {
   "cell_type": "code",
   "execution_count": 216,
   "metadata": {
    "collapsed": false
   },
   "outputs": [
    {
     "name": "stdout",
     "output_type": "stream",
     "text": [
      "(990, 192)\n",
      "(594, 192)\n"
     ]
    }
   ],
   "source": [
    "from sklearn.preprocessing import LabelEncoder, StandardScaler\n",
    "\n",
    "train = pd.read_csv('./input/train.csv')\n",
    "test = pd.read_csv('./input/test.csv')\n",
    "X_train = train.drop(['species', 'id'], axis=1) \n",
    "le = LabelEncoder().fit(train['species']) \n",
    "y_train = le.transform(train['species']) \n",
    "\n",
    "X_test = test.drop(['id'], axis=1)\n",
    "test_ids = test.pop('id') #Id column for submission file\n",
    "\n",
    "print(X_train.shape)\n",
    "print(X_test.shape)\n"
   ]
  },
  {
   "cell_type": "code",
   "execution_count": 217,
   "metadata": {
    "collapsed": false
   },
   "outputs": [],
   "source": [
    "#from sklearn.decomposition import PCA\n",
    "\n",
    "#pca = PCA(n_components=120)\n",
    "#X_train = pca.fit_transform(X_train)\n",
    "#print(X_train.shape)"
   ]
  },
  {
   "cell_type": "code",
   "execution_count": 429,
   "metadata": {
    "collapsed": false
   },
   "outputs": [
    {
     "name": "stdout",
     "output_type": "stream",
     "text": [
      "184\n"
     ]
    }
   ],
   "source": [
    "from skimage import data, io\n",
    "from PIL import Image\n",
    "from skimage import measure\n",
    "from skimage.feature import corner_harris, corner_subpix, corner_peaks\n",
    "\n",
    "contours = []\n",
    "corners = []\n",
    "\n",
    "for i in range(1,991): \n",
    "    fname = './input/images/'+ str(i) + '.jpg'\n",
    "    im=Image.open(fname)\n",
    "    contour = measure.find_contours(im, 0.4)\n",
    "    contours.append(len(contour))\n",
    "    corner = corner_peaks(corner_harris(im), min_distance=5)\n",
    "    corners.append(len(corner))\n",
    "    \n",
    "print(len(contour))\n",
    "\n",
    "train['contour'] = contours\n",
    "train['corner'] = corners\n",
    "#print(contour)\n",
    "#print(corners)\n",
    "\n",
    "scaler.fit(X_train)\n",
    "X_train = scaler.transform(X_train)"
   ]
  },
  {
   "cell_type": "code",
   "execution_count": 437,
   "metadata": {
    "collapsed": false
   },
   "outputs": [],
   "source": [
    "from sklearn.svm import SVC, NuSVC\n",
    "\n",
    "classifier = SVC(kernel='linear', C=0.1,coef0=1, probability=True,random_state=101)\n",
    "#classifier = NuSVC(nu=0.1,gamma=10, probability=True,random_state=101)\n",
    "classifier.fit(X_train, y_train)\n",
    "\n",
    "#y_pred = classifier.predict(X_test)\n",
    "y_pred = classifier.predict_proba(X_train)\n",
    "#print(y_pred)\n",
    "#print(classifier.n_support_)\n",
    "#print(classifier.support_vectors_)\n",
    "#print(classifier.support_)"
   ]
  },
  {
   "cell_type": "code",
   "execution_count": 438,
   "metadata": {
    "collapsed": false,
    "scrolled": true
   },
   "outputs": [
    {
     "name": "stdout",
     "output_type": "stream",
     "text": [
      "Log loss: 1.9914\n",
      "Accuracy: 1.0000\n"
     ]
    }
   ],
   "source": [
    "#check log loss\n",
    "from sklearn.metrics import log_loss, accuracy_score\n",
    "#labels = LabelEncoder().fit(train['species'])\n",
    "y_pred_prob = classifier.predict_proba(X_train)\n",
    "y_pred = classifier.predict(X_train)\n",
    "\n",
    "print(\"Log loss: %0.4f\" % log_loss(y_train, y_pred_prob))\n",
    "print(\"Accuracy: %0.4f\" % accuracy_score(y_train, y_pred))\n",
    "#best: 1.80042\n",
    "#Log loss: 2.0623, 2.0455,0.1996\n",
    "#Accuracy: 0.9576,0.9636"
   ]
  },
  {
   "cell_type": "code",
   "execution_count": 439,
   "metadata": {
    "collapsed": false
   },
   "outputs": [
    {
     "name": "stdout",
     "output_type": "stream",
     "text": [
      "score:  0.989898989899\n"
     ]
    }
   ],
   "source": [
    "from sklearn import cross_validation\n",
    "import numpy as np\n",
    "scores = cross_validation.cross_val_score(classifier, X_train, y_train, cv=5)\n",
    "print(\"score: \", np.mean(scores))"
   ]
  },
  {
   "cell_type": "code",
   "execution_count": 433,
   "metadata": {
    "collapsed": false
   },
   "outputs": [
    {
     "name": "stdout",
     "output_type": "stream",
     "text": [
      "Best parameters: {'kernel': 'linear', 'C': 0.1}\n"
     ]
    }
   ],
   "source": [
    "from sklearn.grid_search import GridSearchCV\n",
    "params = {\"kernel\": (\"rbf\", \"linear\"), \"C\": [0.1, 0.3, 1, 3, 10, 30, 100,300]}\n",
    "#params = {\"kernel\": (\"rbf\", \"linear\"),\"nu\":[0.1,0.2,0.4,0.6,0.8,0.9], \"gamma\": [0.1, 0.3, 1, 3, 10, 30, 100,300]}\n",
    "clf = GridSearchCV(classifier, params, cv=5)\n",
    "clf.fit(X_train, y_train)\n",
    "print(\"Best parameters: \" + str(clf.best_params_))"
   ]
  },
  {
   "cell_type": "code",
   "execution_count": 440,
   "metadata": {
    "collapsed": false
   },
   "outputs": [
    {
     "name": "stdout",
     "output_type": "stream",
     "text": [
      "0.989898989899\n",
      "SVC(C=0.1, cache_size=200, class_weight=None, coef0=1, degree=3, gamma=0.0,\n",
      "  kernel='linear', max_iter=-1, probability=True, random_state=101,\n",
      "  shrinking=True, tol=0.001, verbose=False)\n"
     ]
    }
   ],
   "source": [
    "print(clf.best_score_)\n",
    "print(clf.best_estimator_)"
   ]
  },
  {
   "cell_type": "code",
   "execution_count": 441,
   "metadata": {
    "collapsed": false
   },
   "outputs": [
    {
     "name": "stdout",
     "output_type": "stream",
     "text": [
      "(594, 192)\n"
     ]
    }
   ],
   "source": [
    "print(X_test.shape)\n",
    "\n",
    "y_pred = classifier.predict_proba(X_test)\n",
    "submission = pd.DataFrame(y_pred, index=test_ids, columns=le.classes_) \n",
    "#print (submission.head(4))\n",
    "submission.to_csv('submission_leaf_classification_SVC.csv') "
   ]
  },
  {
   "cell_type": "code",
   "execution_count": 108,
   "metadata": {
    "collapsed": false
   },
   "outputs": [
    {
     "data": {
      "image/png": "[encoded data removed]",
      "text/plain": [
       "<matplotlib.figure.Figure at 0x7fb9bdfd4470>"
      ]
     },
     "metadata": {},
     "output_type": "display_data"
    },
    {
     "name": "stdout",
     "output_type": "stream",
     "text": [
      "(443, 502) 222386\n",
      "11255\n",
      "<_io.BufferedReader name='./input/images/324.jpg'>\n"
     ]
    }
   ],
   "source": [
    "# read images\n",
    "from PIL import Image\n",
    "import glob\n",
    "from skimage import data, io\n",
    "#from skimage.feature import canny\n",
    "from skimage.filter import sobel\n",
    "fname='./input/images/324.jpg'\n",
    "im=Image.open(fname)\n",
    "\n",
    "#edges = canny(im)\n",
    "edges = sobel(im)\n",
    "io.imshow(edges)\n",
    "io.show()\n",
    "\n",
    "print(edges.shape, edges.shape[0] * edges.shape[1])\n",
    "import numpy as np\n",
    "print(np.count_nonzero(edges))\n",
    "\n",
    "from skimage import io\n",
    "\n",
    "f = open(fname, 'rb')\n",
    "print(f)"
   ]
  },
  {
   "cell_type": "raw",
   "metadata": {},
   "source": [
    "from skimage import measure\n",
    "\n",
    "fname='./input/images/322.jpg'\n",
    "im=Image.open(fname)\n",
    "\n",
    "contours = measure.find_contours(im, 0.4)\n",
    "import matplotlib.pyplot as plt\n",
    "#print(contours)\n",
    "fig, ax = plt.subplots()\n",
    "print(len(contours))\n",
    "#ax.imshow(im, interpolation='nearest', cmap=plt.cm.gray)\n",
    "\n",
    "for n, contour in enumerate(contours):\n",
    "    ax.plot(contour[:, 1], contour[:, 0], linewidth=2)\n"
   ]
  },
  {
   "cell_type": "code",
   "execution_count": 109,
   "metadata": {
    "collapsed": false
   },
   "outputs": [
    {
     "name": "stdout",
     "output_type": "stream",
     "text": [
      "1005\n"
     ]
    },
    {
     "data": {
      "image/png": "[encoded data removed]",
      "text/plain": [
       "<matplotlib.figure.Figure at 0x7fb9be3f7390>"
      ]
     },
     "metadata": {},
     "output_type": "display_data"
    }
   ],
   "source": [
    "from skimage import measure\n",
    "\n",
    "fname='./input/images/322.jpg'\n",
    "im=Image.open(fname)\n",
    "\n",
    "contours = measure.find_contours(im, 0.4)\n",
    "import matplotlib.pyplot as plt\n",
    "#print(contours)\n",
    "fig, ax = plt.subplots()\n",
    "print(len(contours))\n",
    "ax.imshow(im, interpolation='nearest', cmap=plt.cm.gray)\n",
    "\n",
    "for n, contour in enumerate(contours):\n",
    "    ax.plot(contour[:, 1], contour[:, 0], linewidth=2)"
   ]
  },
  {
   "cell_type": "code",
   "execution_count": 110,
   "metadata": {
    "collapsed": false
   },
   "outputs": [],
   "source": [
    "contour = []\n",
    "for i in range(1,1585): \n",
    "    fname = './input/images/'+ str(i) + '.jpg'\n",
    "    im=Image.open(fname)\n",
    "    contours = measure.find_contours(im, 0.4)\n",
    "    contour.append(len(contours))\n",
    "    \n"
   ]
  },
  {
   "cell_type": "code",
   "execution_count": 111,
   "metadata": {
    "collapsed": false
   },
   "outputs": [
    {
     "data": {
      "text/plain": [
       "1584"
      ]
     },
     "execution_count": 111,
     "metadata": {},
     "output_type": "execute_result"
    }
   ],
   "source": [
    "len(contour)"
   ]
  },
  {
   "cell_type": "code",
   "execution_count": 155,
   "metadata": {
    "collapsed": false
   },
   "outputs": [
    {
     "name": "stdout",
     "output_type": "stream",
     "text": [
      "169 (64, 2) (64, 2)\n"
     ]
    },
    {
     "data": {
      "image/png": "[encoded data removed]",
      "text/plain": [
       "<matplotlib.figure.Figure at 0x7fb9be117a58>"
      ]
     },
     "metadata": {},
     "output_type": "display_data"
    }
   ],
   "source": [
    "from skimage.feature import corner_harris, corner_subpix, corner_peaks\n",
    "\n",
    "\n",
    "fname = './input/images/142.jpg'\n",
    "im=Image.open(fname)\n",
    "    \n",
    "contours = measure.find_contours(im, 0.4)\n",
    "coords = corner_peaks(corner_harris(im), min_distance=5)\n",
    "coords_subpix = corner_subpix(im, coords, window_size=13)\n",
    "\n",
    "print (len(contours),coords.shape,coords_subpix.shape)\n",
    "fig, ax = plt.subplots()\n",
    "ax.imshow(im, interpolation='nearest', cmap=plt.cm.gray)\n",
    "ax.plot(coords[:, 1], coords[:, 0], '+y', markersize=10)\n",
    "ax.plot(coords_subpix[:, 1], coords_subpix[:, 0], '+r', markersize=15)\n",
    "#ax.axis((0, 350, 350, 0))\n",
    "plt.show()"
   ]
  },
  {
   "cell_type": "code",
   "execution_count": 427,
   "metadata": {
    "collapsed": false
   },
   "outputs": [
    {
     "name": "stdout",
     "output_type": "stream",
     "text": [
      "Training model...\n",
      "Best parameters: {'kernel': 'linear', 'C': 0.1}\n",
      "0.978 (+/-0.008) for {'kernel': 'rbf', 'C': 0.1}\n",
      "[ 0.96969697  0.98484848  0.96969697  0.97474747  0.98989899]\n",
      "0.990 (+/-0.006) for {'kernel': 'linear', 'C': 0.1}\n",
      "[ 0.98989899  0.98989899  0.97979798  0.98989899  1.        ]\n",
      "0.979 (+/-0.009) for {'kernel': 'rbf', 'C': 0.3}\n",
      "[ 0.96969697  0.98989899  0.96969697  0.97474747  0.98989899]\n",
      "0.990 (+/-0.006) for {'kernel': 'linear', 'C': 0.3}\n",
      "[ 0.98989899  0.98989899  0.97979798  0.98989899  1.        ]\n",
      "0.987 (+/-0.008) for {'kernel': 'rbf', 'C': 1}\n",
      "[ 0.98484848  0.98484848  0.97474747  0.98989899  1.        ]\n",
      "0.990 (+/-0.006) for {'kernel': 'linear', 'C': 1}\n",
      "[ 0.98989899  0.98989899  0.97979798  0.98989899  1.        ]\n",
      "0.990 (+/-0.007) for {'kernel': 'rbf', 'C': 3}\n",
      "[ 0.98989899  0.98484848  0.97979798  0.99494949  1.        ]\n",
      "0.990 (+/-0.006) for {'kernel': 'linear', 'C': 3}\n",
      "[ 0.98989899  0.98989899  0.97979798  0.98989899  1.        ]\n",
      "0.989 (+/-0.007) for {'kernel': 'rbf', 'C': 10}\n",
      "[ 0.98989899  0.98484848  0.97979798  0.98989899  1.        ]\n",
      "0.990 (+/-0.006) for {'kernel': 'linear', 'C': 10}\n",
      "[ 0.98989899  0.98989899  0.97979798  0.98989899  1.        ]\n",
      "0.989 (+/-0.007) for {'kernel': 'rbf', 'C': 30}\n",
      "[ 0.98989899  0.98484848  0.97979798  0.98989899  1.        ]\n",
      "0.990 (+/-0.006) for {'kernel': 'linear', 'C': 30}\n",
      "[ 0.98989899  0.98989899  0.97979798  0.98989899  1.        ]\n",
      "0.989 (+/-0.007) for {'kernel': 'rbf', 'C': 100}\n",
      "[ 0.98989899  0.98484848  0.97979798  0.98989899  1.        ]\n",
      "0.990 (+/-0.006) for {'kernel': 'linear', 'C': 100}\n",
      "[ 0.98989899  0.98989899  0.97979798  0.98989899  1.        ]\n",
      "Predicting test set...\n"
     ]
    }
   ],
   "source": [
    "import pandas as pd\n",
    "import numpy as np\n",
    "\n",
    "from sklearn.svm import SVC\n",
    "from sklearn.preprocessing import LabelEncoder, StandardScaler\n",
    "from sklearn.grid_search import GridSearchCV\n",
    "\n",
    "train = pd.read_csv('./input/train.csv')\n",
    "test = pd.read_csv('./input/test.csv')\n",
    "\n",
    "le = LabelEncoder()\n",
    "le.fit(train.species)\n",
    "\n",
    "scaler = StandardScaler()\n",
    "\n",
    "X_train = train.drop([\"id\", \"species\"], axis=1).as_matrix()\n",
    "y_train = le.transform(train.species)\n",
    "X_test = test.drop([\"id\"], axis=1).as_matrix()\n",
    "\n",
    "scaler.fit(X_train)\n",
    "X_train = scaler.transform(X_train)\n",
    "\n",
    "print(\"Training model...\")\n",
    "params = {\"kernel\": (\"rbf\", \"linear\"), \"C\": [0.1, 0.3, 1, 3, 10, 30, 100]}\n",
    "svm = SVC()\n",
    "clf = GridSearchCV(svm, params, cv=5)\n",
    "clf.fit(X_train, y_train)\n",
    "\n",
    "print(\"Best parameters: \" + str(clf.best_params_))\n",
    "for params, mean_score, scores in clf.grid_scores_:\n",
    "    print(\"%0.3f (+/-%0.03f) for %r\" % (mean_score, scores.std(), params))\n",
    "    print(scores)\n",
    "\n",
    "print(\"Predicting test set...\")\n",
    "results = clf.predict(scaler.transform(X_test))\n",
    "r = np.zeros([len(X_test), len(le.classes_)])\n",
    "\n",
    "for i, v in enumerate(results):\n",
    "    r[i, v] = 1\n",
    "\n",
    "submit = pd.DataFrame(r, index=test.id, columns=le.classes_)\n",
    "submit.to_csv('submit.csv')"
   ]
  },
  {
   "cell_type": "code",
   "execution_count": null,
   "metadata": {
    "collapsed": true
   },
   "outputs": [],
   "source": []
  }
 ],
 "metadata": {
  "kernelspec": {
   "display_name": "Python 3.4",
   "language": "python",
   "name": "python3.4"
  },
  "language_info": {
   "codemirror_mode": {
    "name": "ipython",
    "version": 3
   },
   "file_extension": ".py",
   "mimetype": "text/x-python",
   "name": "python",
   "nbconvert_exporter": "python",
   "pygments_lexer": "ipython3",
   "version": "3.4.3"
  }
 },
 "nbformat": 4,
 "nbformat_minor": 0
}
