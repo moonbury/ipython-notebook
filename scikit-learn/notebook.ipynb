{
 "cells": [
  {
   "cell_type": "code",
   "execution_count": 4,
   "metadata": {
    "collapsed": false
   },
   "outputs": [
    {
     "name": "stdout",
     "output_type": "stream",
     "text": [
      "{'data': array([[-1.46236 , -0.645135, -0.835925, ..., -0.596842, -0.471106,\n",
      "        -0.959575],\n",
      "       [-0.664799,  0.206146, -0.368575, ..., -0.865241, -0.664888,\n",
      "        -0.543433],\n",
      "       [-0.200487,  0.379941, -2.38278 , ..., -0.496304, -0.433475,\n",
      "        -0.896774],\n",
      "       ..., \n",
      "       [ 1.09604 ,  1.64385 ,  0.681936, ...,  0.973412, -0.264428,  1.8375  ],\n",
      "       [ 0.50366 ,  0.426793,  0.294282, ...,  0.036783, -0.541209,\n",
      "         0.358362],\n",
      "       [-0.455835, -0.071517, -0.526423, ..., -0.110748, -0.339931,\n",
      "        -0.068667]]), 'COL_NAMES': ['label', 'data'], 'DESCR': 'mldata.org dataset: leukemia', 'target': array([ 1,  1,  1,  1,  1,  1,  1,  1,  1,  1,  1,  1,  1,  1,  1,  1,  1,\n",
      "        1,  1,  1,  1,  1,  1,  1,  1,  1,  1, -1, -1, -1, -1, -1, -1, -1,\n",
      "       -1, -1, -1, -1,  1,  1,  1,  1,  1,  1,  1,  1,  1,  1,  1, -1, -1,\n",
      "       -1, -1, -1,  1,  1, -1, -1,  1, -1, -1, -1, -1, -1, -1, -1,  1,  1,\n",
      "        1,  1,  1,  1])}\n"
     ]
    }
   ],
   "source": [
    "import numpy as np\n",
    "from sklearn.datasets import fetch_mldata\n",
    "data = fetch_mldata('leukemia')\n",
    "print(data)"
   ]
  },
  {
   "cell_type": "code",
   "execution_count": 2,
   "metadata": {
    "collapsed": true
   },
   "outputs": [],
   "source": [
    "quickref"
   ]
  },
  {
   "cell_type": "code",
   "execution_count": 3,
   "metadata": {
    "collapsed": false
   },
   "outputs": [
    {
     "name": "stdout",
     "output_type": "stream",
     "text": [
      "0.18.2\n"
     ]
    }
   ],
   "source": [
    "import sklearn\n",
    "print(sklearn.__version__)"
   ]
  },
  {
   "cell_type": "code",
   "execution_count": null,
   "metadata": {
    "collapsed": true
   },
   "outputs": [],
   "source": []
  }
 ],
 "metadata": {
  "kernelspec": {
   "display_name": "Python 2",
   "language": "python",
   "name": "python2"
  }
 },
 "nbformat": 4,
 "nbformat_minor": 0
}
